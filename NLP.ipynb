{
  "nbformat": 4,
  "nbformat_minor": 0,
  "metadata": {
    "colab": {
      "name": "NLP.ipynb",
      "provenance": [],
      "collapsed_sections": []
    },
    "kernelspec": {
      "name": "python3",
      "display_name": "Python 3"
    }
  },
  "cells": [
    {
      "cell_type": "markdown",
      "metadata": {
        "id": "u9NacC-V4526",
        "colab_type": "text"
      },
      "source": [
        "NLP Sentiment Classification"
      ]
    },
    {
      "cell_type": "code",
      "metadata": {
        "id": "MOJUmUGS91c2",
        "colab_type": "code",
        "colab": {}
      },
      "source": [
        "import keras\n",
        "from keras.datasets import imdb\n",
        "from keras.models import Sequential\n",
        "from keras.layers import LSTM, Dense, TimeDistributed\n",
        "from keras.layers import Flatten\n",
        "from keras.layers.embeddings import Embedding\n",
        "from keras.preprocessing import sequence\n",
        "import numpy as np"
      ],
      "execution_count": 1,
      "outputs": []
    },
    {
      "cell_type": "markdown",
      "metadata": {
        "id": "VNcnb_gC5FO2",
        "colab_type": "text"
      },
      "source": [
        "Import the data\n",
        "\n",
        "\n",
        "*   Get train and test data.\n",
        "*   Take 10000 most frequent words.\n",
        "\n"
      ]
    },
    {
      "cell_type": "code",
      "metadata": {
        "id": "VjWnTLZL5Ea_",
        "colab_type": "code",
        "colab": {
          "base_uri": "https://localhost:8080/",
          "height": 51
        },
        "outputId": "7f181eb2-67f2-43de-b96a-7f251d4140d7"
      },
      "source": [
        "VocabSize = 10000\n",
        "(X_train,y_train),(X_test,y_test) = imdb.load_data(num_words=VocabSize)"
      ],
      "execution_count": 2,
      "outputs": [
        {
          "output_type": "stream",
          "text": [
            "Downloading data from https://storage.googleapis.com/tensorflow/tf-keras-datasets/imdb.npz\n",
            "17465344/17464789 [==============================] - 0s 0us/step\n"
          ],
          "name": "stdout"
        }
      ]
    },
    {
      "cell_type": "code",
      "metadata": {
        "id": "KHYXphK68oNH",
        "colab_type": "code",
        "colab": {
          "base_uri": "https://localhost:8080/",
          "height": 85
        },
        "outputId": "7868a850-78ac-4e8c-f680-4c5714bfb7f9"
      },
      "source": [
        "print(\"The shape of X_train is:\", X_train.shape)\n",
        "print(\"The shape of y_train is:\", y_train.shape)\n",
        "print(\"The shape of X_test is:\", X_test.shape)\n",
        "print(\"The shape of y_test is:\", y_test.shape)"
      ],
      "execution_count": 3,
      "outputs": [
        {
          "output_type": "stream",
          "text": [
            "The shape of X_train is: (25000,)\n",
            "The shape of y_train is: (25000,)\n",
            "The shape of X_test is: (25000,)\n",
            "The shape of y_test is: (25000,)\n"
          ],
          "name": "stdout"
        }
      ]
    },
    {
      "cell_type": "markdown",
      "metadata": {
        "id": "-A8mq77k9hzZ",
        "colab_type": "text"
      },
      "source": [
        "Pad each sentence to be of same length\n",
        "\n",
        "\n",
        "*   Take maximum sequent length as 300\n",
        "\n",
        "\n"
      ]
    },
    {
      "cell_type": "code",
      "metadata": {
        "id": "g1bbNSLq6BT_",
        "colab_type": "code",
        "colab": {}
      },
      "source": [
        "seq_length = 300\n",
        "X_train = sequence.pad_sequences(X_train, maxlen = seq_length)\n",
        "X_test = sequence.pad_sequences(X_test, maxlen = seq_length)"
      ],
      "execution_count": 4,
      "outputs": []
    },
    {
      "cell_type": "markdown",
      "metadata": {
        "id": "nlpNS2FF-23X",
        "colab_type": "text"
      },
      "source": [
        "Print shape of features and labels"
      ]
    },
    {
      "cell_type": "markdown",
      "metadata": {
        "id": "ENEGQriTUDXa",
        "colab_type": "text"
      },
      "source": [
        "Number of review, number of words in each review"
      ]
    },
    {
      "cell_type": "code",
      "metadata": {
        "id": "lgX5W6cZ-g-w",
        "colab_type": "code",
        "colab": {
          "base_uri": "https://localhost:8080/",
          "height": 51
        },
        "outputId": "f2fca85d-a405-49d5-a398-02bffd17edae"
      },
      "source": [
        "print(\"The number of reviews in training data set is:\", X_train.shape[0])\n",
        "print(\"The number of words in each review in training data set is:\", X_train.shape[1])"
      ],
      "execution_count": 5,
      "outputs": [
        {
          "output_type": "stream",
          "text": [
            "The number of reviews in training data set is: 25000\n",
            "The number of words in each review in training data set is: 300\n"
          ],
          "name": "stdout"
        }
      ]
    },
    {
      "cell_type": "code",
      "metadata": {
        "id": "v4fReopj_PLO",
        "colab_type": "code",
        "colab": {
          "base_uri": "https://localhost:8080/",
          "height": 51
        },
        "outputId": "a0d96b5f-a16b-4a09-8065-47a3d2aab4dd"
      },
      "source": [
        "print(\"The number of reviews in testing data set is:\", X_test.shape[0])\n",
        "print(\"The number of words in each review in testing data set is:\", X_test.shape[1])"
      ],
      "execution_count": 6,
      "outputs": [
        {
          "output_type": "stream",
          "text": [
            "The number of reviews in testing data set is: 25000\n",
            "The number of words in each review in testing data set is: 300\n"
          ],
          "name": "stdout"
        }
      ]
    },
    {
      "cell_type": "markdown",
      "metadata": {
        "id": "mTudUwTg_YL9",
        "colab_type": "text"
      },
      "source": [
        "Number of labels"
      ]
    },
    {
      "cell_type": "code",
      "metadata": {
        "id": "gDarty-x_atG",
        "colab_type": "code",
        "colab": {
          "base_uri": "https://localhost:8080/",
          "height": 34
        },
        "outputId": "5badb9fe-ce07-4b4a-cd28-adf26d4ce445"
      },
      "source": [
        "print(\"The number of labels in training data set is:\", len(np.unique(y_train)))"
      ],
      "execution_count": 7,
      "outputs": [
        {
          "output_type": "stream",
          "text": [
            "The number of labels in training data set is: 2\n"
          ],
          "name": "stdout"
        }
      ]
    },
    {
      "cell_type": "code",
      "metadata": {
        "id": "MvfzRX84_pFF",
        "colab_type": "code",
        "colab": {
          "base_uri": "https://localhost:8080/",
          "height": 34
        },
        "outputId": "5796d1df-202b-4e61-9198-4968a5e45e14"
      },
      "source": [
        "print(\"The number of labels in testing data set is:\", len(np.unique(y_test)))"
      ],
      "execution_count": 8,
      "outputs": [
        {
          "output_type": "stream",
          "text": [
            "The number of labels in testing data set is: 2\n"
          ],
          "name": "stdout"
        }
      ]
    },
    {
      "cell_type": "markdown",
      "metadata": {
        "id": "q0YvQviB_vr-",
        "colab_type": "text"
      },
      "source": [
        "Print value of any one feature and its label"
      ]
    },
    {
      "cell_type": "code",
      "metadata": {
        "id": "FL6mmgzsJ5dd",
        "colab_type": "code",
        "colab": {}
      },
      "source": [
        "i = 0"
      ],
      "execution_count": 9,
      "outputs": []
    },
    {
      "cell_type": "markdown",
      "metadata": {
        "id": "qjcvSqaG_zSX",
        "colab_type": "text"
      },
      "source": [
        "Feature value"
      ]
    },
    {
      "cell_type": "code",
      "metadata": {
        "id": "4MAgcWuh7LSf",
        "colab_type": "code",
        "colab": {
          "base_uri": "https://localhost:8080/",
          "height": 493
        },
        "outputId": "87f59d7d-4efc-442f-c6a1-3a2f71b25092"
      },
      "source": [
        "X_train[i]"
      ],
      "execution_count": 10,
      "outputs": [
        {
          "output_type": "execute_result",
          "data": {
            "text/plain": [
              "array([   0,    0,    0,    0,    0,    0,    0,    0,    0,    0,    0,\n",
              "          0,    0,    0,    0,    0,    0,    0,    0,    0,    0,    0,\n",
              "          0,    0,    0,    0,    0,    0,    0,    0,    0,    0,    0,\n",
              "          0,    0,    0,    0,    0,    0,    0,    0,    0,    0,    0,\n",
              "          0,    0,    0,    0,    0,    0,    0,    0,    0,    0,    0,\n",
              "          0,    0,    0,    0,    0,    0,    0,    0,    0,    0,    0,\n",
              "          0,    0,    0,    0,    0,    0,    0,    0,    0,    0,    0,\n",
              "          0,    0,    0,    0,    0,    1,   14,   22,   16,   43,  530,\n",
              "        973, 1622, 1385,   65,  458, 4468,   66, 3941,    4,  173,   36,\n",
              "        256,    5,   25,  100,   43,  838,  112,   50,  670,    2,    9,\n",
              "         35,  480,  284,    5,  150,    4,  172,  112,  167,    2,  336,\n",
              "        385,   39,    4,  172, 4536, 1111,   17,  546,   38,   13,  447,\n",
              "          4,  192,   50,   16,    6,  147, 2025,   19,   14,   22,    4,\n",
              "       1920, 4613,  469,    4,   22,   71,   87,   12,   16,   43,  530,\n",
              "         38,   76,   15,   13, 1247,    4,   22,   17,  515,   17,   12,\n",
              "         16,  626,   18,    2,    5,   62,  386,   12,    8,  316,    8,\n",
              "        106,    5,    4, 2223, 5244,   16,  480,   66, 3785,   33,    4,\n",
              "        130,   12,   16,   38,  619,    5,   25,  124,   51,   36,  135,\n",
              "         48,   25, 1415,   33,    6,   22,   12,  215,   28,   77,   52,\n",
              "          5,   14,  407,   16,   82,    2,    8,    4,  107,  117, 5952,\n",
              "         15,  256,    4,    2,    7, 3766,    5,  723,   36,   71,   43,\n",
              "        530,  476,   26,  400,  317,   46,    7,    4,    2, 1029,   13,\n",
              "        104,   88,    4,  381,   15,  297,   98,   32, 2071,   56,   26,\n",
              "        141,    6,  194, 7486,   18,    4,  226,   22,   21,  134,  476,\n",
              "         26,  480,    5,  144,   30, 5535,   18,   51,   36,   28,  224,\n",
              "         92,   25,  104,    4,  226,   65,   16,   38, 1334,   88,   12,\n",
              "         16,  283,    5,   16, 4472,  113,  103,   32,   15,   16, 5345,\n",
              "         19,  178,   32], dtype=int32)"
            ]
          },
          "metadata": {
            "tags": []
          },
          "execution_count": 10
        }
      ]
    },
    {
      "cell_type": "markdown",
      "metadata": {
        "id": "vRhzn0PqAlFN",
        "colab_type": "text"
      },
      "source": [
        "Label value"
      ]
    },
    {
      "cell_type": "code",
      "metadata": {
        "id": "ZzAgF1oZ_55W",
        "colab_type": "code",
        "colab": {
          "base_uri": "https://localhost:8080/",
          "height": 34
        },
        "outputId": "a20b8d72-d8ff-4305-c6ec-96133ef33de0"
      },
      "source": [
        "y_train[i]"
      ],
      "execution_count": 11,
      "outputs": [
        {
          "output_type": "execute_result",
          "data": {
            "text/plain": [
              "1"
            ]
          },
          "metadata": {
            "tags": []
          },
          "execution_count": 11
        }
      ]
    },
    {
      "cell_type": "markdown",
      "metadata": {
        "id": "dNCX4vNxAoT_",
        "colab_type": "text"
      },
      "source": [
        "Decode the feature value to get original sentence"
      ]
    },
    {
      "cell_type": "markdown",
      "metadata": {
        "id": "YY12Ln49AsdN",
        "colab_type": "text"
      },
      "source": [
        "First, retrieve a dictionary that contains mapping of words to their index in the IMDB dataset"
      ]
    },
    {
      "cell_type": "code",
      "metadata": {
        "id": "5sBXvOzW7NJO",
        "colab_type": "code",
        "colab": {
          "base_uri": "https://localhost:8080/",
          "height": 51
        },
        "outputId": "a27a8d0f-b597-4ed8-a318-b7409705158a"
      },
      "source": [
        "map_word = keras.datasets.imdb.get_word_index()"
      ],
      "execution_count": 12,
      "outputs": [
        {
          "output_type": "stream",
          "text": [
            "Downloading data from https://storage.googleapis.com/tensorflow/tf-keras-datasets/imdb_word_index.json\n",
            "1646592/1641221 [==============================] - 0s 0us/step\n"
          ],
          "name": "stdout"
        }
      ]
    },
    {
      "cell_type": "markdown",
      "metadata": {
        "id": "8c--sChuCgoJ",
        "colab_type": "text"
      },
      "source": [
        "Now, use the dictionary to get the original words from the encodings, for a particular sentence"
      ]
    },
    {
      "cell_type": "code",
      "metadata": {
        "id": "dpYYd5JXAr1E",
        "colab_type": "code",
        "colab": {
          "base_uri": "https://localhost:8080/",
          "height": 54
        },
        "outputId": "88e56f1c-ca54-47dd-aaf9-0be928b5cd2e"
      },
      "source": [
        "id_to_word = {value:key for key,value in map_word.items()}\n",
        "decoded = \"\"\n",
        "for w in X_train[i]:\n",
        "  if w != 0:\n",
        "    word = id_to_word.get(w)\n",
        "    decoded += ' %s' % (word)\n",
        "print(decoded)"
      ],
      "execution_count": 13,
      "outputs": [
        {
          "output_type": "stream",
          "text": [
            " the as you with out themselves powerful lets loves their becomes reaching had journalist of lot from anyone to have after out atmosphere never more room and it so heart shows to years of every never going and help moments or of every chest visual movie except her was several of enough more with is now current film as you of mine potentially unfortunately of you than him that with out themselves her get for was camp of you movie sometimes movie that with scary but and to story wonderful that in seeing in character to of 70s musicians with heart had shadows they of here that with her serious to have does when from why what have critics they is you that isn't one will very to as itself with other and in of seen over landed for anyone of and br show's to whether from than out themselves history he name half some br of and odd was two most of mean for 1 any an boat she he should is thought frog but of script you not while history he heart to real at barrel but when from one bit then have two of script their with her nobody most that with wasn't to with armed acting watch an for with heartfelt film want an\n"
          ],
          "name": "stdout"
        }
      ]
    },
    {
      "cell_type": "markdown",
      "metadata": {
        "id": "dwrWGEXxE__I",
        "colab_type": "text"
      },
      "source": [
        "Get the sentiment for the above sentence\n",
        "\n",
        "\n",
        "*   positive(1)\n",
        "*   negative(0)\n",
        "\n"
      ]
    },
    {
      "cell_type": "code",
      "metadata": {
        "id": "2n2sNvrRDXp4",
        "colab_type": "code",
        "colab": {
          "base_uri": "https://localhost:8080/",
          "height": 34
        },
        "outputId": "b770fad6-55c7-4628-f03a-4c3c5cf381fe"
      },
      "source": [
        "if y_train[i] == 1:\n",
        "  print(\"Positive review\")\n",
        "else:\n",
        "  print(\"Negative Review\")"
      ],
      "execution_count": 14,
      "outputs": [
        {
          "output_type": "stream",
          "text": [
            "Positive review\n"
          ],
          "name": "stdout"
        }
      ]
    },
    {
      "cell_type": "markdown",
      "metadata": {
        "id": "UGAUfSK-RYnN",
        "colab_type": "text"
      },
      "source": [
        "Define Model"
      ]
    },
    {
      "cell_type": "code",
      "metadata": {
        "id": "H01avDynFe6B",
        "colab_type": "code",
        "colab": {}
      },
      "source": [
        "embed_dim = 100\n",
        "model = Sequential()\n",
        "model.add(Embedding(VocabSize, embed_dim, input_length=X_train.shape[1]))\n",
        "model.add(LSTM(100,dropout = 0.2, recurrent_dropout = 0.2, return_sequences=True))\n",
        "model.add(TimeDistributed(Dense(100)))\n",
        "model.add(Flatten())\n",
        "model.add(Dense(1, activation=\"sigmoid\"))"
      ],
      "execution_count": 15,
      "outputs": []
    },
    {
      "cell_type": "markdown",
      "metadata": {
        "id": "dUvjvlJBVjAZ",
        "colab_type": "text"
      },
      "source": [
        "Compile the model"
      ]
    },
    {
      "cell_type": "code",
      "metadata": {
        "id": "zPfzm6MeamoR",
        "colab_type": "code",
        "colab": {}
      },
      "source": [
        "model.compile(optimizer=\"Adam\", loss=\"binary_crossentropy\", metrics=[\"accuracy\"])"
      ],
      "execution_count": 16,
      "outputs": []
    },
    {
      "cell_type": "markdown",
      "metadata": {
        "id": "VXBp0uatVlh3",
        "colab_type": "text"
      },
      "source": [
        "Print model summary"
      ]
    },
    {
      "cell_type": "code",
      "metadata": {
        "id": "vXksaJA7cKeo",
        "colab_type": "code",
        "colab": {
          "base_uri": "https://localhost:8080/",
          "height": 323
        },
        "outputId": "52099a40-efed-493e-e080-9b5f5f3765b9"
      },
      "source": [
        "model.summary()"
      ],
      "execution_count": 17,
      "outputs": [
        {
          "output_type": "stream",
          "text": [
            "Model: \"sequential\"\n",
            "_________________________________________________________________\n",
            "Layer (type)                 Output Shape              Param #   \n",
            "=================================================================\n",
            "embedding (Embedding)        (None, 300, 100)          1000000   \n",
            "_________________________________________________________________\n",
            "lstm (LSTM)                  (None, 300, 100)          80400     \n",
            "_________________________________________________________________\n",
            "time_distributed (TimeDistri (None, 300, 100)          10100     \n",
            "_________________________________________________________________\n",
            "flatten (Flatten)            (None, 30000)             0         \n",
            "_________________________________________________________________\n",
            "dense_1 (Dense)              (None, 1)                 30001     \n",
            "=================================================================\n",
            "Total params: 1,120,501\n",
            "Trainable params: 1,120,501\n",
            "Non-trainable params: 0\n",
            "_________________________________________________________________\n"
          ],
          "name": "stdout"
        }
      ]
    },
    {
      "cell_type": "markdown",
      "metadata": {
        "id": "VPmgWR5oVorX",
        "colab_type": "text"
      },
      "source": [
        "Fit the model"
      ]
    },
    {
      "cell_type": "code",
      "metadata": {
        "id": "SBAM7gTOcMzy",
        "colab_type": "code",
        "colab": {
          "base_uri": "https://localhost:8080/",
          "height": 204
        },
        "outputId": "3c2f7d84-f778-46a1-8b48-417797082b42"
      },
      "source": [
        "model.fit(X_train, np.array(y_train), batch_size=32, epochs=5, validation_data=(X_test,np.array(y_test)), verbose=1)"
      ],
      "execution_count": 18,
      "outputs": [
        {
          "output_type": "stream",
          "text": [
            "Epoch 1/5\n",
            "782/782 [==============================] - 454s 580ms/step - loss: 0.3471 - accuracy: 0.8390 - val_loss: 0.2771 - val_accuracy: 0.8836\n",
            "Epoch 2/5\n",
            "782/782 [==============================] - 455s 582ms/step - loss: 0.1833 - accuracy: 0.9286 - val_loss: 0.2863 - val_accuracy: 0.8832\n",
            "Epoch 3/5\n",
            "782/782 [==============================] - 454s 581ms/step - loss: 0.0924 - accuracy: 0.9653 - val_loss: 0.3925 - val_accuracy: 0.8638\n",
            "Epoch 4/5\n",
            "782/782 [==============================] - 458s 586ms/step - loss: 0.0353 - accuracy: 0.9883 - val_loss: 0.6352 - val_accuracy: 0.8680\n",
            "Epoch 5/5\n",
            "782/782 [==============================] - 456s 583ms/step - loss: 0.0299 - accuracy: 0.9885 - val_loss: 0.7398 - val_accuracy: 0.8632\n"
          ],
          "name": "stdout"
        },
        {
          "output_type": "execute_result",
          "data": {
            "text/plain": [
              "<tensorflow.python.keras.callbacks.History at 0x7f8e13cfdc88>"
            ]
          },
          "metadata": {
            "tags": []
          },
          "execution_count": 18
        }
      ]
    },
    {
      "cell_type": "code",
      "metadata": {
        "id": "XGlb5eV4cfMf",
        "colab_type": "code",
        "colab": {}
      },
      "source": [
        "test_pred = model.predict(X_test, batch_size=32)"
      ],
      "execution_count": 19,
      "outputs": []
    },
    {
      "cell_type": "markdown",
      "metadata": {
        "id": "26soR6nDVuW_",
        "colab_type": "text"
      },
      "source": [
        "Evaluate the model"
      ]
    },
    {
      "cell_type": "code",
      "metadata": {
        "id": "tVIzejUuKtq6",
        "colab_type": "code",
        "colab": {
          "base_uri": "https://localhost:8080/",
          "height": 68
        },
        "outputId": "9c7019bf-43be-4023-d563-53ca1dfbcb87"
      },
      "source": [
        "score,acc = model.evaluate(X_test, y_test, verbose = 2, batch_size = 32)\n",
        "print(\"score: %.2f\" % (score))\n",
        "print(\"Accuracy: %.2f\" % (acc))"
      ],
      "execution_count": 20,
      "outputs": [
        {
          "output_type": "stream",
          "text": [
            "782/782 - 49s - loss: 0.7398 - accuracy: 0.8632\n",
            "score: 0.74\n",
            "Accuracy: 0.86\n"
          ],
          "name": "stdout"
        }
      ]
    },
    {
      "cell_type": "markdown",
      "metadata": {
        "id": "RnyFYDWyR-96",
        "colab_type": "text"
      },
      "source": [
        "The model has an accuracy score of 86% on test data"
      ]
    },
    {
      "cell_type": "code",
      "metadata": {
        "id": "TfBaiMODtdG4",
        "colab_type": "code",
        "colab": {}
      },
      "source": [
        "from sklearn.metrics import classification_report,confusion_matrix"
      ],
      "execution_count": 21,
      "outputs": []
    },
    {
      "cell_type": "code",
      "metadata": {
        "id": "xjgBnqSc0wab",
        "colab_type": "code",
        "colab": {
          "base_uri": "https://localhost:8080/",
          "height": 170
        },
        "outputId": "af7bdf68-c9b4-4851-d4e8-2aff96a37381"
      },
      "source": [
        "report=classification_report(y_test, test_pred.round(),target_names=['Positive','Negative'])\n",
        "print(report)"
      ],
      "execution_count": 22,
      "outputs": [
        {
          "output_type": "stream",
          "text": [
            "              precision    recall  f1-score   support\n",
            "\n",
            "    Positive       0.84      0.90      0.87     12500\n",
            "    Negative       0.89      0.82      0.86     12500\n",
            "\n",
            "    accuracy                           0.86     25000\n",
            "   macro avg       0.87      0.86      0.86     25000\n",
            "weighted avg       0.87      0.86      0.86     25000\n",
            "\n"
          ],
          "name": "stdout"
        }
      ]
    },
    {
      "cell_type": "markdown",
      "metadata": {
        "id": "u9Y-oD2sSGDQ",
        "colab_type": "text"
      },
      "source": [
        "The precision and recall values are,\n",
        "\n",
        "*   Postiive review\n",
        "\n",
        "      *   Precision - 0.84\n",
        "      *   Recall - 0.90\n",
        "\n",
        "*   Negative review\n",
        "\n",
        "      *   Precision - 0.89\n",
        "      *   Recall - 0.82\n"
      ]
    },
    {
      "cell_type": "markdown",
      "metadata": {
        "id": "ay-LsAnHwWzK",
        "colab_type": "text"
      },
      "source": [
        "Predict on one example"
      ]
    },
    {
      "cell_type": "code",
      "metadata": {
        "id": "G3ghieEnvxwn",
        "colab_type": "code",
        "colab": {
          "base_uri": "https://localhost:8080/",
          "height": 51
        },
        "outputId": "33829f4f-cb8d-4a82-8c62-f47199aa212a"
      },
      "source": [
        "if y_test[1] == 1:\n",
        "  print(\"The actual review is Positive\")\n",
        "else:\n",
        "  print(\"The actual review is Negative\")\n",
        "\n",
        "if test_pred[1].round() == 1:\n",
        "  print(\"The predicted review is Positive\")\n",
        "else:\n",
        "  print(\"The predicted review is Negative\")\n"
      ],
      "execution_count": 23,
      "outputs": [
        {
          "output_type": "stream",
          "text": [
            "The actual review is Positive\n",
            "The predicted review is Positive\n"
          ],
          "name": "stdout"
        }
      ]
    },
    {
      "cell_type": "code",
      "metadata": {
        "id": "hJx2NFr1qhUC",
        "colab_type": "code",
        "colab": {}
      },
      "source": [
        ""
      ],
      "execution_count": null,
      "outputs": []
    }
  ]
}