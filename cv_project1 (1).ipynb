{
 "cells": [
  {
   "cell_type": "markdown",
   "metadata": {
    "colab_type": "text",
    "id": "xgTd6seH4vX6"
   },
   "source": [
    "## **Face Mask Segmentation**"
   ]
  },
  {
   "cell_type": "markdown",
   "metadata": {
    "colab_type": "text",
    "id": "q7xhzmf25PUm"
   },
   "source": [
    "**Mount Google drive**"
   ]
  },
  {
   "cell_type": "code",
   "execution_count": 1,
   "metadata": {
    "colab": {
     "base_uri": "https://localhost:8080/",
     "height": 34
    },
    "colab_type": "code",
    "id": "r0nBeqjhQ9fI",
    "outputId": "85058c22-f61d-4a7d-df73-8a2bda71b955"
   },
   "outputs": [
    {
     "name": "stdout",
     "output_type": "stream",
     "text": [
      "Drive already mounted at /content/drive; to attempt to forcibly remount, call drive.mount(\"/content/drive\", force_remount=True).\n"
     ]
    }
   ],
   "source": [
    "from google.colab import drive\n",
    "drive.mount('/content/drive')"
   ]
  },
  {
   "cell_type": "markdown",
   "metadata": {
    "colab_type": "text",
    "id": "kpjfk_uN5L4_"
   },
   "source": [
    "**Change current working directory to project folder**"
   ]
  },
  {
   "cell_type": "code",
   "execution_count": 2,
   "metadata": {
    "colab": {},
    "colab_type": "code",
    "id": "U2Ya2QgARXMD"
   },
   "outputs": [],
   "source": [
    "import os\n",
    "os.chdir('drive/My Drive/')"
   ]
  },
  {
   "cell_type": "markdown",
   "metadata": {
    "colab_type": "text",
    "id": "Sw2374bd5eSH"
   },
   "source": [
    "**Load the \"images.npy\" file from the Google drive**"
   ]
  },
  {
   "cell_type": "code",
   "execution_count": 3,
   "metadata": {
    "colab": {},
    "colab_type": "code",
    "id": "bZdef0yVRlvc"
   },
   "outputs": [],
   "source": [
    "import numpy as np\n",
    "data = np.load('/content/drive/My Drive/images.npy', allow_pickle=True)"
   ]
  },
  {
   "cell_type": "markdown",
   "metadata": {
    "colab_type": "text",
    "id": "Adj5eFS8569X"
   },
   "source": [
    "**Checking the first two samples from the loaded \"image.npy\" file**"
   ]
  },
  {
   "cell_type": "code",
   "execution_count": 4,
   "metadata": {
    "colab": {
     "base_uri": "https://localhost:8080/",
     "height": 1000
    },
    "colab_type": "code",
    "id": "kPWNTj32RqZD",
    "outputId": "bb2b9c10-29ef-4fad-f243-3d652f8d8466"
   },
   "outputs": [
    {
     "name": "stdout",
     "output_type": "stream",
     "text": [
      "[[[42 37 34]\n",
      "  [56 51 48]\n",
      "  [71 66 63]\n",
      "  ...\n",
      "  [23 33 34]\n",
      "  [26 36 37]\n",
      "  [28 38 39]]\n",
      "\n",
      " [[40 35 32]\n",
      "  [51 46 43]\n",
      "  [64 59 56]\n",
      "  ...\n",
      "  [27 36 35]\n",
      "  [24 33 32]\n",
      "  [26 35 34]]\n",
      "\n",
      " [[43 38 35]\n",
      "  [51 46 43]\n",
      "  [61 56 53]\n",
      "  ...\n",
      "  [28 30 27]\n",
      "  [33 35 32]\n",
      "  [35 37 34]]\n",
      "\n",
      " ...\n",
      "\n",
      " [[56 47 40]\n",
      "  [57 48 41]\n",
      "  [61 52 45]\n",
      "  ...\n",
      "  [67 48 42]\n",
      "  [55 35 28]\n",
      "  [60 40 33]]\n",
      "\n",
      " [[53 44 37]\n",
      "  [54 45 38]\n",
      "  [57 48 41]\n",
      "  ...\n",
      "  [59 40 34]\n",
      "  [60 40 33]\n",
      "  [54 34 27]]\n",
      "\n",
      " [[53 44 37]\n",
      "  [54 45 38]\n",
      "  [57 48 41]\n",
      "  ...\n",
      "  [59 40 34]\n",
      "  [70 50 43]\n",
      "  [64 44 37]]]\n",
      "[{'label': ['Face'], 'notes': '', 'points': [{'x': 0.08615384615384615, 'y': 0.3063063063063063}, {'x': 0.1723076923076923, 'y': 0.45345345345345345}], 'imageWidth': 650, 'imageHeight': 333}, {'label': ['Face'], 'notes': '', 'points': [{'x': 0.583076923076923, 'y': 0.2912912912912913}, {'x': 0.6584615384615384, 'y': 0.46846846846846846}], 'imageWidth': 650, 'imageHeight': 333}]\n",
      "[[[207 216 227 255]\n",
      "  [206 216 227 255]\n",
      "  [207 216 227 255]\n",
      "  ...\n",
      "  [ 35  33  34 255]\n",
      "  [ 35  33  34 255]\n",
      "  [ 35  33  34 255]]\n",
      "\n",
      " [[207 216 227 255]\n",
      "  [207 216 227 255]\n",
      "  [207 216 227 255]\n",
      "  ...\n",
      "  [ 35  32  33 255]\n",
      "  [ 35  33  34 255]\n",
      "  [ 35  33  34 255]]\n",
      "\n",
      " [[207 216 227 255]\n",
      "  [207 216 227 255]\n",
      "  [207 215 227 255]\n",
      "  ...\n",
      "  [ 35  33  33 255]\n",
      "  [ 35  33  34 255]\n",
      "  [ 35  33  34 255]]\n",
      "\n",
      " ...\n",
      "\n",
      " [[ 31  21  17 255]\n",
      "  [ 31  22  18 255]\n",
      "  [ 31  22  18 255]\n",
      "  ...\n",
      "  [  0   1   4 255]\n",
      "  [  0   1   4 255]\n",
      "  [  0   1   4 255]]\n",
      "\n",
      " [[ 31  22  18 255]\n",
      "  [ 31  22  18 255]\n",
      "  [ 31  22  18 255]\n",
      "  ...\n",
      "  [  0   1   4 255]\n",
      "  [  0   1   4 255]\n",
      "  [  0   1   4 255]]\n",
      "\n",
      " [[ 31  22  18 255]\n",
      "  [ 30  22  17 255]\n",
      "  [ 31  22  18 255]\n",
      "  ...\n",
      "  [  0   1   4 255]\n",
      "  [  0   1   4 255]\n",
      "  [  0   1   4 255]]]\n",
      "[{'label': ['Face'], 'notes': '', 'points': [{'x': 0.7053087757313109, 'y': 0.23260437375745527}, {'x': 0.7692307692307693, 'y': 0.36182902584493043}], 'imageWidth': 1280, 'imageHeight': 697}]\n"
     ]
    }
   ],
   "source": [
    "for i in range(2):\n",
    "  for j in range(2):\n",
    "    print(data[i][j])"
   ]
  },
  {
   "cell_type": "markdown",
   "metadata": {
    "colab_type": "text",
    "id": "UP5vh_jH6Q4X"
   },
   "source": [
    "**Checking the shape of one sample in the loaded \"image.npy\" file**"
   ]
  },
  {
   "cell_type": "code",
   "execution_count": 5,
   "metadata": {
    "colab": {
     "base_uri": "https://localhost:8080/",
     "height": 34
    },
    "colab_type": "code",
    "id": "WoHVuVMzVGvi",
    "outputId": "13e84ff2-ce27-4304-c4da-440275ac3c31"
   },
   "outputs": [
    {
     "data": {
      "text/plain": [
       "(337, 600, 3)"
      ]
     },
     "execution_count": 5,
     "metadata": {
      "tags": []
     },
     "output_type": "execute_result"
    }
   ],
   "source": [
    "data[10][0].shape"
   ]
  },
  {
   "cell_type": "markdown",
   "metadata": {
    "colab_type": "text",
    "id": "HXK0aMMy6jxn"
   },
   "source": [
    "**Set image dimensions:**\n",
    "\n",
    "\n",
    "1.   Initialize image height to 224\n",
    "2.   Initialize image width to 224\n",
    "\n"
   ]
  },
  {
   "cell_type": "code",
   "execution_count": 6,
   "metadata": {
    "colab": {},
    "colab_type": "code",
    "id": "PpsvaQfaWZX7"
   },
   "outputs": [],
   "source": [
    "IMAGE_WIDTH = 224\n",
    "IMAGE_HEIGHT = 224"
   ]
  },
  {
   "cell_type": "markdown",
   "metadata": {
    "colab_type": "text",
    "id": "jA_VjWVX642f"
   },
   "source": [
    "**Create features and labels**"
   ]
  },
  {
   "cell_type": "code",
   "execution_count": 7,
   "metadata": {
    "colab": {},
    "colab_type": "code",
    "id": "fvSCXnjmWfL6"
   },
   "outputs": [],
   "source": [
    "import cv2\n",
    "from tensorflow.keras.applications.mobilenet import preprocess_input\n",
    "\n",
    "masks = np.zeros((int(data.shape[0]), IMAGE_HEIGHT, IMAGE_WIDTH))\n",
    "X_train = np.zeros((int(data.shape[0]), IMAGE_HEIGHT, IMAGE_WIDTH, 3))\n",
    "\n",
    "for index in range(data.shape[0]):\n",
    "  img = data[index][0]\n",
    "  img = cv2.resize(img, dsize=(IMAGE_HEIGHT, IMAGE_WIDTH), interpolation=cv2.INTER_CUBIC)\n",
    "  try:\n",
    "    img = img[:, :, :3]\n",
    "  except:\n",
    "    continue\n",
    "  X_train[index] = preprocess_input(np.array(img, dtype = np.float32))\n",
    "  for i in data[index][1]:\n",
    "    x1 = int(i[\"points\"][0]['x'] * IMAGE_WIDTH)\n",
    "    x2 = int(i[\"points\"][1]['x'] * IMAGE_WIDTH)\n",
    "    y1 = int(i[\"points\"][0]['y'] * IMAGE_HEIGHT)\n",
    "    y2 = int(i[\"points\"][1]['y'] * IMAGE_HEIGHT)\n",
    "    masks[index][y1:y2, x1:x2] = 1"
   ]
  },
  {
   "cell_type": "markdown",
   "metadata": {
    "colab_type": "text",
    "id": "35ZLQCZgd1gx"
   },
   "source": [
    "**Print the shape of X_train and mask array**"
   ]
  },
  {
   "cell_type": "code",
   "execution_count": 8,
   "metadata": {
    "colab": {
     "base_uri": "https://localhost:8080/",
     "height": 34
    },
    "colab_type": "code",
    "id": "ENEyRgdldotw",
    "outputId": "385e4a93-e730-4fbb-dae4-c335b824cb7b"
   },
   "outputs": [
    {
     "name": "stdout",
     "output_type": "stream",
     "text": [
      "The shape of X_train is: (409, 224, 224, 3)\n"
     ]
    }
   ],
   "source": [
    "# shape of X_train\n",
    "print(\"The shape of X_train is:\", X_train.shape)"
   ]
  },
  {
   "cell_type": "code",
   "execution_count": 9,
   "metadata": {
    "colab": {
     "base_uri": "https://localhost:8080/",
     "height": 34
    },
    "colab_type": "code",
    "id": "1_xXUZyRd7t3",
    "outputId": "7cc07528-0307-43db-ac2d-678b94f99395"
   },
   "outputs": [
    {
     "name": "stdout",
     "output_type": "stream",
     "text": [
      "The shaoe of masks array is: (409, 224, 224)\n"
     ]
    }
   ],
   "source": [
    "#shape of mask\n",
    "print(\"The shaoe of masks array is:\", masks.shape)"
   ]
  },
  {
   "cell_type": "markdown",
   "metadata": {
    "colab_type": "text",
    "id": "_klXstMkeEm5"
   },
   "source": [
    "**Print a sample image and image array**"
   ]
  },
  {
   "cell_type": "code",
   "execution_count": 10,
   "metadata": {
    "colab": {
     "base_uri": "https://localhost:8080/",
     "height": 1000
    },
    "colab_type": "code",
    "id": "wUE848uZd_cH",
    "outputId": "f2c112ba-e25f-4653-acae-841d75e5f16c"
   },
   "outputs": [
    {
     "name": "stderr",
     "output_type": "stream",
     "text": [
      "Clipping input data to the valid range for imshow with RGB data ([0..1] for floats or [0..255] for integers).\n"
     ]
    },
    {
     "name": "stdout",
     "output_type": "stream",
     "text": [
      "[[[-0.98431373 -0.98431373 -0.98431373]\n",
      "  [-0.98431373 -0.98431373 -0.98431373]\n",
      "  [-0.98431373 -0.98431373 -0.98431373]\n",
      "  ...\n",
      "  [-1.         -1.         -1.        ]\n",
      "  [-1.         -1.         -1.        ]\n",
      "  [-1.         -1.         -1.        ]]\n",
      "\n",
      " [[-0.98431373 -0.98431373 -0.98431373]\n",
      "  [-0.98431373 -0.98431373 -0.98431373]\n",
      "  [-0.98431373 -0.98431373 -0.98431373]\n",
      "  ...\n",
      "  [-1.         -1.         -1.        ]\n",
      "  [-1.         -1.         -1.        ]\n",
      "  [-1.         -1.         -1.        ]]\n",
      "\n",
      " [[-0.98431373 -0.98431373 -0.98431373]\n",
      "  [-0.98431373 -0.98431373 -0.98431373]\n",
      "  [-0.98431373 -0.98431373 -0.98431373]\n",
      "  ...\n",
      "  [-1.         -1.         -1.        ]\n",
      "  [-1.         -1.         -1.        ]\n",
      "  [-1.         -1.         -1.        ]]\n",
      "\n",
      " ...\n",
      "\n",
      " [[-1.         -1.         -1.        ]\n",
      "  [-1.         -1.         -1.        ]\n",
      "  [-1.         -1.         -1.        ]\n",
      "  ...\n",
      "  [-0.96862745 -0.96862745 -0.96862745]\n",
      "  [-0.96078432 -0.96078432 -0.96078432]\n",
      "  [-0.96078432 -0.96078432 -0.96078432]]\n",
      "\n",
      " [[-1.         -1.         -1.        ]\n",
      "  [-1.         -1.         -1.        ]\n",
      "  [-1.         -1.         -1.        ]\n",
      "  ...\n",
      "  [-0.96862745 -0.96862745 -0.96862745]\n",
      "  [-0.96078432 -0.96078432 -0.96078432]\n",
      "  [-0.95294118 -0.95294118 -0.95294118]]\n",
      "\n",
      " [[-1.         -1.         -1.        ]\n",
      "  [-1.         -1.         -1.        ]\n",
      "  [-1.         -1.         -1.        ]\n",
      "  ...\n",
      "  [-0.97647059 -0.97647059 -0.97647059]\n",
      "  [-0.96862745 -0.96862745 -0.96862745]\n",
      "  [-0.96078432 -0.96078432 -0.96078432]]]\n"
     ]
    },
    {
     "data": {
      "text/plain": [
       "<matplotlib.image.AxesImage at 0x7efecf5a7828>"
      ]
     },
     "execution_count": 10,
     "metadata": {
      "tags": []
     },
     "output_type": "execute_result"
    },
    {
     "data": {
      "image/png": "[encoded data removed]",
      "text/plain": [
       "<Figure size 432x288 with 1 Axes>"
      ]
     },
     "metadata": {
      "needs_background": "light",
      "tags": []
     },
     "output_type": "display_data"
    }
   ],
   "source": [
    "from matplotlib import pyplot\n",
    "n = 10\n",
    "print(X_train[n])\n",
    "pyplot.imshow(X_train[n])"
   ]
  },
  {
   "cell_type": "code",
   "execution_count": null,
   "metadata": {
    "colab": {
     "base_uri": "https://localhost:8080/",
     "height": 286
    },
    "colab_type": "code",
    "id": "QT0ZrP-oeSBP",
    "outputId": "122b7435-e6d5-43f2-fa75-054f44904c76"
   },
   "outputs": [
    {
     "data": {
      "text/plain": [
       "<matplotlib.image.AxesImage at 0x7ff8bf3c5940>"
      ]
     },
     "execution_count": 12,
     "metadata": {
      "tags": []
     },
     "output_type": "execute_result"
    },
    {
     "data": {
      "image/png": "[encoded data removed]",
      "text/plain": [
       "<Figure size 432x288 with 1 Axes>"
      ]
     },
     "metadata": {
      "needs_background": "light",
      "tags": []
     },
     "output_type": "display_data"
    }
   ],
   "source": [
    "pyplot.imshow(masks[n])"
   ]
  },
  {
   "cell_type": "markdown",
   "metadata": {
    "colab_type": "text",
    "id": "ogBwjfxo7qg_"
   },
   "source": [
    "**Create the model**"
   ]
  },
  {
   "cell_type": "code",
   "execution_count": 11,
   "metadata": {
    "colab": {},
    "colab_type": "code",
    "id": "dYcIIFFEqg9D"
   },
   "outputs": [],
   "source": [
    "# Import the libraries\n",
    "from tensorflow.keras.applications.mobilenet import MobileNet\n",
    "from tensorflow.keras.layers import Concatenate,UpSampling2D, Conv2D, Reshape\n",
    "from tensorflow.keras.models import Model\n",
    "from tensorflow.keras.callbacks import ModelCheckpoint, EarlyStopping, ReduceLROnPlateau"
   ]
  },
  {
   "cell_type": "code",
   "execution_count": 12,
   "metadata": {
    "colab": {},
    "colab_type": "code",
    "id": "BNeikKkHeeBP"
   },
   "outputs": [],
   "source": [
    "def create_model(trainable=True):\n",
    "  model = MobileNet(input_shape=(IMAGE_HEIGHT, IMAGE_WIDTH, 3), include_top=False, alpha=1.0 , weights=\"imagenet\")\n",
    "\n",
    "  for layer in model.layers:\n",
    "    layer.trainable = trainable\n",
    "\n",
    "  # Add all the UNET layers\n",
    "  block1 = model.input\n",
    "  block2 = model.get_layer(\"conv_pw_1_relu\").output\n",
    "  block3 = model.get_layer(\"conv_pw_3_relu\").output\n",
    "  block4 = model.get_layer(\"conv_pw_5_relu\").output\n",
    "  block5 = model.get_layer(\"conv_pw_11_relu\").output\n",
    "  block6 = model.get_layer(\"conv_pw_13_relu\").output\n",
    "\n",
    "  \n",
    "  x = Concatenate()([UpSampling2D()(block6), block5])\n",
    "  x = Concatenate()([UpSampling2D()(x), block4])\n",
    "  x = Concatenate()([UpSampling2D()(x), block3])\n",
    "  x = Concatenate()([UpSampling2D()(x), block2])\n",
    "  x = Concatenate()([UpSampling2D()(x), block1])\n",
    " \n",
    "  x= Conv2D(1, kernel_size=1, activation=\"sigmoid\")(x)\n",
    "  x= Reshape((IMAGE_HEIGHT, IMAGE_WIDTH))(x)\n",
    "\n",
    "  return Model(inputs=model.input, outputs=x)"
   ]
  },
  {
   "cell_type": "markdown",
   "metadata": {
    "colab_type": "text",
    "id": "PazThT7Q8K63"
   },
   "source": [
    "**Create Model**"
   ]
  },
  {
   "cell_type": "code",
   "execution_count": 13,
   "metadata": {
    "colab": {
     "base_uri": "https://localhost:8080/",
     "height": 1000
    },
    "colab_type": "code",
    "id": "60YEQHWfEzWs",
    "outputId": "ccbd5d2c-5ba9-4b2d-9205-24d9a55626a3"
   },
   "outputs": [
    {
     "name": "stdout",
     "output_type": "stream",
     "text": [
      "Downloading data from https://storage.googleapis.com/tensorflow/keras-applications/mobilenet/mobilenet_1_0_224_tf_no_top.h5\n",
      "17227776/17225924 [==============================] - 0s 0us/step\n",
      "Model: \"model\"\n",
      "__________________________________________________________________________________________________\n",
      "Layer (type)                    Output Shape         Param #     Connected to                     \n",
      "==================================================================================================\n",
      "input_1 (InputLayer)            [(None, 224, 224, 3) 0                                            \n",
      "__________________________________________________________________________________________________\n",
      "conv1_pad (ZeroPadding2D)       (None, 225, 225, 3)  0           input_1[0][0]                    \n",
      "__________________________________________________________________________________________________\n",
      "conv1 (Conv2D)                  (None, 112, 112, 32) 864         conv1_pad[0][0]                  \n",
      "__________________________________________________________________________________________________\n",
      "conv1_bn (BatchNormalization)   (None, 112, 112, 32) 128         conv1[0][0]                      \n",
      "__________________________________________________________________________________________________\n",
      "conv1_relu (ReLU)               (None, 112, 112, 32) 0           conv1_bn[0][0]                   \n",
      "__________________________________________________________________________________________________\n",
      "conv_dw_1 (DepthwiseConv2D)     (None, 112, 112, 32) 288         conv1_relu[0][0]                 \n",
      "__________________________________________________________________________________________________\n",
      "conv_dw_1_bn (BatchNormalizatio (None, 112, 112, 32) 128         conv_dw_1[0][0]                  \n",
      "__________________________________________________________________________________________________\n",
      "conv_dw_1_relu (ReLU)           (None, 112, 112, 32) 0           conv_dw_1_bn[0][0]               \n",
      "__________________________________________________________________________________________________\n",
      "conv_pw_1 (Conv2D)              (None, 112, 112, 64) 2048        conv_dw_1_relu[0][0]             \n",
      "__________________________________________________________________________________________________\n",
      "conv_pw_1_bn (BatchNormalizatio (None, 112, 112, 64) 256         conv_pw_1[0][0]                  \n",
      "__________________________________________________________________________________________________\n",
      "conv_pw_1_relu (ReLU)           (None, 112, 112, 64) 0           conv_pw_1_bn[0][0]               \n",
      "__________________________________________________________________________________________________\n",
      "conv_pad_2 (ZeroPadding2D)      (None, 113, 113, 64) 0           conv_pw_1_relu[0][0]             \n",
      "__________________________________________________________________________________________________\n",
      "conv_dw_2 (DepthwiseConv2D)     (None, 56, 56, 64)   576         conv_pad_2[0][0]                 \n",
      "__________________________________________________________________________________________________\n",
      "conv_dw_2_bn (BatchNormalizatio (None, 56, 56, 64)   256         conv_dw_2[0][0]                  \n",
      "__________________________________________________________________________________________________\n",
      "conv_dw_2_relu (ReLU)           (None, 56, 56, 64)   0           conv_dw_2_bn[0][0]               \n",
      "__________________________________________________________________________________________________\n",
      "conv_pw_2 (Conv2D)              (None, 56, 56, 128)  8192        conv_dw_2_relu[0][0]             \n",
      "__________________________________________________________________________________________________\n",
      "conv_pw_2_bn (BatchNormalizatio (None, 56, 56, 128)  512         conv_pw_2[0][0]                  \n",
      "__________________________________________________________________________________________________\n",
      "conv_pw_2_relu (ReLU)           (None, 56, 56, 128)  0           conv_pw_2_bn[0][0]               \n",
      "__________________________________________________________________________________________________\n",
      "conv_dw_3 (DepthwiseConv2D)     (None, 56, 56, 128)  1152        conv_pw_2_relu[0][0]             \n",
      "__________________________________________________________________________________________________\n",
      "conv_dw_3_bn (BatchNormalizatio (None, 56, 56, 128)  512         conv_dw_3[0][0]                  \n",
      "__________________________________________________________________________________________________\n",
      "conv_dw_3_relu (ReLU)           (None, 56, 56, 128)  0           conv_dw_3_bn[0][0]               \n",
      "__________________________________________________________________________________________________\n",
      "conv_pw_3 (Conv2D)              (None, 56, 56, 128)  16384       conv_dw_3_relu[0][0]             \n",
      "__________________________________________________________________________________________________\n",
      "conv_pw_3_bn (BatchNormalizatio (None, 56, 56, 128)  512         conv_pw_3[0][0]                  \n",
      "__________________________________________________________________________________________________\n",
      "conv_pw_3_relu (ReLU)           (None, 56, 56, 128)  0           conv_pw_3_bn[0][0]               \n",
      "__________________________________________________________________________________________________\n",
      "conv_pad_4 (ZeroPadding2D)      (None, 57, 57, 128)  0           conv_pw_3_relu[0][0]             \n",
      "__________________________________________________________________________________________________\n",
      "conv_dw_4 (DepthwiseConv2D)     (None, 28, 28, 128)  1152        conv_pad_4[0][0]                 \n",
      "__________________________________________________________________________________________________\n",
      "conv_dw_4_bn (BatchNormalizatio (None, 28, 28, 128)  512         conv_dw_4[0][0]                  \n",
      "__________________________________________________________________________________________________\n",
      "conv_dw_4_relu (ReLU)           (None, 28, 28, 128)  0           conv_dw_4_bn[0][0]               \n",
      "__________________________________________________________________________________________________\n",
      "conv_pw_4 (Conv2D)              (None, 28, 28, 256)  32768       conv_dw_4_relu[0][0]             \n",
      "__________________________________________________________________________________________________\n",
      "conv_pw_4_bn (BatchNormalizatio (None, 28, 28, 256)  1024        conv_pw_4[0][0]                  \n",
      "__________________________________________________________________________________________________\n",
      "conv_pw_4_relu (ReLU)           (None, 28, 28, 256)  0           conv_pw_4_bn[0][0]               \n",
      "__________________________________________________________________________________________________\n",
      "conv_dw_5 (DepthwiseConv2D)     (None, 28, 28, 256)  2304        conv_pw_4_relu[0][0]             \n",
      "__________________________________________________________________________________________________\n",
      "conv_dw_5_bn (BatchNormalizatio (None, 28, 28, 256)  1024        conv_dw_5[0][0]                  \n",
      "__________________________________________________________________________________________________\n",
      "conv_dw_5_relu (ReLU)           (None, 28, 28, 256)  0           conv_dw_5_bn[0][0]               \n",
      "__________________________________________________________________________________________________\n",
      "conv_pw_5 (Conv2D)              (None, 28, 28, 256)  65536       conv_dw_5_relu[0][0]             \n",
      "__________________________________________________________________________________________________\n",
      "conv_pw_5_bn (BatchNormalizatio (None, 28, 28, 256)  1024        conv_pw_5[0][0]                  \n",
      "__________________________________________________________________________________________________\n",
      "conv_pw_5_relu (ReLU)           (None, 28, 28, 256)  0           conv_pw_5_bn[0][0]               \n",
      "__________________________________________________________________________________________________\n",
      "conv_pad_6 (ZeroPadding2D)      (None, 29, 29, 256)  0           conv_pw_5_relu[0][0]             \n",
      "__________________________________________________________________________________________________\n",
      "conv_dw_6 (DepthwiseConv2D)     (None, 14, 14, 256)  2304        conv_pad_6[0][0]                 \n",
      "__________________________________________________________________________________________________\n",
      "conv_dw_6_bn (BatchNormalizatio (None, 14, 14, 256)  1024        conv_dw_6[0][0]                  \n",
      "__________________________________________________________________________________________________\n",
      "conv_dw_6_relu (ReLU)           (None, 14, 14, 256)  0           conv_dw_6_bn[0][0]               \n",
      "__________________________________________________________________________________________________\n",
      "conv_pw_6 (Conv2D)              (None, 14, 14, 512)  131072      conv_dw_6_relu[0][0]             \n",
      "__________________________________________________________________________________________________\n",
      "conv_pw_6_bn (BatchNormalizatio (None, 14, 14, 512)  2048        conv_pw_6[0][0]                  \n",
      "__________________________________________________________________________________________________\n",
      "conv_pw_6_relu (ReLU)           (None, 14, 14, 512)  0           conv_pw_6_bn[0][0]               \n",
      "__________________________________________________________________________________________________\n",
      "conv_dw_7 (DepthwiseConv2D)     (None, 14, 14, 512)  4608        conv_pw_6_relu[0][0]             \n",
      "__________________________________________________________________________________________________\n",
      "conv_dw_7_bn (BatchNormalizatio (None, 14, 14, 512)  2048        conv_dw_7[0][0]                  \n",
      "__________________________________________________________________________________________________\n",
      "conv_dw_7_relu (ReLU)           (None, 14, 14, 512)  0           conv_dw_7_bn[0][0]               \n",
      "__________________________________________________________________________________________________\n",
      "conv_pw_7 (Conv2D)              (None, 14, 14, 512)  262144      conv_dw_7_relu[0][0]             \n",
      "__________________________________________________________________________________________________\n",
      "conv_pw_7_bn (BatchNormalizatio (None, 14, 14, 512)  2048        conv_pw_7[0][0]                  \n",
      "__________________________________________________________________________________________________\n",
      "conv_pw_7_relu (ReLU)           (None, 14, 14, 512)  0           conv_pw_7_bn[0][0]               \n",
      "__________________________________________________________________________________________________\n",
      "conv_dw_8 (DepthwiseConv2D)     (None, 14, 14, 512)  4608        conv_pw_7_relu[0][0]             \n",
      "__________________________________________________________________________________________________\n",
      "conv_dw_8_bn (BatchNormalizatio (None, 14, 14, 512)  2048        conv_dw_8[0][0]                  \n",
      "__________________________________________________________________________________________________\n",
      "conv_dw_8_relu (ReLU)           (None, 14, 14, 512)  0           conv_dw_8_bn[0][0]               \n",
      "__________________________________________________________________________________________________\n",
      "conv_pw_8 (Conv2D)              (None, 14, 14, 512)  262144      conv_dw_8_relu[0][0]             \n",
      "__________________________________________________________________________________________________\n",
      "conv_pw_8_bn (BatchNormalizatio (None, 14, 14, 512)  2048        conv_pw_8[0][0]                  \n",
      "__________________________________________________________________________________________________\n",
      "conv_pw_8_relu (ReLU)           (None, 14, 14, 512)  0           conv_pw_8_bn[0][0]               \n",
      "__________________________________________________________________________________________________\n",
      "conv_dw_9 (DepthwiseConv2D)     (None, 14, 14, 512)  4608        conv_pw_8_relu[0][0]             \n",
      "__________________________________________________________________________________________________\n",
      "conv_dw_9_bn (BatchNormalizatio (None, 14, 14, 512)  2048        conv_dw_9[0][0]                  \n",
      "__________________________________________________________________________________________________\n",
      "conv_dw_9_relu (ReLU)           (None, 14, 14, 512)  0           conv_dw_9_bn[0][0]               \n",
      "__________________________________________________________________________________________________\n",
      "conv_pw_9 (Conv2D)              (None, 14, 14, 512)  262144      conv_dw_9_relu[0][0]             \n",
      "__________________________________________________________________________________________________\n",
      "conv_pw_9_bn (BatchNormalizatio (None, 14, 14, 512)  2048        conv_pw_9[0][0]                  \n",
      "__________________________________________________________________________________________________\n",
      "conv_pw_9_relu (ReLU)           (None, 14, 14, 512)  0           conv_pw_9_bn[0][0]               \n",
      "__________________________________________________________________________________________________\n",
      "conv_dw_10 (DepthwiseConv2D)    (None, 14, 14, 512)  4608        conv_pw_9_relu[0][0]             \n",
      "__________________________________________________________________________________________________\n",
      "conv_dw_10_bn (BatchNormalizati (None, 14, 14, 512)  2048        conv_dw_10[0][0]                 \n",
      "__________________________________________________________________________________________________\n",
      "conv_dw_10_relu (ReLU)          (None, 14, 14, 512)  0           conv_dw_10_bn[0][0]              \n",
      "__________________________________________________________________________________________________\n",
      "conv_pw_10 (Conv2D)             (None, 14, 14, 512)  262144      conv_dw_10_relu[0][0]            \n",
      "__________________________________________________________________________________________________\n",
      "conv_pw_10_bn (BatchNormalizati (None, 14, 14, 512)  2048        conv_pw_10[0][0]                 \n",
      "__________________________________________________________________________________________________\n",
      "conv_pw_10_relu (ReLU)          (None, 14, 14, 512)  0           conv_pw_10_bn[0][0]              \n",
      "__________________________________________________________________________________________________\n",
      "conv_dw_11 (DepthwiseConv2D)    (None, 14, 14, 512)  4608        conv_pw_10_relu[0][0]            \n",
      "__________________________________________________________________________________________________\n",
      "conv_dw_11_bn (BatchNormalizati (None, 14, 14, 512)  2048        conv_dw_11[0][0]                 \n",
      "__________________________________________________________________________________________________\n",
      "conv_dw_11_relu (ReLU)          (None, 14, 14, 512)  0           conv_dw_11_bn[0][0]              \n",
      "__________________________________________________________________________________________________\n",
      "conv_pw_11 (Conv2D)             (None, 14, 14, 512)  262144      conv_dw_11_relu[0][0]            \n",
      "__________________________________________________________________________________________________\n",
      "conv_pw_11_bn (BatchNormalizati (None, 14, 14, 512)  2048        conv_pw_11[0][0]                 \n",
      "__________________________________________________________________________________________________\n",
      "conv_pw_11_relu (ReLU)          (None, 14, 14, 512)  0           conv_pw_11_bn[0][0]              \n",
      "__________________________________________________________________________________________________\n",
      "conv_pad_12 (ZeroPadding2D)     (None, 15, 15, 512)  0           conv_pw_11_relu[0][0]            \n",
      "__________________________________________________________________________________________________\n",
      "conv_dw_12 (DepthwiseConv2D)    (None, 7, 7, 512)    4608        conv_pad_12[0][0]                \n",
      "__________________________________________________________________________________________________\n",
      "conv_dw_12_bn (BatchNormalizati (None, 7, 7, 512)    2048        conv_dw_12[0][0]                 \n",
      "__________________________________________________________________________________________________\n",
      "conv_dw_12_relu (ReLU)          (None, 7, 7, 512)    0           conv_dw_12_bn[0][0]              \n",
      "__________________________________________________________________________________________________\n",
      "conv_pw_12 (Conv2D)             (None, 7, 7, 1024)   524288      conv_dw_12_relu[0][0]            \n",
      "__________________________________________________________________________________________________\n",
      "conv_pw_12_bn (BatchNormalizati (None, 7, 7, 1024)   4096        conv_pw_12[0][0]                 \n",
      "__________________________________________________________________________________________________\n",
      "conv_pw_12_relu (ReLU)          (None, 7, 7, 1024)   0           conv_pw_12_bn[0][0]              \n",
      "__________________________________________________________________________________________________\n",
      "conv_dw_13 (DepthwiseConv2D)    (None, 7, 7, 1024)   9216        conv_pw_12_relu[0][0]            \n",
      "__________________________________________________________________________________________________\n",
      "conv_dw_13_bn (BatchNormalizati (None, 7, 7, 1024)   4096        conv_dw_13[0][0]                 \n",
      "__________________________________________________________________________________________________\n",
      "conv_dw_13_relu (ReLU)          (None, 7, 7, 1024)   0           conv_dw_13_bn[0][0]              \n",
      "__________________________________________________________________________________________________\n",
      "conv_pw_13 (Conv2D)             (None, 7, 7, 1024)   1048576     conv_dw_13_relu[0][0]            \n",
      "__________________________________________________________________________________________________\n",
      "conv_pw_13_bn (BatchNormalizati (None, 7, 7, 1024)   4096        conv_pw_13[0][0]                 \n",
      "__________________________________________________________________________________________________\n",
      "conv_pw_13_relu (ReLU)          (None, 7, 7, 1024)   0           conv_pw_13_bn[0][0]              \n",
      "__________________________________________________________________________________________________\n",
      "up_sampling2d (UpSampling2D)    (None, 14, 14, 1024) 0           conv_pw_13_relu[0][0]            \n",
      "__________________________________________________________________________________________________\n",
      "concatenate (Concatenate)       (None, 14, 14, 1536) 0           up_sampling2d[0][0]              \n",
      "                                                                 conv_pw_11_relu[0][0]            \n",
      "__________________________________________________________________________________________________\n",
      "up_sampling2d_1 (UpSampling2D)  (None, 28, 28, 1536) 0           concatenate[0][0]                \n",
      "__________________________________________________________________________________________________\n",
      "concatenate_1 (Concatenate)     (None, 28, 28, 1792) 0           up_sampling2d_1[0][0]            \n",
      "                                                                 conv_pw_5_relu[0][0]             \n",
      "__________________________________________________________________________________________________\n",
      "up_sampling2d_2 (UpSampling2D)  (None, 56, 56, 1792) 0           concatenate_1[0][0]              \n",
      "__________________________________________________________________________________________________\n",
      "concatenate_2 (Concatenate)     (None, 56, 56, 1920) 0           up_sampling2d_2[0][0]            \n",
      "                                                                 conv_pw_3_relu[0][0]             \n",
      "__________________________________________________________________________________________________\n",
      "up_sampling2d_3 (UpSampling2D)  (None, 112, 112, 192 0           concatenate_2[0][0]              \n",
      "__________________________________________________________________________________________________\n",
      "concatenate_3 (Concatenate)     (None, 112, 112, 198 0           up_sampling2d_3[0][0]            \n",
      "                                                                 conv_pw_1_relu[0][0]             \n",
      "__________________________________________________________________________________________________\n",
      "up_sampling2d_4 (UpSampling2D)  (None, 224, 224, 198 0           concatenate_3[0][0]              \n",
      "__________________________________________________________________________________________________\n",
      "concatenate_4 (Concatenate)     (None, 224, 224, 198 0           up_sampling2d_4[0][0]            \n",
      "                                                                 input_1[0][0]                    \n",
      "__________________________________________________________________________________________________\n",
      "conv2d (Conv2D)                 (None, 224, 224, 1)  1988        concatenate_4[0][0]              \n",
      "__________________________________________________________________________________________________\n",
      "reshape (Reshape)               (None, 224, 224)     0           conv2d[0][0]                     \n",
      "==================================================================================================\n",
      "Total params: 3,230,852\n",
      "Trainable params: 3,208,964\n",
      "Non-trainable params: 21,888\n",
      "__________________________________________________________________________________________________\n"
     ]
    }
   ],
   "source": [
    "model = create_model()\n",
    "\n",
    "model.summary()"
   ]
  },
  {
   "cell_type": "markdown",
   "metadata": {
    "colab_type": "text",
    "id": "lYFRBe-NFwFb"
   },
   "source": [
    "**Dice Coefficient**"
   ]
  },
  {
   "cell_type": "code",
   "execution_count": 14,
   "metadata": {
    "colab": {},
    "colab_type": "code",
    "id": "efHZBXZmFSTq"
   },
   "outputs": [],
   "source": [
    "import tensorflow as tf\n",
    "def dice_coefficient(y_true, y_pred):\n",
    "    numerator = 2 * tf.reduce_sum(y_true * y_pred)\n",
    "    denominator = tf.reduce_sum(y_true + y_pred)\n",
    "\n",
    "    return numerator / (denominator + tf.keras.backend.epsilon())"
   ]
  },
  {
   "cell_type": "markdown",
   "metadata": {
    "colab_type": "text",
    "id": "wO9uwlAyGGSU"
   },
   "source": [
    "**Loss**"
   ]
  },
  {
   "cell_type": "code",
   "execution_count": 15,
   "metadata": {
    "colab": {},
    "colab_type": "code",
    "id": "UR-WUEdCGCvC"
   },
   "outputs": [],
   "source": [
    "from tensorflow.keras.losses import binary_crossentropy\n",
    "from tensorflow.keras.backend import log, epsilon\n",
    "def loss(y_true, y_pred):\n",
    "    return binary_crossentropy(y_true, y_pred) - log(dice_coefficient(y_true, y_pred) + epsilon())"
   ]
  },
  {
   "cell_type": "markdown",
   "metadata": {
    "colab_type": "text",
    "id": "N66bui1dGnrt"
   },
   "source": [
    "**Compile the Model**"
   ]
  },
  {
   "cell_type": "code",
   "execution_count": 16,
   "metadata": {
    "colab": {},
    "colab_type": "code",
    "id": "XMgEIxr-Gamm"
   },
   "outputs": [],
   "source": [
    "from tensorflow.keras.optimizers import Adam\n",
    "\n",
    "optimizer = Adam(lr=1e-4, beta_1=0.9, beta_2=0.999, epsilon=None, decay=0.0, amsgrad=False)\n",
    "model.compile(loss=loss, optimizer=optimizer, metrics=[dice_coefficient])"
   ]
  },
  {
   "cell_type": "markdown",
   "metadata": {
    "colab_type": "text",
    "id": "3rPwNq3bHGOU"
   },
   "source": [
    "**Define checkpoint and earlystopping**"
   ]
  },
  {
   "cell_type": "code",
   "execution_count": null,
   "metadata": {
    "colab": {
     "base_uri": "https://localhost:8080/",
     "height": 34
    },
    "colab_type": "code",
    "id": "ah1aWBCoHDK_",
    "outputId": "e403f915-59a3-40ec-b7d7-7898b885ae0a"
   },
   "outputs": [
    {
     "name": "stdout",
     "output_type": "stream",
     "text": [
      "WARNING:tensorflow:`period` argument is deprecated. Please use `save_freq` to specify the frequency in number of batches seen.\n"
     ]
    }
   ],
   "source": [
    "checkpoint = ModelCheckpoint(\"model-{loss:.2f}.h5\", monitor=\"loss\", verbose=1, save_best_only=True,\n",
    "                             save_weights_only=True, mode=\"min\", period=1)\n",
    "stop = EarlyStopping(monitor=\"loss\", patience=5, mode=\"min\")\n",
    "reduce_lr = ReduceLROnPlateau(monitor=\"loss\", factor=0.2, patience=5, min_lr=1e-6, verbose=1, mode=\"min\")"
   ]
  },
  {
   "cell_type": "markdown",
   "metadata": {
    "colab_type": "text",
    "id": "jIp7OxXQHvfI"
   },
   "source": [
    "**Fit the model**"
   ]
  },
  {
   "cell_type": "code",
   "execution_count": null,
   "metadata": {
    "colab": {
     "base_uri": "https://localhost:8080/",
     "height": 1000
    },
    "colab_type": "code",
    "id": "IcBUnUtGHroJ",
    "outputId": "3da81508-02a8-406d-aa0c-62cb9d49a971"
   },
   "outputs": [
    {
     "name": "stdout",
     "output_type": "stream",
     "text": [
      "Epoch 1/50\n",
      "409/409 [==============================] - ETA: 0s - loss: 1.3106 - dice_coefficient: 0.4492\n",
      "Epoch 00001: loss improved from inf to 1.31057, saving model to model-1.31.h5\n",
      "409/409 [==============================] - 537s 1s/step - loss: 1.3106 - dice_coefficient: 0.4492 - lr: 1.0000e-04\n",
      "Epoch 2/50\n",
      "409/409 [==============================] - ETA: 0s - loss: 0.7977 - dice_coefficient: 0.6117\n",
      "Epoch 00002: loss improved from 1.31057 to 0.79774, saving model to model-0.80.h5\n",
      "409/409 [==============================] - 535s 1s/step - loss: 0.7977 - dice_coefficient: 0.6117 - lr: 1.0000e-04\n",
      "Epoch 3/50\n",
      "409/409 [==============================] - ETA: 0s - loss: 0.6277 - dice_coefficient: 0.6752\n",
      "Epoch 00003: loss improved from 0.79774 to 0.62767, saving model to model-0.63.h5\n",
      "409/409 [==============================] - 534s 1s/step - loss: 0.6277 - dice_coefficient: 0.6752 - lr: 1.0000e-04\n",
      "Epoch 4/50\n",
      "409/409 [==============================] - ETA: 0s - loss: 0.5876 - dice_coefficient: 0.6934\n",
      "Epoch 00004: loss improved from 0.62767 to 0.58762, saving model to model-0.59.h5\n",
      "409/409 [==============================] - 534s 1s/step - loss: 0.5876 - dice_coefficient: 0.6934 - lr: 1.0000e-04\n",
      "Epoch 5/50\n",
      "409/409 [==============================] - ETA: 0s - loss: 0.5381 - dice_coefficient: 0.7134\n",
      "Epoch 00005: loss improved from 0.58762 to 0.53812, saving model to model-0.54.h5\n",
      "409/409 [==============================] - 535s 1s/step - loss: 0.5381 - dice_coefficient: 0.7134 - lr: 1.0000e-04\n",
      "Epoch 6/50\n",
      "409/409 [==============================] - ETA: 0s - loss: 0.4885 - dice_coefficient: 0.7338\n",
      "Epoch 00006: loss improved from 0.53812 to 0.48854, saving model to model-0.49.h5\n",
      "409/409 [==============================] - 536s 1s/step - loss: 0.4885 - dice_coefficient: 0.7338 - lr: 1.0000e-04\n",
      "Epoch 7/50\n",
      "409/409 [==============================] - ETA: 0s - loss: 0.4652 - dice_coefficient: 0.7463\n",
      "Epoch 00007: loss improved from 0.48854 to 0.46517, saving model to model-0.47.h5\n",
      "409/409 [==============================] - 534s 1s/step - loss: 0.4652 - dice_coefficient: 0.7463 - lr: 1.0000e-04\n",
      "Epoch 8/50\n",
      "409/409 [==============================] - ETA: 0s - loss: 0.4488 - dice_coefficient: 0.7538\n",
      "Epoch 00008: loss improved from 0.46517 to 0.44884, saving model to model-0.45.h5\n",
      "409/409 [==============================] - 529s 1s/step - loss: 0.4488 - dice_coefficient: 0.7538 - lr: 1.0000e-04\n",
      "Epoch 9/50\n",
      "409/409 [==============================] - ETA: 0s - loss: 0.4372 - dice_coefficient: 0.7608\n",
      "Epoch 00009: loss improved from 0.44884 to 0.43721, saving model to model-0.44.h5\n",
      "409/409 [==============================] - 534s 1s/step - loss: 0.4372 - dice_coefficient: 0.7608 - lr: 1.0000e-04\n",
      "Epoch 10/50\n",
      "409/409 [==============================] - ETA: 0s - loss: 0.4270 - dice_coefficient: 0.7661\n",
      "Epoch 00010: loss improved from 0.43721 to 0.42700, saving model to model-0.43.h5\n",
      "409/409 [==============================] - 531s 1s/step - loss: 0.4270 - dice_coefficient: 0.7661 - lr: 1.0000e-04\n",
      "Epoch 11/50\n",
      "409/409 [==============================] - ETA: 0s - loss: 0.4148 - dice_coefficient: 0.7716\n",
      "Epoch 00011: loss improved from 0.42700 to 0.41480, saving model to model-0.41.h5\n",
      "409/409 [==============================] - 526s 1s/step - loss: 0.4148 - dice_coefficient: 0.7716 - lr: 1.0000e-04\n",
      "Epoch 12/50\n",
      "409/409 [==============================] - ETA: 0s - loss: 0.4062 - dice_coefficient: 0.7767\n",
      "Epoch 00012: loss improved from 0.41480 to 0.40622, saving model to model-0.41.h5\n",
      "409/409 [==============================] - 532s 1s/step - loss: 0.4062 - dice_coefficient: 0.7767 - lr: 1.0000e-04\n",
      "Epoch 13/50\n",
      "409/409 [==============================] - ETA: 0s - loss: 0.3954 - dice_coefficient: 0.7819\n",
      "Epoch 00013: loss improved from 0.40622 to 0.39540, saving model to model-0.40.h5\n",
      "409/409 [==============================] - 536s 1s/step - loss: 0.3954 - dice_coefficient: 0.7819 - lr: 1.0000e-04\n",
      "Epoch 14/50\n",
      "409/409 [==============================] - ETA: 0s - loss: 0.3905 - dice_coefficient: 0.7850\n",
      "Epoch 00014: loss improved from 0.39540 to 0.39048, saving model to model-0.39.h5\n",
      "409/409 [==============================] - 528s 1s/step - loss: 0.3905 - dice_coefficient: 0.7850 - lr: 1.0000e-04\n",
      "Epoch 15/50\n",
      "409/409 [==============================] - ETA: 0s - loss: 0.3809 - dice_coefficient: 0.7899\n",
      "Epoch 00015: loss improved from 0.39048 to 0.38092, saving model to model-0.38.h5\n",
      "409/409 [==============================] - 525s 1s/step - loss: 0.3809 - dice_coefficient: 0.7899 - lr: 1.0000e-04\n",
      "Epoch 16/50\n",
      "409/409 [==============================] - ETA: 0s - loss: 0.3688 - dice_coefficient: 0.7962\n",
      "Epoch 00016: loss improved from 0.38092 to 0.36881, saving model to model-0.37.h5\n",
      "409/409 [==============================] - 526s 1s/step - loss: 0.3688 - dice_coefficient: 0.7962 - lr: 1.0000e-04\n",
      "Epoch 17/50\n",
      "409/409 [==============================] - ETA: 0s - loss: 0.3582 - dice_coefficient: 0.8023\n",
      "Epoch 00017: loss improved from 0.36881 to 0.35820, saving model to model-0.36.h5\n",
      "409/409 [==============================] - 529s 1s/step - loss: 0.3582 - dice_coefficient: 0.8023 - lr: 1.0000e-04\n",
      "Epoch 18/50\n",
      "409/409 [==============================] - ETA: 0s - loss: 0.3469 - dice_coefficient: 0.8077\n",
      "Epoch 00018: loss improved from 0.35820 to 0.34687, saving model to model-0.35.h5\n",
      "409/409 [==============================] - 529s 1s/step - loss: 0.3469 - dice_coefficient: 0.8077 - lr: 1.0000e-04\n",
      "Epoch 19/50\n",
      "409/409 [==============================] - ETA: 0s - loss: 0.3361 - dice_coefficient: 0.8139\n",
      "Epoch 00019: loss improved from 0.34687 to 0.33607, saving model to model-0.34.h5\n",
      "409/409 [==============================] - 526s 1s/step - loss: 0.3361 - dice_coefficient: 0.8139 - lr: 1.0000e-04\n",
      "Epoch 20/50\n",
      "409/409 [==============================] - ETA: 0s - loss: 0.3282 - dice_coefficient: 0.8186\n",
      "Epoch 00020: loss improved from 0.33607 to 0.32816, saving model to model-0.33.h5\n",
      "409/409 [==============================] - 527s 1s/step - loss: 0.3282 - dice_coefficient: 0.8186 - lr: 1.0000e-04\n",
      "Epoch 21/50\n",
      "409/409 [==============================] - ETA: 0s - loss: 0.3254 - dice_coefficient: 0.8203\n",
      "Epoch 00021: loss improved from 0.32816 to 0.32537, saving model to model-0.33.h5\n",
      "409/409 [==============================] - 527s 1s/step - loss: 0.3254 - dice_coefficient: 0.8203 - lr: 1.0000e-04\n",
      "Epoch 22/50\n",
      "409/409 [==============================] - ETA: 0s - loss: 0.3155 - dice_coefficient: 0.8262\n",
      "Epoch 00022: loss improved from 0.32537 to 0.31545, saving model to model-0.32.h5\n",
      "409/409 [==============================] - 527s 1s/step - loss: 0.3155 - dice_coefficient: 0.8262 - lr: 1.0000e-04\n",
      "Epoch 23/50\n",
      "409/409 [==============================] - ETA: 0s - loss: 0.3112 - dice_coefficient: 0.8287\n",
      "Epoch 00023: loss improved from 0.31545 to 0.31118, saving model to model-0.31.h5\n",
      "409/409 [==============================] - 532s 1s/step - loss: 0.3112 - dice_coefficient: 0.8287 - lr: 1.0000e-04\n",
      "Epoch 24/50\n",
      "409/409 [==============================] - ETA: 0s - loss: 0.3083 - dice_coefficient: 0.8305\n",
      "Epoch 00024: loss improved from 0.31118 to 0.30826, saving model to model-0.31.h5\n",
      "409/409 [==============================] - 531s 1s/step - loss: 0.3083 - dice_coefficient: 0.8305 - lr: 1.0000e-04\n",
      "Epoch 25/50\n",
      "409/409 [==============================] - ETA: 0s - loss: 0.3025 - dice_coefficient: 0.8336\n",
      "Epoch 00025: loss improved from 0.30826 to 0.30252, saving model to model-0.30.h5\n",
      "409/409 [==============================] - 532s 1s/step - loss: 0.3025 - dice_coefficient: 0.8336 - lr: 1.0000e-04\n",
      "Epoch 26/50\n",
      "409/409 [==============================] - ETA: 0s - loss: 0.2976 - dice_coefficient: 0.8369\n",
      "Epoch 00026: loss improved from 0.30252 to 0.29759, saving model to model-0.30.h5\n",
      "409/409 [==============================] - 531s 1s/step - loss: 0.2976 - dice_coefficient: 0.8369 - lr: 1.0000e-04\n",
      "Epoch 27/50\n",
      "409/409 [==============================] - ETA: 0s - loss: 0.2923 - dice_coefficient: 0.8399\n",
      "Epoch 00027: loss improved from 0.29759 to 0.29226, saving model to model-0.29.h5\n",
      "409/409 [==============================] - 529s 1s/step - loss: 0.2923 - dice_coefficient: 0.8399 - lr: 1.0000e-04\n",
      "Epoch 28/50\n",
      "409/409 [==============================] - ETA: 0s - loss: 0.2886 - dice_coefficient: 0.8424\n",
      "Epoch 00028: loss improved from 0.29226 to 0.28859, saving model to model-0.29.h5\n",
      "409/409 [==============================] - 529s 1s/step - loss: 0.2886 - dice_coefficient: 0.8424 - lr: 1.0000e-04\n",
      "Epoch 29/50\n",
      "409/409 [==============================] - ETA: 0s - loss: 0.2844 - dice_coefficient: 0.8445\n",
      "Epoch 00029: loss improved from 0.28859 to 0.28437, saving model to model-0.28.h5\n",
      "409/409 [==============================] - 530s 1s/step - loss: 0.2844 - dice_coefficient: 0.8445 - lr: 1.0000e-04\n",
      "Epoch 30/50\n",
      "409/409 [==============================] - ETA: 0s - loss: 0.2801 - dice_coefficient: 0.8469\n",
      "Epoch 00030: loss improved from 0.28437 to 0.28014, saving model to model-0.28.h5\n",
      "409/409 [==============================] - 529s 1s/step - loss: 0.2801 - dice_coefficient: 0.8469 - lr: 1.0000e-04\n",
      "Epoch 31/50\n",
      "409/409 [==============================] - ETA: 0s - loss: 0.2759 - dice_coefficient: 0.8496\n",
      "Epoch 00031: loss improved from 0.28014 to 0.27587, saving model to model-0.28.h5\n",
      "409/409 [==============================] - 530s 1s/step - loss: 0.2759 - dice_coefficient: 0.8496 - lr: 1.0000e-04\n",
      "Epoch 32/50\n",
      "409/409 [==============================] - ETA: 0s - loss: 0.2723 - dice_coefficient: 0.8515\n",
      "Epoch 00032: loss improved from 0.27587 to 0.27231, saving model to model-0.27.h5\n",
      "409/409 [==============================] - 532s 1s/step - loss: 0.2723 - dice_coefficient: 0.8515 - lr: 1.0000e-04\n",
      "Epoch 33/50\n",
      "409/409 [==============================] - ETA: 0s - loss: 0.2720 - dice_coefficient: 0.8523\n",
      "Epoch 00033: loss improved from 0.27231 to 0.27202, saving model to model-0.27.h5\n",
      "409/409 [==============================] - 531s 1s/step - loss: 0.2720 - dice_coefficient: 0.8523 - lr: 1.0000e-04\n",
      "Epoch 34/50\n",
      "409/409 [==============================] - ETA: 0s - loss: 0.2732 - dice_coefficient: 0.8521\n",
      "Epoch 00034: loss did not improve from 0.27202\n",
      "409/409 [==============================] - 530s 1s/step - loss: 0.2732 - dice_coefficient: 0.8521 - lr: 1.0000e-04\n",
      "Epoch 35/50\n",
      "409/409 [==============================] - ETA: 0s - loss: 0.2665 - dice_coefficient: 0.8555\n",
      "Epoch 00035: loss improved from 0.27202 to 0.26654, saving model to model-0.27.h5\n",
      "409/409 [==============================] - 529s 1s/step - loss: 0.2665 - dice_coefficient: 0.8555 - lr: 1.0000e-04\n",
      "Epoch 36/50\n",
      "409/409 [==============================] - ETA: 0s - loss: 0.2610 - dice_coefficient: 0.8583\n",
      "Epoch 00036: loss improved from 0.26654 to 0.26103, saving model to model-0.26.h5\n",
      "409/409 [==============================] - 531s 1s/step - loss: 0.2610 - dice_coefficient: 0.8583 - lr: 1.0000e-04\n",
      "Epoch 37/50\n",
      "409/409 [==============================] - ETA: 0s - loss: 0.2586 - dice_coefficient: 0.8598\n",
      "Epoch 00037: loss improved from 0.26103 to 0.25859, saving model to model-0.26.h5\n",
      "409/409 [==============================] - 531s 1s/step - loss: 0.2586 - dice_coefficient: 0.8598 - lr: 1.0000e-04\n",
      "Epoch 38/50\n",
      "409/409 [==============================] - ETA: 0s - loss: 0.2568 - dice_coefficient: 0.8610\n",
      "Epoch 00038: loss improved from 0.25859 to 0.25676, saving model to model-0.26.h5\n",
      "409/409 [==============================] - 533s 1s/step - loss: 0.2568 - dice_coefficient: 0.8610 - lr: 1.0000e-04\n",
      "Epoch 39/50\n",
      "409/409 [==============================] - ETA: 0s - loss: 0.2548 - dice_coefficient: 0.8621\n",
      "Epoch 00039: loss improved from 0.25676 to 0.25479, saving model to model-0.25.h5\n",
      "409/409 [==============================] - 531s 1s/step - loss: 0.2548 - dice_coefficient: 0.8621 - lr: 1.0000e-04\n",
      "Epoch 40/50\n",
      "409/409 [==============================] - ETA: 0s - loss: 0.2552 - dice_coefficient: 0.8618\n",
      "Epoch 00040: loss did not improve from 0.25479\n",
      "409/409 [==============================] - 529s 1s/step - loss: 0.2552 - dice_coefficient: 0.8618 - lr: 1.0000e-04\n",
      "Epoch 41/50\n",
      "409/409 [==============================] - ETA: 0s - loss: 0.2552 - dice_coefficient: 0.8623\n",
      "Epoch 00041: loss did not improve from 0.25479\n",
      "409/409 [==============================] - 528s 1s/step - loss: 0.2552 - dice_coefficient: 0.8623 - lr: 1.0000e-04\n",
      "Epoch 42/50\n",
      "409/409 [==============================] - ETA: 0s - loss: 0.2496 - dice_coefficient: 0.8656\n",
      "Epoch 00042: loss improved from 0.25479 to 0.24964, saving model to model-0.25.h5\n",
      "409/409 [==============================] - 528s 1s/step - loss: 0.2496 - dice_coefficient: 0.8656 - lr: 1.0000e-04\n",
      "Epoch 43/50\n",
      "409/409 [==============================] - ETA: 0s - loss: 0.2448 - dice_coefficient: 0.8681\n",
      "Epoch 00043: loss improved from 0.24964 to 0.24481, saving model to model-0.24.h5\n",
      "409/409 [==============================] - 529s 1s/step - loss: 0.2448 - dice_coefficient: 0.8681 - lr: 1.0000e-04\n",
      "Epoch 44/50\n",
      "409/409 [==============================] - ETA: 0s - loss: 0.2414 - dice_coefficient: 0.8699\n",
      "Epoch 00044: loss improved from 0.24481 to 0.24138, saving model to model-0.24.h5\n",
      "409/409 [==============================] - 528s 1s/step - loss: 0.2414 - dice_coefficient: 0.8699 - lr: 1.0000e-04\n",
      "Epoch 45/50\n",
      "409/409 [==============================] - ETA: 0s - loss: 0.2413 - dice_coefficient: 0.8702\n",
      "Epoch 00045: loss improved from 0.24138 to 0.24125, saving model to model-0.24.h5\n",
      "409/409 [==============================] - 527s 1s/step - loss: 0.2413 - dice_coefficient: 0.8702 - lr: 1.0000e-04\n",
      "Epoch 46/50\n",
      "409/409 [==============================] - ETA: 0s - loss: 0.2396 - dice_coefficient: 0.8713\n",
      "Epoch 00046: loss improved from 0.24125 to 0.23965, saving model to model-0.24.h5\n",
      "409/409 [==============================] - 526s 1s/step - loss: 0.2396 - dice_coefficient: 0.8713 - lr: 1.0000e-04\n",
      "Epoch 47/50\n",
      "409/409 [==============================] - ETA: 0s - loss: 0.2405 - dice_coefficient: 0.8709\n",
      "Epoch 00047: loss did not improve from 0.23965\n",
      "409/409 [==============================] - 527s 1s/step - loss: 0.2405 - dice_coefficient: 0.8709 - lr: 1.0000e-04\n",
      "Epoch 48/50\n",
      "409/409 [==============================] - ETA: 0s - loss: 0.2417 - dice_coefficient: 0.8702\n",
      "Epoch 00048: loss did not improve from 0.23965\n",
      "409/409 [==============================] - 527s 1s/step - loss: 0.2417 - dice_coefficient: 0.8702 - lr: 1.0000e-04\n",
      "Epoch 49/50\n",
      "409/409 [==============================] - ETA: 0s - loss: 0.2379 - dice_coefficient: 0.8723\n",
      "Epoch 00049: loss improved from 0.23965 to 0.23795, saving model to model-0.24.h5\n",
      "409/409 [==============================] - 528s 1s/step - loss: 0.2379 - dice_coefficient: 0.8723 - lr: 1.0000e-04\n",
      "Epoch 50/50\n",
      "409/409 [==============================] - ETA: 0s - loss: 0.2329 - dice_coefficient: 0.8753\n",
      "Epoch 00050: loss improved from 0.23795 to 0.23294, saving model to model-0.23.h5\n",
      "409/409 [==============================] - 529s 1s/step - loss: 0.2329 - dice_coefficient: 0.8753 - lr: 1.0000e-04\n"
     ]
    },
    {
     "data": {
      "text/plain": [
       "<tensorflow.python.keras.callbacks.History at 0x7fa8286515c0>"
      ]
     },
     "execution_count": 24,
     "metadata": {
      "tags": []
     },
     "output_type": "execute_result"
    }
   ],
   "source": [
    "model.fit(x= X_train, y= masks, epochs=50, batch_size=1, verbose=1, callbacks = [checkpoint, stop, reduce_lr])"
   ]
  },
  {
   "cell_type": "code",
   "execution_count": null,
   "metadata": {
    "colab": {},
    "colab_type": "code",
    "id": "6fynR9i7r755"
   },
   "outputs": [],
   "source": [
    "# load the last saved weights\n",
    "model.load_weights('model-0.23.h5')"
   ]
  },
  {
   "cell_type": "code",
   "execution_count": null,
   "metadata": {
    "colab": {
     "base_uri": "https://localhost:8080/",
     "height": 1000
    },
    "colab_type": "code",
    "id": "7QWweKbEsHRO",
    "outputId": "c31f1ac2-cebf-45fd-cda9-3a4b4ae4355b"
   },
   "outputs": [
    {
     "name": "stdout",
     "output_type": "stream",
     "text": [
      "WARNING:tensorflow:`period` argument is deprecated. Please use `save_freq` to specify the frequency in number of batches seen.\n",
      "Epoch 1/50\n",
      "409/409 [==============================] - ETA: 0s - loss: 0.2295 - dice_coefficient: 0.8769\n",
      "Epoch 00001: loss improved from inf to 0.22954, saving model to model-0.23.h5\n",
      "409/409 [==============================] - 497s 1s/step - loss: 0.2295 - dice_coefficient: 0.8769 - lr: 1.0000e-04\n",
      "Epoch 2/50\n",
      "409/409 [==============================] - ETA: 0s - loss: 0.2371 - dice_coefficient: 0.8733\n",
      "Epoch 00002: loss did not improve from 0.22954\n",
      "409/409 [==============================] - 486s 1s/step - loss: 0.2371 - dice_coefficient: 0.8733 - lr: 1.0000e-04\n",
      "Epoch 3/50\n",
      "409/409 [==============================] - ETA: 0s - loss: 0.2337 - dice_coefficient: 0.8756\n",
      "Epoch 00003: loss did not improve from 0.22954\n",
      "409/409 [==============================] - 480s 1s/step - loss: 0.2337 - dice_coefficient: 0.8756 - lr: 1.0000e-04\n",
      "Epoch 4/50\n",
      "409/409 [==============================] - ETA: 0s - loss: 0.2264 - dice_coefficient: 0.8793\n",
      "Epoch 00004: loss improved from 0.22954 to 0.22636, saving model to model-0.23.h5\n",
      "409/409 [==============================] - 494s 1s/step - loss: 0.2264 - dice_coefficient: 0.8793 - lr: 1.0000e-04\n",
      "Epoch 5/50\n",
      "409/409 [==============================] - ETA: 0s - loss: 0.2241 - dice_coefficient: 0.8802\n",
      "Epoch 00005: loss improved from 0.22636 to 0.22413, saving model to model-0.22.h5\n",
      "409/409 [==============================] - 496s 1s/step - loss: 0.2241 - dice_coefficient: 0.8802 - lr: 1.0000e-04\n",
      "Epoch 6/50\n",
      "409/409 [==============================] - ETA: 0s - loss: 0.2218 - dice_coefficient: 0.8818\n",
      "Epoch 00006: loss improved from 0.22413 to 0.22184, saving model to model-0.22.h5\n",
      "409/409 [==============================] - 505s 1s/step - loss: 0.2218 - dice_coefficient: 0.8818 - lr: 1.0000e-04\n",
      "Epoch 7/50\n",
      "409/409 [==============================] - ETA: 0s - loss: 0.2197 - dice_coefficient: 0.8829\n",
      "Epoch 00007: loss improved from 0.22184 to 0.21966, saving model to model-0.22.h5\n",
      "409/409 [==============================] - 514s 1s/step - loss: 0.2197 - dice_coefficient: 0.8829 - lr: 1.0000e-04\n",
      "Epoch 8/50\n",
      "409/409 [==============================] - ETA: 0s - loss: 0.2194 - dice_coefficient: 0.8831\n",
      "Epoch 00008: loss improved from 0.21966 to 0.21937, saving model to model-0.22.h5\n",
      "409/409 [==============================] - 519s 1s/step - loss: 0.2194 - dice_coefficient: 0.8831 - lr: 1.0000e-04\n",
      "Epoch 9/50\n",
      "409/409 [==============================] - ETA: 0s - loss: 0.2186 - dice_coefficient: 0.8838\n",
      "Epoch 00009: loss improved from 0.21937 to 0.21858, saving model to model-0.22.h5\n",
      "409/409 [==============================] - 529s 1s/step - loss: 0.2186 - dice_coefficient: 0.8838 - lr: 1.0000e-04\n",
      "Epoch 10/50\n",
      "409/409 [==============================] - ETA: 0s - loss: 0.2166 - dice_coefficient: 0.8850\n",
      "Epoch 00010: loss improved from 0.21858 to 0.21657, saving model to model-0.22.h5\n",
      "409/409 [==============================] - 531s 1s/step - loss: 0.2166 - dice_coefficient: 0.8850 - lr: 1.0000e-04\n",
      "Epoch 11/50\n",
      "409/409 [==============================] - ETA: 0s - loss: 0.2149 - dice_coefficient: 0.8861\n",
      "Epoch 00011: loss improved from 0.21657 to 0.21487, saving model to model-0.21.h5\n",
      "409/409 [==============================] - 531s 1s/step - loss: 0.2149 - dice_coefficient: 0.8861 - lr: 1.0000e-04\n",
      "Epoch 12/50\n",
      "409/409 [==============================] - ETA: 0s - loss: 0.2133 - dice_coefficient: 0.8870\n",
      "Epoch 00012: loss improved from 0.21487 to 0.21331, saving model to model-0.21.h5\n",
      "409/409 [==============================] - 536s 1s/step - loss: 0.2133 - dice_coefficient: 0.8870 - lr: 1.0000e-04\n",
      "Epoch 13/50\n",
      "409/409 [==============================] - ETA: 0s - loss: 0.2124 - dice_coefficient: 0.8876\n",
      "Epoch 00013: loss improved from 0.21331 to 0.21237, saving model to model-0.21.h5\n",
      "409/409 [==============================] - 536s 1s/step - loss: 0.2124 - dice_coefficient: 0.8876 - lr: 1.0000e-04\n",
      "Epoch 14/50\n",
      "409/409 [==============================] - ETA: 0s - loss: 0.2119 - dice_coefficient: 0.8880\n",
      "Epoch 00014: loss improved from 0.21237 to 0.21191, saving model to model-0.21.h5\n",
      "409/409 [==============================] - 535s 1s/step - loss: 0.2119 - dice_coefficient: 0.8880 - lr: 1.0000e-04\n",
      "Epoch 15/50\n",
      "409/409 [==============================] - ETA: 0s - loss: 0.2125 - dice_coefficient: 0.8876\n",
      "Epoch 00015: loss did not improve from 0.21191\n",
      "409/409 [==============================] - 534s 1s/step - loss: 0.2125 - dice_coefficient: 0.8876 - lr: 1.0000e-04\n",
      "Epoch 16/50\n",
      "409/409 [==============================] - ETA: 0s - loss: 0.2103 - dice_coefficient: 0.8892\n",
      "Epoch 00016: loss improved from 0.21191 to 0.21026, saving model to model-0.21.h5\n",
      "409/409 [==============================] - 534s 1s/step - loss: 0.2103 - dice_coefficient: 0.8892 - lr: 1.0000e-04\n",
      "Epoch 17/50\n",
      "409/409 [==============================] - ETA: 0s - loss: 0.2073 - dice_coefficient: 0.8906\n",
      "Epoch 00017: loss improved from 0.21026 to 0.20728, saving model to model-0.21.h5\n",
      "409/409 [==============================] - 542s 1s/step - loss: 0.2073 - dice_coefficient: 0.8906 - lr: 1.0000e-04\n",
      "Epoch 18/50\n",
      "409/409 [==============================] - ETA: 0s - loss: 0.2048 - dice_coefficient: 0.8920\n",
      "Epoch 00018: loss improved from 0.20728 to 0.20482, saving model to model-0.20.h5\n",
      "409/409 [==============================] - 537s 1s/step - loss: 0.2048 - dice_coefficient: 0.8920 - lr: 1.0000e-04\n",
      "Epoch 19/50\n",
      "409/409 [==============================] - ETA: 0s - loss: 0.2037 - dice_coefficient: 0.8927\n",
      "Epoch 00019: loss improved from 0.20482 to 0.20374, saving model to model-0.20.h5\n",
      "409/409 [==============================] - 521s 1s/step - loss: 0.2037 - dice_coefficient: 0.8927 - lr: 1.0000e-04\n",
      "Epoch 20/50\n",
      "409/409 [==============================] - ETA: 0s - loss: 0.2040 - dice_coefficient: 0.8926\n",
      "Epoch 00020: loss did not improve from 0.20374\n",
      "409/409 [==============================] - 516s 1s/step - loss: 0.2040 - dice_coefficient: 0.8926 - lr: 1.0000e-04\n",
      "Epoch 21/50\n",
      "409/409 [==============================] - ETA: 0s - loss: 0.2031 - dice_coefficient: 0.8931\n",
      "Epoch 00021: loss improved from 0.20374 to 0.20311, saving model to model-0.20.h5\n",
      "409/409 [==============================] - 519s 1s/step - loss: 0.2031 - dice_coefficient: 0.8931 - lr: 1.0000e-04\n",
      "Epoch 22/50\n",
      "409/409 [==============================] - ETA: 0s - loss: 0.2028 - dice_coefficient: 0.8937\n",
      "Epoch 00022: loss improved from 0.20311 to 0.20280, saving model to model-0.20.h5\n",
      "409/409 [==============================] - 518s 1s/step - loss: 0.2028 - dice_coefficient: 0.8937 - lr: 1.0000e-04\n",
      "Epoch 23/50\n",
      "409/409 [==============================] - ETA: 0s - loss: 0.2011 - dice_coefficient: 0.8942\n",
      "Epoch 00023: loss improved from 0.20280 to 0.20114, saving model to model-0.20.h5\n",
      "409/409 [==============================] - 516s 1s/step - loss: 0.2011 - dice_coefficient: 0.8942 - lr: 1.0000e-04\n",
      "Epoch 24/50\n",
      "409/409 [==============================] - ETA: 0s - loss: 0.2001 - dice_coefficient: 0.8951\n",
      "Epoch 00024: loss improved from 0.20114 to 0.20010, saving model to model-0.20.h5\n",
      "409/409 [==============================] - 514s 1s/step - loss: 0.2001 - dice_coefficient: 0.8951 - lr: 1.0000e-04\n",
      "Epoch 25/50\n",
      "409/409 [==============================] - ETA: 0s - loss: 0.2001 - dice_coefficient: 0.8951\n",
      "Epoch 00025: loss improved from 0.20010 to 0.20007, saving model to model-0.20.h5\n",
      "409/409 [==============================] - 516s 1s/step - loss: 0.2001 - dice_coefficient: 0.8951 - lr: 1.0000e-04\n",
      "Epoch 26/50\n",
      "409/409 [==============================] - ETA: 0s - loss: 0.1993 - dice_coefficient: 0.8954\n",
      "Epoch 00026: loss improved from 0.20007 to 0.19928, saving model to model-0.20.h5\n",
      "409/409 [==============================] - 516s 1s/step - loss: 0.1993 - dice_coefficient: 0.8954 - lr: 1.0000e-04\n",
      "Epoch 27/50\n",
      "409/409 [==============================] - ETA: 0s - loss: 0.1971 - dice_coefficient: 0.8969\n",
      "Epoch 00027: loss improved from 0.19928 to 0.19711, saving model to model-0.20.h5\n",
      "409/409 [==============================] - 515s 1s/step - loss: 0.1971 - dice_coefficient: 0.8969 - lr: 1.0000e-04\n",
      "Epoch 28/50\n",
      "409/409 [==============================] - ETA: 0s - loss: 0.1961 - dice_coefficient: 0.8973\n",
      "Epoch 00028: loss improved from 0.19711 to 0.19607, saving model to model-0.20.h5\n",
      "409/409 [==============================] - 514s 1s/step - loss: 0.1961 - dice_coefficient: 0.8973 - lr: 1.0000e-04\n",
      "Epoch 29/50\n",
      "409/409 [==============================] - ETA: 0s - loss: 0.1952 - dice_coefficient: 0.8980\n",
      "Epoch 00029: loss improved from 0.19607 to 0.19520, saving model to model-0.20.h5\n",
      "409/409 [==============================] - 513s 1s/step - loss: 0.1952 - dice_coefficient: 0.8980 - lr: 1.0000e-04\n",
      "Epoch 30/50\n",
      "409/409 [==============================] - ETA: 0s - loss: 0.1935 - dice_coefficient: 0.8991\n",
      "Epoch 00030: loss improved from 0.19520 to 0.19349, saving model to model-0.19.h5\n",
      "409/409 [==============================] - 515s 1s/step - loss: 0.1935 - dice_coefficient: 0.8991 - lr: 1.0000e-04\n",
      "Epoch 31/50\n",
      "409/409 [==============================] - ETA: 0s - loss: 0.1931 - dice_coefficient: 0.8989\n",
      "Epoch 00031: loss improved from 0.19349 to 0.19312, saving model to model-0.19.h5\n",
      "409/409 [==============================] - 513s 1s/step - loss: 0.1931 - dice_coefficient: 0.8989 - lr: 1.0000e-04\n",
      "Epoch 32/50\n",
      "409/409 [==============================] - ETA: 0s - loss: 0.1936 - dice_coefficient: 0.8989\n",
      "Epoch 00032: loss did not improve from 0.19312\n",
      "409/409 [==============================] - 517s 1s/step - loss: 0.1936 - dice_coefficient: 0.8989 - lr: 1.0000e-04\n",
      "Epoch 33/50\n",
      "409/409 [==============================] - ETA: 0s - loss: 0.1930 - dice_coefficient: 0.8993\n",
      "Epoch 00033: loss improved from 0.19312 to 0.19298, saving model to model-0.19.h5\n",
      "409/409 [==============================] - 520s 1s/step - loss: 0.1930 - dice_coefficient: 0.8993 - lr: 1.0000e-04\n",
      "Epoch 34/50\n",
      "409/409 [==============================] - ETA: 0s - loss: 0.1928 - dice_coefficient: 0.8994\n",
      "Epoch 00034: loss improved from 0.19298 to 0.19284, saving model to model-0.19.h5\n",
      "409/409 [==============================] - 518s 1s/step - loss: 0.1928 - dice_coefficient: 0.8994 - lr: 1.0000e-04\n",
      "Epoch 35/50\n",
      "409/409 [==============================] - ETA: 0s - loss: 0.1927 - dice_coefficient: 0.8996\n",
      "Epoch 00035: loss improved from 0.19284 to 0.19273, saving model to model-0.19.h5\n",
      "409/409 [==============================] - 517s 1s/step - loss: 0.1927 - dice_coefficient: 0.8996 - lr: 1.0000e-04\n",
      "Epoch 36/50\n",
      "409/409 [==============================] - ETA: 0s - loss: 0.1888 - dice_coefficient: 0.9017\n",
      "Epoch 00036: loss improved from 0.19273 to 0.18883, saving model to model-0.19.h5\n",
      "409/409 [==============================] - 516s 1s/step - loss: 0.1888 - dice_coefficient: 0.9017 - lr: 1.0000e-04\n",
      "Epoch 37/50\n",
      "409/409 [==============================] - ETA: 0s - loss: 0.1873 - dice_coefficient: 0.9026\n",
      "Epoch 00037: loss improved from 0.18883 to 0.18728, saving model to model-0.19.h5\n",
      "409/409 [==============================] - 515s 1s/step - loss: 0.1873 - dice_coefficient: 0.9026 - lr: 1.0000e-04\n",
      "Epoch 38/50\n",
      "409/409 [==============================] - ETA: 0s - loss: 0.1868 - dice_coefficient: 0.9029\n",
      "Epoch 00038: loss improved from 0.18728 to 0.18678, saving model to model-0.19.h5\n",
      "409/409 [==============================] - 517s 1s/step - loss: 0.1868 - dice_coefficient: 0.9029 - lr: 1.0000e-04\n",
      "Epoch 39/50\n",
      "409/409 [==============================] - ETA: 0s - loss: 0.1861 - dice_coefficient: 0.9035\n",
      "Epoch 00039: loss improved from 0.18678 to 0.18609, saving model to model-0.19.h5\n",
      "409/409 [==============================] - 522s 1s/step - loss: 0.1861 - dice_coefficient: 0.9035 - lr: 1.0000e-04\n",
      "Epoch 40/50\n",
      "409/409 [==============================] - ETA: 0s - loss: 0.1866 - dice_coefficient: 0.9032\n",
      "Epoch 00040: loss did not improve from 0.18609\n",
      "409/409 [==============================] - 518s 1s/step - loss: 0.1866 - dice_coefficient: 0.9032 - lr: 1.0000e-04\n",
      "Epoch 41/50\n",
      "409/409 [==============================] - ETA: 0s - loss: 0.1871 - dice_coefficient: 0.9032\n",
      "Epoch 00041: loss did not improve from 0.18609\n",
      "409/409 [==============================] - 519s 1s/step - loss: 0.1871 - dice_coefficient: 0.9032 - lr: 1.0000e-04\n",
      "Epoch 42/50\n",
      "409/409 [==============================] - ETA: 0s - loss: 0.1864 - dice_coefficient: 0.9037\n",
      "Epoch 00042: loss did not improve from 0.18609\n",
      "409/409 [==============================] - 519s 1s/step - loss: 0.1864 - dice_coefficient: 0.9037 - lr: 1.0000e-04\n",
      "Epoch 43/50\n",
      "409/409 [==============================] - ETA: 0s - loss: 0.1854 - dice_coefficient: 0.9043\n",
      "Epoch 00043: loss improved from 0.18609 to 0.18541, saving model to model-0.19.h5\n",
      "409/409 [==============================] - 517s 1s/step - loss: 0.1854 - dice_coefficient: 0.9043 - lr: 1.0000e-04\n",
      "Epoch 44/50\n",
      "409/409 [==============================] - ETA: 0s - loss: 0.1848 - dice_coefficient: 0.9045\n",
      "Epoch 00044: loss improved from 0.18541 to 0.18476, saving model to model-0.18.h5\n",
      "409/409 [==============================] - 517s 1s/step - loss: 0.1848 - dice_coefficient: 0.9045 - lr: 1.0000e-04\n",
      "Epoch 45/50\n",
      "409/409 [==============================] - ETA: 0s - loss: 0.1839 - dice_coefficient: 0.9052\n",
      "Epoch 00045: loss improved from 0.18476 to 0.18391, saving model to model-0.18.h5\n",
      "409/409 [==============================] - 515s 1s/step - loss: 0.1839 - dice_coefficient: 0.9052 - lr: 1.0000e-04\n",
      "Epoch 46/50\n",
      "409/409 [==============================] - ETA: 0s - loss: 0.1828 - dice_coefficient: 0.9058\n",
      "Epoch 00046: loss improved from 0.18391 to 0.18280, saving model to model-0.18.h5\n",
      "409/409 [==============================] - 514s 1s/step - loss: 0.1828 - dice_coefficient: 0.9058 - lr: 1.0000e-04\n",
      "Epoch 47/50\n",
      "409/409 [==============================] - ETA: 0s - loss: 0.1832 - dice_coefficient: 0.9056\n",
      "Epoch 00047: loss did not improve from 0.18280\n",
      "409/409 [==============================] - 512s 1s/step - loss: 0.1832 - dice_coefficient: 0.9056 - lr: 1.0000e-04\n",
      "Epoch 48/50\n",
      "409/409 [==============================] - ETA: 0s - loss: 0.1841 - dice_coefficient: 0.9052\n",
      "Epoch 00048: loss did not improve from 0.18280\n",
      "409/409 [==============================] - 513s 1s/step - loss: 0.1841 - dice_coefficient: 0.9052 - lr: 1.0000e-04\n",
      "Epoch 49/50\n",
      "409/409 [==============================] - ETA: 0s - loss: 0.1830 - dice_coefficient: 0.9058\n",
      "Epoch 00049: loss did not improve from 0.18280\n",
      "409/409 [==============================] - 512s 1s/step - loss: 0.1830 - dice_coefficient: 0.9058 - lr: 1.0000e-04\n",
      "Epoch 50/50\n",
      "409/409 [==============================] - ETA: 0s - loss: 0.1812 - dice_coefficient: 0.9067\n",
      "Epoch 00050: loss improved from 0.18280 to 0.18119, saving model to model-0.18.h5\n",
      "409/409 [==============================] - 511s 1s/step - loss: 0.1812 - dice_coefficient: 0.9067 - lr: 1.0000e-04\n"
     ]
    },
    {
     "data": {
      "text/plain": [
       "<tensorflow.python.keras.callbacks.History at 0x7ff8b7a56400>"
      ]
     },
     "execution_count": 22,
     "metadata": {
      "tags": []
     },
     "output_type": "execute_result"
    }
   ],
   "source": [
    "# contrinue training\n",
    "checkpoint = ModelCheckpoint(\"model-{loss:.2f}.h5\", monitor=\"loss\", verbose=1, save_best_only=True,\n",
    "                             save_weights_only=True, mode=\"min\", period=1)\n",
    "stop = EarlyStopping(monitor=\"loss\", patience=5, mode=\"min\")\n",
    "reduce_lr = ReduceLROnPlateau(monitor=\"loss\", factor=0.2, patience=5, min_lr=1e-6, verbose=1, mode=\"min\")\n",
    "\n",
    "model.fit(x= X_train, y= masks, epochs=50, batch_size=1, verbose=1, callbacks = [checkpoint, stop, reduce_lr])\n"
   ]
  },
  {
   "cell_type": "code",
   "execution_count": null,
   "metadata": {
    "colab": {
     "base_uri": "https://localhost:8080/",
     "height": 1000
    },
    "colab_type": "code",
    "id": "Hx0yM6QhZWxA",
    "outputId": "bbdb25b0-1cfd-4381-aa1c-d2ef514afa00"
   },
   "outputs": [
    {
     "name": "stdout",
     "output_type": "stream",
     "text": [
      "Epoch 1/20\n",
      "409/409 [==============================] - ETA: 0s - loss: 0.1819 - dice_coefficient: 0.9062\n",
      "Epoch 00001: loss did not improve from 0.18119\n",
      "409/409 [==============================] - 512s 1s/step - loss: 0.1819 - dice_coefficient: 0.9062 - lr: 1.0000e-04\n",
      "Epoch 2/20\n",
      "409/409 [==============================] - ETA: 0s - loss: 0.1808 - dice_coefficient: 0.9070\n",
      "Epoch 00002: loss improved from 0.18119 to 0.18079, saving model to model-0.18.h5\n",
      "409/409 [==============================] - 515s 1s/step - loss: 0.1808 - dice_coefficient: 0.9070 - lr: 1.0000e-04\n",
      "Epoch 3/20\n",
      "409/409 [==============================] - ETA: 0s - loss: 0.1788 - dice_coefficient: 0.9081\n",
      "Epoch 00003: loss improved from 0.18079 to 0.17878, saving model to model-0.18.h5\n",
      "409/409 [==============================] - 517s 1s/step - loss: 0.1788 - dice_coefficient: 0.9081 - lr: 1.0000e-04\n",
      "Epoch 4/20\n",
      "409/409 [==============================] - ETA: 0s - loss: 0.1782 - dice_coefficient: 0.9085\n",
      "Epoch 00004: loss improved from 0.17878 to 0.17822, saving model to model-0.18.h5\n",
      "409/409 [==============================] - 513s 1s/step - loss: 0.1782 - dice_coefficient: 0.9085 - lr: 1.0000e-04\n",
      "Epoch 5/20\n",
      "409/409 [==============================] - ETA: 0s - loss: 0.1780 - dice_coefficient: 0.9085\n",
      "Epoch 00005: loss improved from 0.17822 to 0.17802, saving model to model-0.18.h5\n",
      "409/409 [==============================] - 513s 1s/step - loss: 0.1780 - dice_coefficient: 0.9085 - lr: 1.0000e-04\n",
      "Epoch 6/20\n",
      "409/409 [==============================] - ETA: 0s - loss: 0.1777 - dice_coefficient: 0.9090\n",
      "Epoch 00006: loss improved from 0.17802 to 0.17768, saving model to model-0.18.h5\n",
      "409/409 [==============================] - 512s 1s/step - loss: 0.1777 - dice_coefficient: 0.9090 - lr: 1.0000e-04\n",
      "Epoch 7/20\n",
      "409/409 [==============================] - ETA: 0s - loss: 0.1770 - dice_coefficient: 0.9093\n",
      "Epoch 00007: loss improved from 0.17768 to 0.17695, saving model to model-0.18.h5\n",
      "409/409 [==============================] - 512s 1s/step - loss: 0.1770 - dice_coefficient: 0.9093 - lr: 1.0000e-04\n",
      "Epoch 8/20\n",
      "409/409 [==============================] - ETA: 0s - loss: 0.1774 - dice_coefficient: 0.9091\n",
      "Epoch 00008: loss did not improve from 0.17695\n",
      "409/409 [==============================] - 511s 1s/step - loss: 0.1774 - dice_coefficient: 0.9091 - lr: 1.0000e-04\n",
      "Epoch 9/20\n",
      "409/409 [==============================] - ETA: 0s - loss: 0.1774 - dice_coefficient: 0.9093\n",
      "Epoch 00009: loss did not improve from 0.17695\n",
      "409/409 [==============================] - 510s 1s/step - loss: 0.1774 - dice_coefficient: 0.9093 - lr: 1.0000e-04\n",
      "Epoch 10/20\n",
      "409/409 [==============================] - ETA: 0s - loss: 0.1769 - dice_coefficient: 0.9095\n",
      "Epoch 00010: loss improved from 0.17695 to 0.17687, saving model to model-0.18.h5\n",
      "409/409 [==============================] - 512s 1s/step - loss: 0.1769 - dice_coefficient: 0.9095 - lr: 1.0000e-04\n",
      "Epoch 11/20\n",
      "409/409 [==============================] - ETA: 0s - loss: 0.1756 - dice_coefficient: 0.9104\n",
      "Epoch 00011: loss improved from 0.17687 to 0.17563, saving model to model-0.18.h5\n",
      "409/409 [==============================] - 512s 1s/step - loss: 0.1756 - dice_coefficient: 0.9104 - lr: 1.0000e-04\n",
      "Epoch 12/20\n",
      "409/409 [==============================] - ETA: 0s - loss: 0.1754 - dice_coefficient: 0.9104\n",
      "Epoch 00012: loss improved from 0.17563 to 0.17542, saving model to model-0.18.h5\n",
      "409/409 [==============================] - 511s 1s/step - loss: 0.1754 - dice_coefficient: 0.9104 - lr: 1.0000e-04\n",
      "Epoch 13/20\n",
      "409/409 [==============================] - ETA: 0s - loss: 0.1758 - dice_coefficient: 0.9101\n",
      "Epoch 00013: loss did not improve from 0.17542\n",
      "409/409 [==============================] - 509s 1s/step - loss: 0.1758 - dice_coefficient: 0.9101 - lr: 1.0000e-04\n",
      "Epoch 14/20\n",
      "409/409 [==============================] - ETA: 0s - loss: 0.1755 - dice_coefficient: 0.9105\n",
      "Epoch 00014: loss did not improve from 0.17542\n",
      "409/409 [==============================] - 508s 1s/step - loss: 0.1755 - dice_coefficient: 0.9105 - lr: 1.0000e-04\n",
      "Epoch 15/20\n",
      "409/409 [==============================] - ETA: 0s - loss: 0.1767 - dice_coefficient: 0.9097\n",
      "Epoch 00015: loss did not improve from 0.17542\n",
      "409/409 [==============================] - 509s 1s/step - loss: 0.1767 - dice_coefficient: 0.9097 - lr: 1.0000e-04\n",
      "Epoch 16/20\n",
      "409/409 [==============================] - ETA: 0s - loss: 0.1746 - dice_coefficient: 0.9108\n",
      "Epoch 00016: loss improved from 0.17542 to 0.17457, saving model to model-0.17.h5\n",
      "409/409 [==============================] - 512s 1s/step - loss: 0.1746 - dice_coefficient: 0.9108 - lr: 1.0000e-04\n",
      "Epoch 17/20\n",
      "409/409 [==============================] - ETA: 0s - loss: 0.1724 - dice_coefficient: 0.9119\n",
      "Epoch 00017: loss improved from 0.17457 to 0.17240, saving model to model-0.17.h5\n",
      "409/409 [==============================] - 512s 1s/step - loss: 0.1724 - dice_coefficient: 0.9119 - lr: 1.0000e-04\n",
      "Epoch 18/20\n",
      "409/409 [==============================] - ETA: 0s - loss: 0.1710 - dice_coefficient: 0.9129\n",
      "Epoch 00018: loss improved from 0.17240 to 0.17099, saving model to model-0.17.h5\n",
      "409/409 [==============================] - 512s 1s/step - loss: 0.1710 - dice_coefficient: 0.9129 - lr: 1.0000e-04\n",
      "Epoch 19/20\n",
      "409/409 [==============================] - ETA: 0s - loss: 0.1705 - dice_coefficient: 0.9132\n",
      "Epoch 00019: loss improved from 0.17099 to 0.17048, saving model to model-0.17.h5\n",
      "409/409 [==============================] - 514s 1s/step - loss: 0.1705 - dice_coefficient: 0.9132 - lr: 1.0000e-04\n",
      "Epoch 20/20\n",
      "409/409 [==============================] - ETA: 0s - loss: 0.1711 - dice_coefficient: 0.9129\n",
      "Epoch 00020: loss did not improve from 0.17048\n",
      "409/409 [==============================] - 512s 1s/step - loss: 0.1711 - dice_coefficient: 0.9129 - lr: 1.0000e-04\n"
     ]
    },
    {
     "data": {
      "text/plain": [
       "<tensorflow.python.keras.callbacks.History at 0x7ff8b4dbd048>"
      ]
     },
     "execution_count": 23,
     "metadata": {
      "tags": []
     },
     "output_type": "execute_result"
    }
   ],
   "source": [
    "model.fit(x= X_train, y= masks, epochs=20, batch_size=1, verbose=1, callbacks = [checkpoint, stop, reduce_lr])"
   ]
  },
  {
   "cell_type": "code",
   "execution_count": 17,
   "metadata": {
    "colab": {},
    "colab_type": "code",
    "id": "iVmOLDETAJWl"
   },
   "outputs": [],
   "source": [
    "# load the last saved weights\n",
    "model.load_weights('model-0.17.h5')"
   ]
  },
  {
   "cell_type": "code",
   "execution_count": 18,
   "metadata": {
    "colab": {
     "base_uri": "https://localhost:8080/",
     "height": 1000
    },
    "colab_type": "code",
    "id": "BfERV-5-AO9L",
    "outputId": "69010dc4-3f21-44c8-950a-5219e69d8311"
   },
   "outputs": [
    {
     "name": "stdout",
     "output_type": "stream",
     "text": [
      "WARNING:tensorflow:`period` argument is deprecated. Please use `save_freq` to specify the frequency in number of batches seen.\n",
      "Epoch 1/50\n",
      "409/409 [==============================] - ETA: 0s - loss: 0.1713 - dice_coefficient: 0.9128\n",
      "Epoch 00001: loss improved from inf to 0.17126, saving model to model-0.17.h5\n",
      "409/409 [==============================] - 544s 1s/step - loss: 0.1713 - dice_coefficient: 0.9128 - lr: 1.0000e-04\n",
      "Epoch 2/50\n",
      "409/409 [==============================] - ETA: 0s - loss: 0.1742 - dice_coefficient: 0.9115\n",
      "Epoch 00002: loss did not improve from 0.17126\n",
      "409/409 [==============================] - 544s 1s/step - loss: 0.1742 - dice_coefficient: 0.9115 - lr: 1.0000e-04\n",
      "Epoch 3/50\n",
      "409/409 [==============================] - ETA: 0s - loss: 0.1750 - dice_coefficient: 0.9112\n",
      "Epoch 00003: loss did not improve from 0.17126\n",
      "409/409 [==============================] - 543s 1s/step - loss: 0.1750 - dice_coefficient: 0.9112 - lr: 1.0000e-04\n",
      "Epoch 4/50\n",
      "409/409 [==============================] - ETA: 0s - loss: 0.1727 - dice_coefficient: 0.9127\n",
      "Epoch 00004: loss did not improve from 0.17126\n",
      "409/409 [==============================] - 543s 1s/step - loss: 0.1727 - dice_coefficient: 0.9127 - lr: 1.0000e-04\n",
      "Epoch 5/50\n",
      "409/409 [==============================] - ETA: 0s - loss: 0.1706 - dice_coefficient: 0.9135\n",
      "Epoch 00005: loss improved from 0.17126 to 0.17060, saving model to model-0.17.h5\n",
      "409/409 [==============================] - 543s 1s/step - loss: 0.1706 - dice_coefficient: 0.9135 - lr: 1.0000e-04\n",
      "Epoch 6/50\n",
      "409/409 [==============================] - ETA: 0s - loss: 0.1694 - dice_coefficient: 0.9142\n",
      "Epoch 00006: loss improved from 0.17060 to 0.16944, saving model to model-0.17.h5\n",
      "409/409 [==============================] - 543s 1s/step - loss: 0.1694 - dice_coefficient: 0.9142 - lr: 1.0000e-04\n",
      "Epoch 7/50\n",
      "409/409 [==============================] - ETA: 0s - loss: 0.1703 - dice_coefficient: 0.9135\n",
      "Epoch 00007: loss did not improve from 0.16944\n",
      "409/409 [==============================] - 542s 1s/step - loss: 0.1703 - dice_coefficient: 0.9135 - lr: 1.0000e-04\n",
      "Epoch 8/50\n",
      "409/409 [==============================] - ETA: 0s - loss: 0.1712 - dice_coefficient: 0.9132\n",
      "Epoch 00008: loss did not improve from 0.16944\n",
      "409/409 [==============================] - 540s 1s/step - loss: 0.1712 - dice_coefficient: 0.9132 - lr: 1.0000e-04\n",
      "Epoch 9/50\n",
      "409/409 [==============================] - ETA: 0s - loss: 0.1709 - dice_coefficient: 0.9135\n",
      "Epoch 00009: loss did not improve from 0.16944\n",
      "409/409 [==============================] - 540s 1s/step - loss: 0.1709 - dice_coefficient: 0.9135 - lr: 1.0000e-04\n",
      "Epoch 10/50\n",
      "409/409 [==============================] - ETA: 0s - loss: 0.1693 - dice_coefficient: 0.9144\n",
      "Epoch 00010: loss improved from 0.16944 to 0.16930, saving model to model-0.17.h5\n",
      "409/409 [==============================] - 541s 1s/step - loss: 0.1693 - dice_coefficient: 0.9144 - lr: 1.0000e-04\n",
      "Epoch 11/50\n",
      "409/409 [==============================] - ETA: 0s - loss: 0.1688 - dice_coefficient: 0.9146\n",
      "Epoch 00011: loss improved from 0.16930 to 0.16881, saving model to model-0.17.h5\n",
      "409/409 [==============================] - 541s 1s/step - loss: 0.1688 - dice_coefficient: 0.9146 - lr: 1.0000e-04\n",
      "Epoch 12/50\n",
      "409/409 [==============================] - ETA: 0s - loss: 0.1686 - dice_coefficient: 0.9148\n",
      "Epoch 00012: loss improved from 0.16881 to 0.16863, saving model to model-0.17.h5\n",
      "409/409 [==============================] - 541s 1s/step - loss: 0.1686 - dice_coefficient: 0.9148 - lr: 1.0000e-04\n",
      "Epoch 13/50\n",
      "409/409 [==============================] - ETA: 0s - loss: 0.1686 - dice_coefficient: 0.9147\n",
      "Epoch 00013: loss did not improve from 0.16863\n",
      "409/409 [==============================] - 540s 1s/step - loss: 0.1686 - dice_coefficient: 0.9147 - lr: 1.0000e-04\n",
      "Epoch 14/50\n",
      "409/409 [==============================] - ETA: 0s - loss: 0.1683 - dice_coefficient: 0.9150\n",
      "Epoch 00014: loss improved from 0.16863 to 0.16831, saving model to model-0.17.h5\n",
      "409/409 [==============================] - 541s 1s/step - loss: 0.1683 - dice_coefficient: 0.9150 - lr: 1.0000e-04\n",
      "Epoch 15/50\n",
      "409/409 [==============================] - ETA: 0s - loss: 0.1681 - dice_coefficient: 0.9153\n",
      "Epoch 00015: loss improved from 0.16831 to 0.16813, saving model to model-0.17.h5\n",
      "409/409 [==============================] - 553s 1s/step - loss: 0.1681 - dice_coefficient: 0.9153 - lr: 1.0000e-04\n",
      "Epoch 16/50\n",
      "409/409 [==============================] - ETA: 0s - loss: 0.1681 - dice_coefficient: 0.9152\n",
      "Epoch 00016: loss improved from 0.16813 to 0.16806, saving model to model-0.17.h5\n",
      "409/409 [==============================] - 554s 1s/step - loss: 0.1681 - dice_coefficient: 0.9152 - lr: 1.0000e-04\n",
      "Epoch 17/50\n",
      "409/409 [==============================] - ETA: 0s - loss: 0.1677 - dice_coefficient: 0.9155\n",
      "Epoch 00017: loss improved from 0.16806 to 0.16772, saving model to model-0.17.h5\n",
      "409/409 [==============================] - 554s 1s/step - loss: 0.1677 - dice_coefficient: 0.9155 - lr: 1.0000e-04\n",
      "Epoch 18/50\n",
      "409/409 [==============================] - ETA: 0s - loss: 0.1664 - dice_coefficient: 0.9163\n",
      "Epoch 00018: loss improved from 0.16772 to 0.16635, saving model to model-0.17.h5\n",
      "409/409 [==============================] - 553s 1s/step - loss: 0.1664 - dice_coefficient: 0.9163 - lr: 1.0000e-04\n",
      "Epoch 19/50\n",
      "409/409 [==============================] - ETA: 0s - loss: 0.1661 - dice_coefficient: 0.9163\n",
      "Epoch 00019: loss improved from 0.16635 to 0.16613, saving model to model-0.17.h5\n",
      "409/409 [==============================] - 552s 1s/step - loss: 0.1661 - dice_coefficient: 0.9163 - lr: 1.0000e-04\n",
      "Epoch 20/50\n",
      "409/409 [==============================] - ETA: 0s - loss: 0.1665 - dice_coefficient: 0.9162\n",
      "Epoch 00020: loss did not improve from 0.16613\n",
      "409/409 [==============================] - 553s 1s/step - loss: 0.1665 - dice_coefficient: 0.9162 - lr: 1.0000e-04\n",
      "Epoch 21/50\n",
      "409/409 [==============================] - ETA: 0s - loss: 0.1665 - dice_coefficient: 0.9162\n",
      "Epoch 00021: loss did not improve from 0.16613\n",
      "409/409 [==============================] - 552s 1s/step - loss: 0.1665 - dice_coefficient: 0.9162 - lr: 1.0000e-04\n",
      "Epoch 22/50\n",
      "409/409 [==============================] - ETA: 0s - loss: 0.1658 - dice_coefficient: 0.9168\n",
      "Epoch 00022: loss improved from 0.16613 to 0.16575, saving model to model-0.17.h5\n",
      "409/409 [==============================] - 553s 1s/step - loss: 0.1658 - dice_coefficient: 0.9168 - lr: 1.0000e-04\n",
      "Epoch 23/50\n",
      "409/409 [==============================] - ETA: 0s - loss: 0.1653 - dice_coefficient: 0.9168\n",
      "Epoch 00023: loss improved from 0.16575 to 0.16534, saving model to model-0.17.h5\n",
      "409/409 [==============================] - 555s 1s/step - loss: 0.1653 - dice_coefficient: 0.9168 - lr: 1.0000e-04\n",
      "Epoch 24/50\n",
      "409/409 [==============================] - ETA: 0s - loss: 0.1654 - dice_coefficient: 0.9168\n",
      "Epoch 00024: loss did not improve from 0.16534\n",
      "409/409 [==============================] - 556s 1s/step - loss: 0.1654 - dice_coefficient: 0.9168 - lr: 1.0000e-04\n",
      "Epoch 25/50\n",
      "409/409 [==============================] - ETA: 0s - loss: 0.1652 - dice_coefficient: 0.9169\n",
      "Epoch 00025: loss improved from 0.16534 to 0.16519, saving model to model-0.17.h5\n",
      "409/409 [==============================] - 558s 1s/step - loss: 0.1652 - dice_coefficient: 0.9169 - lr: 1.0000e-04\n",
      "Epoch 26/50\n",
      "409/409 [==============================] - ETA: 0s - loss: 0.1648 - dice_coefficient: 0.9173\n",
      "Epoch 00026: loss improved from 0.16519 to 0.16479, saving model to model-0.16.h5\n",
      "409/409 [==============================] - 557s 1s/step - loss: 0.1648 - dice_coefficient: 0.9173 - lr: 1.0000e-04\n",
      "Epoch 27/50\n",
      "409/409 [==============================] - ETA: 0s - loss: 0.1649 - dice_coefficient: 0.9173\n",
      "Epoch 00027: loss did not improve from 0.16479\n",
      "409/409 [==============================] - 551s 1s/step - loss: 0.1649 - dice_coefficient: 0.9173 - lr: 1.0000e-04\n",
      "Epoch 28/50\n",
      "409/409 [==============================] - ETA: 0s - loss: 0.1638 - dice_coefficient: 0.9179\n",
      "Epoch 00028: loss improved from 0.16479 to 0.16379, saving model to model-0.16.h5\n",
      "409/409 [==============================] - 556s 1s/step - loss: 0.1638 - dice_coefficient: 0.9179 - lr: 1.0000e-04\n",
      "Epoch 29/50\n",
      "409/409 [==============================] - ETA: 0s - loss: 0.1634 - dice_coefficient: 0.9181\n",
      "Epoch 00029: loss improved from 0.16379 to 0.16341, saving model to model-0.16.h5\n",
      "409/409 [==============================] - 556s 1s/step - loss: 0.1634 - dice_coefficient: 0.9181 - lr: 1.0000e-04\n",
      "Epoch 30/50\n",
      "409/409 [==============================] - ETA: 0s - loss: 0.1632 - dice_coefficient: 0.9183\n",
      "Epoch 00030: loss improved from 0.16341 to 0.16324, saving model to model-0.16.h5\n",
      "409/409 [==============================] - 557s 1s/step - loss: 0.1632 - dice_coefficient: 0.9183 - lr: 1.0000e-04\n",
      "Epoch 31/50\n",
      "409/409 [==============================] - ETA: 0s - loss: 0.1635 - dice_coefficient: 0.9181\n",
      "Epoch 00031: loss did not improve from 0.16324\n",
      "409/409 [==============================] - 555s 1s/step - loss: 0.1635 - dice_coefficient: 0.9181 - lr: 1.0000e-04\n",
      "Epoch 32/50\n",
      "409/409 [==============================] - ETA: 0s - loss: 0.1637 - dice_coefficient: 0.9180\n",
      "Epoch 00032: loss did not improve from 0.16324\n",
      "409/409 [==============================] - 556s 1s/step - loss: 0.1637 - dice_coefficient: 0.9180 - lr: 1.0000e-04\n",
      "Epoch 33/50\n",
      "409/409 [==============================] - ETA: 0s - loss: 0.1633 - dice_coefficient: 0.9182\n",
      "Epoch 00033: loss did not improve from 0.16324\n",
      "409/409 [==============================] - 557s 1s/step - loss: 0.1633 - dice_coefficient: 0.9182 - lr: 1.0000e-04\n",
      "Epoch 34/50\n",
      "409/409 [==============================] - ETA: 0s - loss: 0.1628 - dice_coefficient: 0.9187\n",
      "Epoch 00034: loss improved from 0.16324 to 0.16281, saving model to model-0.16.h5\n",
      "409/409 [==============================] - 557s 1s/step - loss: 0.1628 - dice_coefficient: 0.9187 - lr: 1.0000e-04\n",
      "Epoch 35/50\n",
      "409/409 [==============================] - ETA: 0s - loss: 0.1639 - dice_coefficient: 0.9180\n",
      "Epoch 00035: loss did not improve from 0.16281\n",
      "409/409 [==============================] - 554s 1s/step - loss: 0.1639 - dice_coefficient: 0.9180 - lr: 1.0000e-04\n",
      "Epoch 36/50\n",
      "409/409 [==============================] - ETA: 0s - loss: 0.1650 - dice_coefficient: 0.9173\n",
      "Epoch 00036: loss did not improve from 0.16281\n",
      "409/409 [==============================] - 554s 1s/step - loss: 0.1650 - dice_coefficient: 0.9173 - lr: 1.0000e-04\n",
      "Epoch 37/50\n",
      "409/409 [==============================] - ETA: 0s - loss: 0.1634 - dice_coefficient: 0.9182\n",
      "Epoch 00037: loss did not improve from 0.16281\n",
      "409/409 [==============================] - 554s 1s/step - loss: 0.1634 - dice_coefficient: 0.9182 - lr: 1.0000e-04\n",
      "Epoch 38/50\n",
      "409/409 [==============================] - ETA: 0s - loss: 0.1623 - dice_coefficient: 0.9189\n",
      "Epoch 00038: loss improved from 0.16281 to 0.16230, saving model to model-0.16.h5\n",
      "409/409 [==============================] - 557s 1s/step - loss: 0.1623 - dice_coefficient: 0.9189 - lr: 1.0000e-04\n",
      "Epoch 39/50\n",
      "409/409 [==============================] - ETA: 0s - loss: 0.1619 - dice_coefficient: 0.9190\n",
      "Epoch 00039: loss improved from 0.16230 to 0.16194, saving model to model-0.16.h5\n",
      "409/409 [==============================] - 555s 1s/step - loss: 0.1619 - dice_coefficient: 0.9190 - lr: 1.0000e-04\n",
      "Epoch 40/50\n",
      "409/409 [==============================] - ETA: 0s - loss: 0.1598 - dice_coefficient: 0.9203\n",
      "Epoch 00040: loss improved from 0.16194 to 0.15980, saving model to model-0.16.h5\n",
      "409/409 [==============================] - 554s 1s/step - loss: 0.1598 - dice_coefficient: 0.9203 - lr: 1.0000e-04\n",
      "Epoch 41/50\n",
      "409/409 [==============================] - ETA: 0s - loss: 0.1590 - dice_coefficient: 0.9207\n",
      "Epoch 00041: loss improved from 0.15980 to 0.15902, saving model to model-0.16.h5\n",
      "409/409 [==============================] - 554s 1s/step - loss: 0.1590 - dice_coefficient: 0.9207 - lr: 1.0000e-04\n",
      "Epoch 42/50\n",
      "409/409 [==============================] - ETA: 0s - loss: 0.1591 - dice_coefficient: 0.9206\n",
      "Epoch 00042: loss did not improve from 0.15902\n",
      "409/409 [==============================] - 553s 1s/step - loss: 0.1591 - dice_coefficient: 0.9206 - lr: 1.0000e-04\n",
      "Epoch 43/50\n",
      "409/409 [==============================] - ETA: 0s - loss: 0.1600 - dice_coefficient: 0.9202\n",
      "Epoch 00043: loss did not improve from 0.15902\n",
      "409/409 [==============================] - 555s 1s/step - loss: 0.1600 - dice_coefficient: 0.9202 - lr: 1.0000e-04\n",
      "Epoch 44/50\n",
      "409/409 [==============================] - ETA: 0s - loss: 0.1606 - dice_coefficient: 0.9200\n",
      "Epoch 00044: loss did not improve from 0.15902\n",
      "409/409 [==============================] - 554s 1s/step - loss: 0.1606 - dice_coefficient: 0.9200 - lr: 1.0000e-04\n",
      "Epoch 45/50\n",
      "409/409 [==============================] - ETA: 0s - loss: 0.1606 - dice_coefficient: 0.9201\n",
      "Epoch 00045: loss did not improve from 0.15902\n",
      "409/409 [==============================] - 556s 1s/step - loss: 0.1606 - dice_coefficient: 0.9201 - lr: 1.0000e-04\n",
      "Epoch 46/50\n",
      "409/409 [==============================] - ETA: 0s - loss: 0.1606 - dice_coefficient: 0.9201\n",
      "Epoch 00046: loss did not improve from 0.15902\n",
      "\n",
      "Epoch 00046: ReduceLROnPlateau reducing learning rate to 1.9999999494757503e-05.\n",
      "409/409 [==============================] - 557s 1s/step - loss: 0.1606 - dice_coefficient: 0.9201 - lr: 1.0000e-04\n"
     ]
    },
    {
     "data": {
      "text/plain": [
       "<tensorflow.python.keras.callbacks.History at 0x7efec81e8080>"
      ]
     },
     "execution_count": 18,
     "metadata": {
      "tags": []
     },
     "output_type": "execute_result"
    }
   ],
   "source": [
    "# contrinue training\n",
    "checkpoint = ModelCheckpoint(\"model-{loss:.2f}.h5\", monitor=\"loss\", verbose=1, save_best_only=True,\n",
    "                             save_weights_only=True, mode=\"min\", period=1)\n",
    "stop = EarlyStopping(monitor=\"loss\", patience=5, mode=\"min\")\n",
    "reduce_lr = ReduceLROnPlateau(monitor=\"loss\", factor=0.2, patience=5, min_lr=1e-6, verbose=1, mode=\"min\")\n",
    "\n",
    "model.fit(x= X_train, y= masks, epochs=50, batch_size=1, verbose=1, callbacks = [checkpoint, stop, reduce_lr])"
   ]
  },
  {
   "cell_type": "markdown",
   "metadata": {},
   "source": [
    "#### The final model has a dice coefficient of 0.92 and loss of 0.1606. Let's predict the mask for a sample image using the model trained."
   ]
  },
  {
   "cell_type": "markdown",
   "metadata": {
    "colab_type": "text",
    "id": "JpLC-e-2sg8A"
   },
   "source": [
    "***Get the predicted mask for a sample image***"
   ]
  },
  {
   "cell_type": "code",
   "execution_count": 19,
   "metadata": {
    "colab": {
     "base_uri": "https://localhost:8080/",
     "height": 286
    },
    "colab_type": "code",
    "id": "Tv-_9NMesf65",
    "outputId": "2f7162d9-365d-47aa-e80e-12943be77a5a"
   },
   "outputs": [
    {
     "data": {
      "text/plain": [
       "<matplotlib.image.AxesImage at 0x7efec4bf6e48>"
      ]
     },
     "execution_count": 19,
     "metadata": {
      "tags": []
     },
     "output_type": "execute_result"
    },
    {
     "data": {
      "image/png": "[encoded data removed]",
      "text/plain": [
       "<Figure size 432x288 with 1 Axes>"
      ]
     },
     "metadata": {
      "needs_background": "light",
      "tags": []
     },
     "output_type": "display_data"
    }
   ],
   "source": [
    "n = 10\n",
    "sample_image = X_train[n]\n",
    "\n",
    "#model.load_weights('model-0.16.h5')\n",
    "pred_mask = cv2.resize(1.0*(model.predict(x=np.array([sample_image]))[0] > 0.5), (IMAGE_WIDTH,IMAGE_HEIGHT))\n",
    "\n",
    "pyplot.imshow(pred_mask)\n"
   ]
  },
  {
   "cell_type": "markdown",
   "metadata": {
    "colab_type": "text",
    "id": "yf0n9RJG80kR"
   },
   "source": [
    "**Impose the mask on the image**"
   ]
  },
  {
   "cell_type": "code",
   "execution_count": 20,
   "metadata": {
    "colab": {
     "base_uri": "https://localhost:8080/",
     "height": 286
    },
    "colab_type": "code",
    "id": "rvECQuhKhKII",
    "outputId": "55ba4f07-39a6-4ed7-de13-e12b95b68e24"
   },
   "outputs": [
    {
     "data": {
      "text/plain": [
       "<matplotlib.image.AxesImage at 0x7efec4b806d8>"
      ]
     },
     "execution_count": 20,
     "metadata": {
      "tags": []
     },
     "output_type": "execute_result"
    },
    {
     "data": {
      "image/png": "[encoded data removed]",
      "text/plain": [
       "<Figure size 432x288 with 1 Axes>"
      ]
     },
     "metadata": {
      "needs_background": "light",
      "tags": []
     },
     "output_type": "display_data"
    }
   ],
   "source": [
    "img = data[n][0]\n",
    "\n",
    "image = cv2.resize(img, (IMAGE_WIDTH, IMAGE_HEIGHT))\n",
    "img_scaled = preprocess_input(np.array(image, dtype=np.float32))\n",
    "\n",
    "pred_mask = cv2.resize(1.0*(model.predict(x=np.array([img_scaled]))[0] > 0.5), (IMAGE_WIDTH,IMAGE_HEIGHT))\n",
    "\n",
    "image2 = image\n",
    "image2[:,:,0] = pred_mask*image[:,:,0]\n",
    "image2[:,:,1] = pred_mask*image[:,:,1]\n",
    "image2[:,:,2] = pred_mask*image[:,:,2]\n",
    "\n",
    "out_image = image2\n",
    "\n",
    "pyplot.imshow(out_image)"
   ]
  },
  {
   "cell_type": "markdown",
   "metadata": {},
   "source": [
    "##### The mask is imposed on the original image and output is shown above"
   ]
  }
 ],
 "metadata": {
  "colab": {
   "collapsed_sections": [],
   "name": "cv_project1.ipynb",
   "provenance": []
  },
  "kernelspec": {
   "display_name": "Python 3",
   "language": "python",
   "name": "python3"
  },
  "language_info": {
   "codemirror_mode": {
    "name": "ipython",
    "version": 3
   },
   "file_extension": ".py",
   "mimetype": "text/x-python",
   "name": "python",
   "nbconvert_exporter": "python",
   "pygments_lexer": "ipython3",
   "version": "3.7.7"
  }
 },
 "nbformat": 4,
 "nbformat_minor": 4
}
