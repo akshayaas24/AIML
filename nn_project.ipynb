{
 "cells": [
  {
   "cell_type": "code",
   "execution_count": 1,
   "metadata": {},
   "outputs": [],
   "source": [
    "# Initialize the random number generator\n",
    "import random\n",
    "random.seed(0)\n",
    "\n",
    "# Ignore the warnings\n",
    "import warnings\n",
    "warnings.filterwarnings(\"ignore\")"
   ]
  },
  {
   "cell_type": "code",
   "execution_count": 2,
   "metadata": {},
   "outputs": [
    {
     "name": "stderr",
     "output_type": "stream",
     "text": [
      "Using TensorFlow backend.\n"
     ]
    }
   ],
   "source": [
    "# loading the required libraries\n",
    "import h5py\n",
    "import numpy as np\n",
    "import tensorflow as tf\n",
    "import keras\n",
    "import matplotlib.pyplot as plt\n",
    "%matplotlib inline\n",
    "from sklearn import metrics"
   ]
  },
  {
   "cell_type": "code",
   "execution_count": 3,
   "metadata": {},
   "outputs": [],
   "source": [
    "# open the file\n",
    "\n",
    "h5f = h5py.File('/content/drive/My Drive/SVHN_single_grey1.h5','r')"
   ]
  },
  {
   "cell_type": "code",
   "execution_count": 4,
   "metadata": {},
   "outputs": [
    {
     "data": {
      "text/plain": [
       "['X_test', 'X_train', 'X_val', 'y_test', 'y_train', 'y_val']"
      ]
     },
     "execution_count": 4,
     "metadata": {},
     "output_type": "execute_result"
    }
   ],
   "source": [
    "list(h5f.keys()) # check the columns in the file"
   ]
  },
  {
   "cell_type": "code",
   "execution_count": 5,
   "metadata": {},
   "outputs": [],
   "source": [
    "# Loading the training, testing and validation datas\n",
    "X_train = h5f['X_train'][:]\n",
    "y_train = h5f['y_train'][:]\n",
    "X_test = h5f['X_test'][:]\n",
    "y_test = h5f['y_test'][:]\n",
    "X_val = h5f['X_val'][:]\n",
    "y_val = h5f['y_val'][:]\n",
    "\n",
    "h5f.close()"
   ]
  },
  {
   "cell_type": "code",
   "execution_count": 6,
   "metadata": {},
   "outputs": [
    {
     "data": {
      "text/plain": [
       "(42000, 32, 32)"
      ]
     },
     "execution_count": 6,
     "metadata": {},
     "output_type": "execute_result"
    }
   ],
   "source": [
    "X_train.shape #checking the numbers of images in training set and its dimensions"
   ]
  },
  {
   "cell_type": "markdown",
   "metadata": {},
   "source": [
    "There are 42000 images in training data of dimension 32X32"
   ]
  },
  {
   "cell_type": "code",
   "execution_count": 7,
   "metadata": {},
   "outputs": [
    {
     "data": {
      "text/plain": [
       "(42000,)"
      ]
     },
     "execution_count": 7,
     "metadata": {},
     "output_type": "execute_result"
    }
   ],
   "source": [
    "y_train.shape"
   ]
  },
  {
   "cell_type": "code",
   "execution_count": 8,
   "metadata": {},
   "outputs": [
    {
     "data": {
      "text/plain": [
       "(60000, 32, 32)"
      ]
     },
     "execution_count": 8,
     "metadata": {},
     "output_type": "execute_result"
    }
   ],
   "source": [
    "X_val.shape #checking the numbers of images in validation set and its dimensions"
   ]
  },
  {
   "cell_type": "markdown",
   "metadata": {},
   "source": [
    "There are 60000 images in validation data of dimension 32X32"
   ]
  },
  {
   "cell_type": "code",
   "execution_count": 9,
   "metadata": {},
   "outputs": [
    {
     "data": {
      "text/plain": [
       "(60000,)"
      ]
     },
     "execution_count": 9,
     "metadata": {},
     "output_type": "execute_result"
    }
   ],
   "source": [
    "y_val.shape"
   ]
  },
  {
   "cell_type": "code",
   "execution_count": 10,
   "metadata": {},
   "outputs": [
    {
     "data": {
      "text/plain": [
       "(18000, 32, 32)"
      ]
     },
     "execution_count": 10,
     "metadata": {},
     "output_type": "execute_result"
    }
   ],
   "source": [
    "X_test.shape #checking the numbers of images in test set and its dimensions"
   ]
  },
  {
   "cell_type": "markdown",
   "metadata": {},
   "source": [
    "There are 18000 images in testing data of dimension 32X32"
   ]
  },
  {
   "cell_type": "code",
   "execution_count": 11,
   "metadata": {},
   "outputs": [
    {
     "data": {
      "text/plain": [
       "(18000,)"
      ]
     },
     "execution_count": 11,
     "metadata": {},
     "output_type": "execute_result"
    }
   ],
   "source": [
    "y_test.shape"
   ]
  },
  {
   "cell_type": "code",
   "execution_count": 12,
   "metadata": {},
   "outputs": [
    {
     "data": {
      "text/plain": [
       "array([1, 7, 2, ..., 7, 9, 2], dtype=uint8)"
      ]
     },
     "execution_count": 12,
     "metadata": {},
     "output_type": "execute_result"
    }
   ],
   "source": [
    "y_test.view() #viewing the contents of y_test"
   ]
  },
  {
   "cell_type": "code",
   "execution_count": 13,
   "metadata": {},
   "outputs": [
    {
     "data": {
      "text/plain": [
       "array([[   0, 4186],\n",
       "       [   1, 4172],\n",
       "       [   2, 4197],\n",
       "       [   3, 4281],\n",
       "       [   4, 4188],\n",
       "       [   5, 4232],\n",
       "       [   6, 4168],\n",
       "       [   7, 4192],\n",
       "       [   8, 4188],\n",
       "       [   9, 4196]], dtype=int64)"
      ]
     },
     "execution_count": 13,
     "metadata": {},
     "output_type": "execute_result"
    }
   ],
   "source": [
    "np.array(np.unique(y_train, return_counts=True)).T"
   ]
  },
  {
   "cell_type": "markdown",
   "metadata": {},
   "source": [
    "The data in the y_train are classified under 10 labels 0 to 9."
   ]
  },
  {
   "cell_type": "code",
   "execution_count": 14,
   "metadata": {},
   "outputs": [
    {
     "data": {
      "text/plain": [
       "array([[   0, 6000],\n",
       "       [   1, 6000],\n",
       "       [   2, 6000],\n",
       "       [   3, 6000],\n",
       "       [   4, 6000],\n",
       "       [   5, 6000],\n",
       "       [   6, 6000],\n",
       "       [   7, 6000],\n",
       "       [   8, 6000],\n",
       "       [   9, 6000]], dtype=int64)"
      ]
     },
     "execution_count": 14,
     "metadata": {},
     "output_type": "execute_result"
    }
   ],
   "source": [
    "np.array(np.unique(y_val, return_counts=True)).T"
   ]
  },
  {
   "cell_type": "markdown",
   "metadata": {},
   "source": [
    "There are equal number of data in all the 10 labels from 0 to 9 in validation data"
   ]
  },
  {
   "cell_type": "code",
   "execution_count": 15,
   "metadata": {},
   "outputs": [
    {
     "data": {
      "text/plain": [
       "array([[   0, 1814],\n",
       "       [   1, 1828],\n",
       "       [   2, 1803],\n",
       "       [   3, 1719],\n",
       "       [   4, 1812],\n",
       "       [   5, 1768],\n",
       "       [   6, 1832],\n",
       "       [   7, 1808],\n",
       "       [   8, 1812],\n",
       "       [   9, 1804]], dtype=int64)"
      ]
     },
     "execution_count": 15,
     "metadata": {},
     "output_type": "execute_result"
    }
   ],
   "source": [
    "np.array(np.unique(y_test, return_counts=True)).T"
   ]
  },
  {
   "cell_type": "markdown",
   "metadata": {},
   "source": [
    "# Convert training, validation and testing labels into one-hot vectors."
   ]
  },
  {
   "cell_type": "code",
   "execution_count": 16,
   "metadata": {},
   "outputs": [],
   "source": [
    "trainY = tf.keras.utils.to_categorical(y_train,num_classes=10)\n",
    "valY = tf.keras.utils.to_categorical(y_val,num_classes=10)\n",
    "testY = tf.keras.utils.to_categorical(y_test,num_classes=10)"
   ]
  },
  {
   "cell_type": "code",
   "execution_count": 17,
   "metadata": {},
   "outputs": [
    {
     "name": "stdout",
     "output_type": "stream",
     "text": [
      "(42000, 10)\n",
      "First 5 examples now are:  [[0. 0. 1. 0. 0. 0. 0. 0. 0. 0.]\n",
      " [0. 0. 0. 0. 0. 0. 1. 0. 0. 0.]\n",
      " [0. 0. 0. 0. 0. 0. 0. 1. 0. 0.]\n",
      " [0. 0. 0. 0. 1. 0. 0. 0. 0. 0.]\n",
      " [0. 0. 0. 0. 1. 0. 0. 0. 0. 0.]]\n"
     ]
    }
   ],
   "source": [
    "print(trainY.shape)\n",
    "print('First 5 examples now are: ', trainY[0:5])"
   ]
  },
  {
   "cell_type": "markdown",
   "metadata": {},
   "source": [
    "# visualize the first 10 training images"
   ]
  },
  {
   "cell_type": "code",
   "execution_count": 18,
   "metadata": {},
   "outputs": [
    {
     "data": {
      "image/png": "[encoded data removed]",
      "text/plain": [
       "<Figure size 432x288 with 1 Axes>"
      ]
     },
     "metadata": {
      "needs_background": "light"
     },
     "output_type": "display_data"
    },
    {
     "data": {
      "image/png": "[encoded data removed]",
      "text/plain": [
       "<Figure size 432x288 with 1 Axes>"
      ]
     },
     "metadata": {
      "needs_background": "light"
     },
     "output_type": "display_data"
    },
    {
     "data": {
      "image/png": "[encoded data removed]",
      "text/plain": [
       "<Figure size 432x288 with 1 Axes>"
      ]
     },
     "metadata": {
      "needs_background": "light"
     },
     "output_type": "display_data"
    },
    {
     "data": {
      "image/png": "[encoded data removed]",
      "text/plain": [
       "<Figure size 432x288 with 1 Axes>"
      ]
     },
     "metadata": {
      "needs_background": "light"
     },
     "output_type": "display_data"
    },
    {
     "data": {
      "image/png": "[encoded data removed]",
      "text/plain": [
       "<Figure size 432x288 with 1 Axes>"
      ]
     },
     "metadata": {
      "needs_background": "light"
     },
     "output_type": "display_data"
    },
    {
     "data": {
      "image/png": "[encoded data removed]",
      "text/plain": [
       "<Figure size 432x288 with 1 Axes>"
      ]
     },
     "metadata": {
      "needs_background": "light"
     },
     "output_type": "display_data"
    },
    {
     "data": {
      "image/png": "[encoded data removed]",
      "text/plain": [
       "<Figure size 432x288 with 1 Axes>"
      ]
     },
     "metadata": {
      "needs_background": "light"
     },
     "output_type": "display_data"
    },
    {
     "data": {
      "image/png": "[encoded data removed]",
      "text/plain": [
       "<Figure size 432x288 with 1 Axes>"
      ]
     },
     "metadata": {
      "needs_background": "light"
     },
     "output_type": "display_data"
    },
    {
     "data": {
      "image/png": "[encoded data removed]",
      "text/plain": [
       "<Figure size 432x288 with 1 Axes>"
      ]
     },
     "metadata": {
      "needs_background": "light"
     },
     "output_type": "display_data"
    },
    {
     "data": {
      "image/png": "[encoded data removed]",
      "text/plain": [
       "<Figure size 432x288 with 1 Axes>"
      ]
     },
     "metadata": {
      "needs_background": "light"
     },
     "output_type": "display_data"
    }
   ],
   "source": [
    "for i in range(10):\n",
    "    image = X_train[i]\n",
    "    plt.figure(i)\n",
    "    plt.imshow(image, cmap= 'gray')"
   ]
  },
  {
   "cell_type": "markdown",
   "metadata": {},
   "source": [
    "# Build a neural Network with a cross entropy loss function and sgd optimizer in Keras. The output layer with 10 neurons as we have 10 classes."
   ]
  },
  {
   "cell_type": "code",
   "execution_count": 19,
   "metadata": {},
   "outputs": [],
   "source": [
    "model = tf.keras.models.Sequential()"
   ]
  },
  {
   "cell_type": "code",
   "execution_count": 20,
   "metadata": {},
   "outputs": [],
   "source": [
    "model.add(tf.keras.layers.Reshape((1024,),input_shape=(32,32,)))"
   ]
  },
  {
   "cell_type": "code",
   "execution_count": 21,
   "metadata": {},
   "outputs": [],
   "source": [
    "model.add(tf.keras.layers.Dense(10,activation='softmax'))"
   ]
  },
  {
   "cell_type": "code",
   "execution_count": 22,
   "metadata": {},
   "outputs": [],
   "source": [
    "model.compile(optimizer='sgd',loss='categorical_crossentropy',metrics=['accuracy'])"
   ]
  },
  {
   "cell_type": "code",
   "execution_count": 23,
   "metadata": {},
   "outputs": [
    {
     "name": "stdout",
     "output_type": "stream",
     "text": [
      "Train on 42000 samples, validate on 60000 samples\n",
      "Epoch 1/10\n",
      "42000/42000 [==============================] - 3s 62us/sample - loss: 5233.7254 - accuracy: 0.0975 - val_loss: 3900.8698 - val_accuracy: 0.1000\n",
      "Epoch 2/10\n",
      "42000/42000 [==============================] - 0s 11us/sample - loss: 5522.4845 - accuracy: 0.0987 - val_loss: 4015.3724 - val_accuracy: 0.1000\n",
      "Epoch 3/10\n",
      "42000/42000 [==============================] - 0s 11us/sample - loss: 5610.7856 - accuracy: 0.1053 - val_loss: 5694.5255 - val_accuracy: 0.1000\n",
      "Epoch 4/10\n",
      "42000/42000 [==============================] - 0s 11us/sample - loss: 5565.1346 - accuracy: 0.1027 - val_loss: 6678.7722 - val_accuracy: 0.1000\n",
      "Epoch 5/10\n",
      "42000/42000 [==============================] - 0s 11us/sample - loss: 5674.0270 - accuracy: 0.1017 - val_loss: 5610.7596 - val_accuracy: 0.1000\n",
      "Epoch 6/10\n",
      "42000/42000 [==============================] - 0s 11us/sample - loss: 5612.3382 - accuracy: 0.1021 - val_loss: 5295.1675 - val_accuracy: 0.1000\n",
      "Epoch 7/10\n",
      "42000/42000 [==============================] - 0s 11us/sample - loss: 5553.4294 - accuracy: 0.1028 - val_loss: 4935.8824 - val_accuracy: 0.1002\n",
      "Epoch 8/10\n",
      "42000/42000 [==============================] - 0s 11us/sample - loss: 5606.7488 - accuracy: 0.0997 - val_loss: 5492.6551 - val_accuracy: 0.1070\n",
      "Epoch 9/10\n",
      "42000/42000 [==============================] - 0s 11us/sample - loss: 5633.9898 - accuracy: 0.1023 - val_loss: 5625.6200 - val_accuracy: 0.1000\n",
      "Epoch 10/10\n",
      "42000/42000 [==============================] - 0s 11us/sample - loss: 5708.4721 - accuracy: 0.1011 - val_loss: 4784.4547 - val_accuracy: 0.1000\n"
     ]
    },
    {
     "data": {
      "text/plain": [
       "<tensorflow.python.keras.callbacks.History at 0x24622aa0448>"
      ]
     },
     "execution_count": 23,
     "metadata": {},
     "output_type": "execute_result"
    }
   ],
   "source": [
    "model.fit(X_train,trainY,epochs=10,validation_data=(X_val,valY),batch_size=2000)"
   ]
  },
  {
   "cell_type": "markdown",
   "metadata": {},
   "source": [
    "The accuracy obtained is very less, so lets try by adding activation functions"
   ]
  },
  {
   "cell_type": "markdown",
   "metadata": {},
   "source": [
    "# Adding activation functions such as reLU to the network"
   ]
  },
  {
   "cell_type": "code",
   "execution_count": 24,
   "metadata": {},
   "outputs": [],
   "source": [
    "model = tf.keras.models.Sequential()"
   ]
  },
  {
   "cell_type": "code",
   "execution_count": 25,
   "metadata": {},
   "outputs": [],
   "source": [
    "model.add(tf.keras.layers.Reshape((1024,),input_shape=(32,32,)))"
   ]
  },
  {
   "cell_type": "code",
   "execution_count": 26,
   "metadata": {},
   "outputs": [],
   "source": [
    "model.add(tf.keras.layers.Dense(100,activation='relu'))"
   ]
  },
  {
   "cell_type": "code",
   "execution_count": 27,
   "metadata": {},
   "outputs": [],
   "source": [
    "model.add(tf.keras.layers.Dense(10,activation='softmax'))"
   ]
  },
  {
   "cell_type": "code",
   "execution_count": 28,
   "metadata": {},
   "outputs": [],
   "source": [
    "model.compile(optimizer='sgd',loss='categorical_crossentropy',metrics=['accuracy'])"
   ]
  },
  {
   "cell_type": "code",
   "execution_count": 29,
   "metadata": {},
   "outputs": [
    {
     "name": "stdout",
     "output_type": "stream",
     "text": [
      "Train on 42000 samples, validate on 60000 samples\n",
      "Epoch 1/10\n",
      "42000/42000 [==============================] - 1s 16us/sample - loss: 286.3439 - accuracy: 0.0995 - val_loss: 2.3679 - val_accuracy: 0.1003\n",
      "Epoch 2/10\n",
      "42000/42000 [==============================] - 0s 11us/sample - loss: 2.3514 - accuracy: 0.0987 - val_loss: 2.3371 - val_accuracy: 0.1004\n",
      "Epoch 3/10\n",
      "42000/42000 [==============================] - 0s 11us/sample - loss: 2.3325 - accuracy: 0.0975 - val_loss: 2.3273 - val_accuracy: 0.1005\n",
      "Epoch 4/10\n",
      "42000/42000 [==============================] - 0s 11us/sample - loss: 2.3250 - accuracy: 0.1000 - val_loss: 2.3221 - val_accuracy: 0.1003\n",
      "Epoch 5/10\n",
      "42000/42000 [==============================] - 0s 11us/sample - loss: 2.3205 - accuracy: 0.0996 - val_loss: 2.3185 - val_accuracy: 0.1003\n",
      "Epoch 6/10\n",
      "42000/42000 [==============================] - 0s 11us/sample - loss: 2.3172 - accuracy: 0.1000 - val_loss: 2.3158 - val_accuracy: 0.1003\n",
      "Epoch 7/10\n",
      "42000/42000 [==============================] - 0s 11us/sample - loss: 2.3145 - accuracy: 0.0999 - val_loss: 2.3138 - val_accuracy: 0.1003\n",
      "Epoch 8/10\n",
      "42000/42000 [==============================] - 0s 11us/sample - loss: 2.3127 - accuracy: 0.0999 - val_loss: 2.3123 - val_accuracy: 0.1003\n",
      "Epoch 9/10\n",
      "42000/42000 [==============================] - 0s 11us/sample - loss: 2.3113 - accuracy: 0.0999 - val_loss: 2.3112 - val_accuracy: 0.1002\n",
      "Epoch 10/10\n",
      "42000/42000 [==============================] - 0s 11us/sample - loss: 2.3102 - accuracy: 0.1000 - val_loss: 2.3103 - val_accuracy: 0.1002\n"
     ]
    },
    {
     "data": {
      "text/plain": [
       "<tensorflow.python.keras.callbacks.History at 0x246217e23c8>"
      ]
     },
     "execution_count": 29,
     "metadata": {},
     "output_type": "execute_result"
    }
   ],
   "source": [
    "model.fit(X_train,trainY,epochs=10,validation_data=(X_val,valY),batch_size=2000)"
   ]
  },
  {
   "cell_type": "markdown",
   "metadata": {},
   "source": [
    "Still the accuracy is less and loss is more, lets try to add batch normalization"
   ]
  },
  {
   "cell_type": "markdown",
   "metadata": {},
   "source": [
    "# Adding Batch Normalization"
   ]
  },
  {
   "cell_type": "code",
   "execution_count": 30,
   "metadata": {},
   "outputs": [],
   "source": [
    "model = tf.keras.models.Sequential()"
   ]
  },
  {
   "cell_type": "code",
   "execution_count": 31,
   "metadata": {},
   "outputs": [],
   "source": [
    "model.add(tf.keras.layers.Reshape((1024,),input_shape=(32,32,)))"
   ]
  },
  {
   "cell_type": "code",
   "execution_count": 32,
   "metadata": {},
   "outputs": [],
   "source": [
    "model.add(tf.keras.layers.BatchNormalization())"
   ]
  },
  {
   "cell_type": "code",
   "execution_count": 33,
   "metadata": {},
   "outputs": [],
   "source": [
    "model.add(tf.keras.layers.Dense(100,activation='relu'))"
   ]
  },
  {
   "cell_type": "code",
   "execution_count": 34,
   "metadata": {},
   "outputs": [],
   "source": [
    "model.add(tf.keras.layers.Dense(10,activation='softmax'))"
   ]
  },
  {
   "cell_type": "code",
   "execution_count": 35,
   "metadata": {},
   "outputs": [],
   "source": [
    "model.compile(optimizer='sgd',loss='categorical_crossentropy',metrics=['accuracy'])"
   ]
  },
  {
   "cell_type": "code",
   "execution_count": 36,
   "metadata": {},
   "outputs": [
    {
     "name": "stdout",
     "output_type": "stream",
     "text": [
      "Train on 42000 samples, validate on 60000 samples\n",
      "Epoch 1/10\n",
      "42000/42000 [==============================] - 2s 50us/sample - loss: 2.9202 - accuracy: 0.1000 - val_loss: 5.8270 - val_accuracy: 0.1041\n",
      "Epoch 2/10\n",
      "42000/42000 [==============================] - 2s 40us/sample - loss: 2.7716 - accuracy: 0.0987 - val_loss: 3.7140 - val_accuracy: 0.1007\n",
      "Epoch 3/10\n",
      "42000/42000 [==============================] - 2s 43us/sample - loss: 2.6902 - accuracy: 0.0995 - val_loss: 3.0794 - val_accuracy: 0.0982\n",
      "Epoch 4/10\n",
      "42000/42000 [==============================] - 2s 40us/sample - loss: 2.6359 - accuracy: 0.0997 - val_loss: 2.8217 - val_accuracy: 0.0993\n",
      "Epoch 5/10\n",
      "42000/42000 [==============================] - 2s 40us/sample - loss: 2.5960 - accuracy: 0.1020 - val_loss: 2.6965 - val_accuracy: 0.1023\n",
      "Epoch 6/10\n",
      "42000/42000 [==============================] - 2s 42us/sample - loss: 2.5650 - accuracy: 0.1053 - val_loss: 2.6261 - val_accuracy: 0.1061\n",
      "Epoch 7/10\n",
      "42000/42000 [==============================] - 2s 43us/sample - loss: 2.5392 - accuracy: 0.1074 - val_loss: 2.5797 - val_accuracy: 0.1097\n",
      "Epoch 8/10\n",
      "42000/42000 [==============================] - 2s 44us/sample - loss: 2.5172 - accuracy: 0.1108 - val_loss: 2.5456 - val_accuracy: 0.1126\n",
      "Epoch 9/10\n",
      "42000/42000 [==============================] - 2s 43us/sample - loss: 2.4979 - accuracy: 0.1135 - val_loss: 2.5182 - val_accuracy: 0.1166\n",
      "Epoch 10/10\n",
      "42000/42000 [==============================] - 2s 41us/sample - loss: 2.4807 - accuracy: 0.1161 - val_loss: 2.4951 - val_accuracy: 0.1196\n"
     ]
    },
    {
     "data": {
      "text/plain": [
       "<tensorflow.python.keras.callbacks.History at 0x24623560708>"
      ]
     },
     "execution_count": 36,
     "metadata": {},
     "output_type": "execute_result"
    }
   ],
   "source": [
    "model.fit(X_train,trainY,epochs=10,validation_data=(X_val,valY),batch_size=2000)"
   ]
  },
  {
   "cell_type": "markdown",
   "metadata": {},
   "source": [
    "# Adding more layers and changing learning rate"
   ]
  },
  {
   "cell_type": "code",
   "execution_count": 37,
   "metadata": {},
   "outputs": [],
   "source": [
    "model = tf.keras.models.Sequential()"
   ]
  },
  {
   "cell_type": "code",
   "execution_count": 38,
   "metadata": {},
   "outputs": [],
   "source": [
    "model.add(tf.keras.layers.Reshape((1024,),input_shape=(32,32,)))"
   ]
  },
  {
   "cell_type": "code",
   "execution_count": 39,
   "metadata": {},
   "outputs": [],
   "source": [
    "model.add(tf.keras.layers.BatchNormalization())"
   ]
  },
  {
   "cell_type": "code",
   "execution_count": 40,
   "metadata": {},
   "outputs": [],
   "source": [
    "model.add(tf.keras.layers.Dense(200,activation='relu'))"
   ]
  },
  {
   "cell_type": "code",
   "execution_count": 41,
   "metadata": {},
   "outputs": [],
   "source": [
    "model.add(tf.keras.layers.Dense(100,activation='relu'))"
   ]
  },
  {
   "cell_type": "code",
   "execution_count": 42,
   "metadata": {},
   "outputs": [],
   "source": [
    "model.add(tf.keras.layers.Dense(50,activation='relu'))"
   ]
  },
  {
   "cell_type": "code",
   "execution_count": 43,
   "metadata": {},
   "outputs": [],
   "source": [
    "model.add(tf.keras.layers.Dense(20,activation='relu'))"
   ]
  },
  {
   "cell_type": "code",
   "execution_count": 44,
   "metadata": {},
   "outputs": [],
   "source": [
    "model.add(tf.keras.layers.Dense(10,activation='softmax'))"
   ]
  },
  {
   "cell_type": "code",
   "execution_count": 45,
   "metadata": {},
   "outputs": [],
   "source": [
    "sgd_optimizer = tf.keras.optimizers.SGD(lr=0.03)\n",
    "model.compile(optimizer=sgd_optimizer,loss='categorical_crossentropy',metrics=['accuracy'])"
   ]
  },
  {
   "cell_type": "code",
   "execution_count": 46,
   "metadata": {},
   "outputs": [
    {
     "name": "stdout",
     "output_type": "stream",
     "text": [
      "Train on 42000 samples, validate on 60000 samples\n",
      "Epoch 1/100\n",
      "42000/42000 [==============================] - 2s 53us/sample - loss: 2.3502 - accuracy: 0.1138 - val_loss: 2.4181 - val_accuracy: 0.1143\n",
      "Epoch 2/100\n",
      "42000/42000 [==============================] - 2s 44us/sample - loss: 2.2752 - accuracy: 0.1467 - val_loss: 2.2954 - val_accuracy: 0.1387\n",
      "Epoch 3/100\n",
      "42000/42000 [==============================] - 2s 44us/sample - loss: 2.2409 - accuracy: 0.1814 - val_loss: 2.2457 - val_accuracy: 0.1780\n",
      "Epoch 4/100\n",
      "42000/42000 [==============================] - 2s 45us/sample - loss: 2.2048 - accuracy: 0.2111 - val_loss: 2.1907 - val_accuracy: 0.2237\n",
      "Epoch 5/100\n",
      "42000/42000 [==============================] - 2s 45us/sample - loss: 2.1617 - accuracy: 0.2426 - val_loss: 2.1349 - val_accuracy: 0.2637\n",
      "Epoch 6/100\n",
      "42000/42000 [==============================] - 2s 44us/sample - loss: 2.1106 - accuracy: 0.2759 - val_loss: 2.0722 - val_accuracy: 0.3007\n",
      "Epoch 7/100\n",
      "42000/42000 [==============================] - 2s 43us/sample - loss: 2.0496 - accuracy: 0.3095 - val_loss: 2.0034 - val_accuracy: 0.3355\n",
      "Epoch 8/100\n",
      "42000/42000 [==============================] - 2s 43us/sample - loss: 1.9801 - accuracy: 0.3434 - val_loss: 1.9264 - val_accuracy: 0.3650\n",
      "Epoch 9/100\n",
      "42000/42000 [==============================] - 2s 44us/sample - loss: 1.9030 - accuracy: 0.3752 - val_loss: 1.8460 - val_accuracy: 0.4046\n",
      "Epoch 10/100\n",
      "42000/42000 [==============================] - 2s 47us/sample - loss: 1.8171 - accuracy: 0.4140 - val_loss: 1.7565 - val_accuracy: 0.4397\n",
      "Epoch 11/100\n",
      "42000/42000 [==============================] - 2s 43us/sample - loss: 1.7397 - accuracy: 0.4439 - val_loss: 1.6889 - val_accuracy: 0.4634\n",
      "Epoch 12/100\n",
      "42000/42000 [==============================] - 2s 43us/sample - loss: 1.6631 - accuracy: 0.4731 - val_loss: 1.6003 - val_accuracy: 0.5021\n",
      "Epoch 13/100\n",
      "42000/42000 [==============================] - 2s 44us/sample - loss: 1.5714 - accuracy: 0.5142 - val_loss: 1.5604 - val_accuracy: 0.5070\n",
      "Epoch 14/100\n",
      "42000/42000 [==============================] - 2s 43us/sample - loss: 1.5199 - accuracy: 0.5225 - val_loss: 1.4806 - val_accuracy: 0.5412\n",
      "Epoch 15/100\n",
      "42000/42000 [==============================] - 2s 44us/sample - loss: 1.4258 - accuracy: 0.5630 - val_loss: 1.3968 - val_accuracy: 0.5676\n",
      "Epoch 16/100\n",
      "42000/42000 [==============================] - 2s 44us/sample - loss: 1.4044 - accuracy: 0.5574 - val_loss: 1.4363 - val_accuracy: 0.5440\n",
      "Epoch 17/100\n",
      "42000/42000 [==============================] - 2s 44us/sample - loss: 1.3266 - accuracy: 0.5939 - val_loss: 1.2992 - val_accuracy: 0.5979\n",
      "Epoch 18/100\n",
      "42000/42000 [==============================] - 2s 46us/sample - loss: 1.2874 - accuracy: 0.6006 - val_loss: 1.3074 - val_accuracy: 0.5849\n",
      "Epoch 19/100\n",
      "42000/42000 [==============================] - 2s 45us/sample - loss: 1.2376 - accuracy: 0.6173 - val_loss: 1.2129 - val_accuracy: 0.6235\n",
      "Epoch 20/100\n",
      "42000/42000 [==============================] - 2s 45us/sample - loss: 1.2182 - accuracy: 0.6208 - val_loss: 1.1852 - val_accuracy: 0.6329\n",
      "Epoch 21/100\n",
      "42000/42000 [==============================] - 2s 47us/sample - loss: 1.1497 - accuracy: 0.6497 - val_loss: 1.1209 - val_accuracy: 0.6613\n",
      "Epoch 22/100\n",
      "42000/42000 [==============================] - 2s 48us/sample - loss: 1.1440 - accuracy: 0.6480 - val_loss: 1.1101 - val_accuracy: 0.6607\n",
      "Epoch 23/100\n",
      "42000/42000 [==============================] - 2s 49us/sample - loss: 1.1133 - accuracy: 0.6574 - val_loss: 1.0770 - val_accuracy: 0.6751\n",
      "Epoch 24/100\n",
      "42000/42000 [==============================] - 2s 48us/sample - loss: 1.0885 - accuracy: 0.6649 - val_loss: 1.0624 - val_accuracy: 0.6764\n",
      "Epoch 25/100\n",
      "42000/42000 [==============================] - 2s 56us/sample - loss: 1.0542 - accuracy: 0.6788 - val_loss: 1.0187 - val_accuracy: 0.6942\n",
      "Epoch 26/100\n",
      "42000/42000 [==============================] - 2s 54us/sample - loss: 1.0460 - accuracy: 0.6781 - val_loss: 1.1086 - val_accuracy: 0.6523\n",
      "Epoch 27/100\n",
      "42000/42000 [==============================] - 2s 51us/sample - loss: 1.0036 - accuracy: 0.6955 - val_loss: 0.9749 - val_accuracy: 0.7091\n",
      "Epoch 28/100\n",
      "42000/42000 [==============================] - 2s 46us/sample - loss: 1.0119 - accuracy: 0.6893 - val_loss: 0.9537 - val_accuracy: 0.7172\n",
      "Epoch 29/100\n",
      "42000/42000 [==============================] - 2s 45us/sample - loss: 0.9745 - accuracy: 0.7027 - val_loss: 0.9507 - val_accuracy: 0.7130\n",
      "Epoch 30/100\n",
      "42000/42000 [==============================] - 2s 46us/sample - loss: 0.9612 - accuracy: 0.7079 - val_loss: 0.9663 - val_accuracy: 0.7034\n",
      "Epoch 31/100\n",
      "42000/42000 [==============================] - 2s 46us/sample - loss: 0.9432 - accuracy: 0.7132 - val_loss: 0.9334 - val_accuracy: 0.7170\n",
      "Epoch 32/100\n",
      "42000/42000 [==============================] - 2s 45us/sample - loss: 0.9206 - accuracy: 0.7203 - val_loss: 0.9759 - val_accuracy: 0.6972\n",
      "Epoch 33/100\n",
      "42000/42000 [==============================] - 2s 47us/sample - loss: 0.9280 - accuracy: 0.7174 - val_loss: 0.9058 - val_accuracy: 0.7272\n",
      "Epoch 34/100\n",
      "42000/42000 [==============================] - 2s 50us/sample - loss: 0.8969 - accuracy: 0.7258 - val_loss: 0.8785 - val_accuracy: 0.7380\n",
      "Epoch 35/100\n",
      "42000/42000 [==============================] - 2s 50us/sample - loss: 0.8762 - accuracy: 0.7352 - val_loss: 0.9054 - val_accuracy: 0.7240\n",
      "Epoch 36/100\n",
      "42000/42000 [==============================] - 2s 48us/sample - loss: 0.8805 - accuracy: 0.7317 - val_loss: 0.8485 - val_accuracy: 0.7472\n",
      "Epoch 37/100\n",
      "42000/42000 [==============================] - 2s 45us/sample - loss: 0.8520 - accuracy: 0.7392 - val_loss: 0.8720 - val_accuracy: 0.7351\n",
      "Epoch 38/100\n",
      "42000/42000 [==============================] - 2s 45us/sample - loss: 0.8482 - accuracy: 0.7427 - val_loss: 0.8508 - val_accuracy: 0.7441\n",
      "Epoch 39/100\n",
      "42000/42000 [==============================] - 2s 48us/sample - loss: 0.8469 - accuracy: 0.7401 - val_loss: 0.8113 - val_accuracy: 0.7594\n",
      "Epoch 40/100\n",
      "42000/42000 [==============================] - 2s 51us/sample - loss: 0.8093 - accuracy: 0.7568 - val_loss: 0.8541 - val_accuracy: 0.7411\n",
      "Epoch 41/100\n",
      "42000/42000 [==============================] - 2s 55us/sample - loss: 0.8185 - accuracy: 0.7525 - val_loss: 0.8358 - val_accuracy: 0.7463\n",
      "Epoch 42/100\n",
      "42000/42000 [==============================] - 2s 58us/sample - loss: 0.7834 - accuracy: 0.7658 - val_loss: 0.7728 - val_accuracy: 0.7723\n",
      "Epoch 43/100\n",
      "42000/42000 [==============================] - 2s 56us/sample - loss: 0.8049 - accuracy: 0.7553 - val_loss: 0.7796 - val_accuracy: 0.7672\n",
      "Epoch 44/100\n",
      "42000/42000 [==============================] - 2s 51us/sample - loss: 0.7810 - accuracy: 0.7620 - val_loss: 0.8072 - val_accuracy: 0.7536\n",
      "Epoch 45/100\n",
      "42000/42000 [==============================] - 2s 52us/sample - loss: 0.8093 - accuracy: 0.7520 - val_loss: 0.7832 - val_accuracy: 0.7634\n",
      "Epoch 46/100\n",
      "42000/42000 [==============================] - 2s 49us/sample - loss: 0.7491 - accuracy: 0.7739 - val_loss: 0.7705 - val_accuracy: 0.7690\n",
      "Epoch 47/100\n",
      "42000/42000 [==============================] - 2s 51us/sample - loss: 0.7603 - accuracy: 0.7683 - val_loss: 0.7557 - val_accuracy: 0.7738\n",
      "Epoch 48/100\n",
      "42000/42000 [==============================] - 2s 50us/sample - loss: 0.7785 - accuracy: 0.7650 - val_loss: 0.7694 - val_accuracy: 0.7693\n",
      "Epoch 49/100\n",
      "42000/42000 [==============================] - 2s 51us/sample - loss: 0.7635 - accuracy: 0.7640 - val_loss: 0.7546 - val_accuracy: 0.7712\n",
      "Epoch 50/100\n",
      "42000/42000 [==============================] - 2s 48us/sample - loss: 0.7397 - accuracy: 0.7750 - val_loss: 0.7357 - val_accuracy: 0.7798\n",
      "Epoch 51/100\n",
      "42000/42000 [==============================] - 2s 47us/sample - loss: 0.7219 - accuracy: 0.7815 - val_loss: 0.7598 - val_accuracy: 0.7697\n",
      "Epoch 52/100\n",
      "42000/42000 [==============================] - 2s 44us/sample - loss: 0.7343 - accuracy: 0.7763 - val_loss: 0.7074 - val_accuracy: 0.7910\n",
      "Epoch 53/100\n",
      "42000/42000 [==============================] - 2s 45us/sample - loss: 0.7004 - accuracy: 0.7875 - val_loss: 0.7402 - val_accuracy: 0.7750\n",
      "Epoch 54/100\n",
      "42000/42000 [==============================] - 2s 47us/sample - loss: 0.7186 - accuracy: 0.7807 - val_loss: 0.7153 - val_accuracy: 0.7856\n",
      "Epoch 55/100\n",
      "42000/42000 [==============================] - 2s 45us/sample - loss: 0.6924 - accuracy: 0.7914 - val_loss: 0.7045 - val_accuracy: 0.7890\n",
      "Epoch 56/100\n",
      "42000/42000 [==============================] - 2s 46us/sample - loss: 0.7055 - accuracy: 0.7855 - val_loss: 0.7697 - val_accuracy: 0.7653\n",
      "Epoch 57/100\n",
      "42000/42000 [==============================] - 2s 50us/sample - loss: 0.7026 - accuracy: 0.7865 - val_loss: 0.6967 - val_accuracy: 0.7910\n",
      "Epoch 58/100\n",
      "42000/42000 [==============================] - 2s 51us/sample - loss: 0.6648 - accuracy: 0.8013 - val_loss: 0.7472 - val_accuracy: 0.7714\n",
      "Epoch 59/100\n",
      "42000/42000 [==============================] - 2s 46us/sample - loss: 0.7261 - accuracy: 0.7796 - val_loss: 0.8094 - val_accuracy: 0.7560\n",
      "Epoch 60/100\n",
      "42000/42000 [==============================] - 2s 48us/sample - loss: 0.6743 - accuracy: 0.7974 - val_loss: 0.7313 - val_accuracy: 0.7782\n",
      "Epoch 61/100\n",
      "42000/42000 [==============================] - 2s 50us/sample - loss: 0.6747 - accuracy: 0.7950 - val_loss: 0.6784 - val_accuracy: 0.7962\n",
      "Epoch 62/100\n",
      "42000/42000 [==============================] - 2s 48us/sample - loss: 0.6434 - accuracy: 0.8067 - val_loss: 0.6793 - val_accuracy: 0.7957\n",
      "Epoch 63/100\n",
      "42000/42000 [==============================] - 2s 49us/sample - loss: 0.6421 - accuracy: 0.8066 - val_loss: 0.6814 - val_accuracy: 0.7954\n",
      "Epoch 64/100\n",
      "42000/42000 [==============================] - 2s 48us/sample - loss: 0.6507 - accuracy: 0.8023 - val_loss: 0.6838 - val_accuracy: 0.7941\n",
      "Epoch 65/100\n",
      "42000/42000 [==============================] - 2s 51us/sample - loss: 0.6273 - accuracy: 0.8103 - val_loss: 0.6833 - val_accuracy: 0.7923\n",
      "Epoch 66/100\n",
      "42000/42000 [==============================] - 2s 51us/sample - loss: 0.6843 - accuracy: 0.7913 - val_loss: 0.7414 - val_accuracy: 0.7762\n",
      "Epoch 67/100\n",
      "42000/42000 [==============================] - 2s 45us/sample - loss: 0.6500 - accuracy: 0.8011 - val_loss: 0.6549 - val_accuracy: 0.8049\n",
      "Epoch 68/100\n",
      "42000/42000 [==============================] - 2s 44us/sample - loss: 0.6235 - accuracy: 0.8114 - val_loss: 0.7162 - val_accuracy: 0.7840\n",
      "Epoch 69/100\n",
      "42000/42000 [==============================] - 2s 45us/sample - loss: 0.6504 - accuracy: 0.8005 - val_loss: 0.6473 - val_accuracy: 0.8058\n",
      "Epoch 70/100\n",
      "42000/42000 [==============================] - 2s 45us/sample - loss: 0.5970 - accuracy: 0.8200 - val_loss: 0.6473 - val_accuracy: 0.8049\n",
      "Epoch 71/100\n",
      "42000/42000 [==============================] - 2s 45us/sample - loss: 0.6128 - accuracy: 0.8154 - val_loss: 0.9356 - val_accuracy: 0.7341\n",
      "Epoch 72/100\n",
      "42000/42000 [==============================] - 2s 44us/sample - loss: 0.6485 - accuracy: 0.8044 - val_loss: 0.6098 - val_accuracy: 0.8213\n",
      "Epoch 73/100\n",
      "42000/42000 [==============================] - 2s 49us/sample - loss: 0.5825 - accuracy: 0.8257 - val_loss: 0.6912 - val_accuracy: 0.7914\n",
      "Epoch 74/100\n",
      "42000/42000 [==============================] - 2s 47us/sample - loss: 0.6124 - accuracy: 0.8150 - val_loss: 0.6270 - val_accuracy: 0.8142\n",
      "Epoch 75/100\n",
      "42000/42000 [==============================] - 2s 46us/sample - loss: 0.5639 - accuracy: 0.8322 - val_loss: 0.6281 - val_accuracy: 0.8109\n",
      "Epoch 76/100\n",
      "42000/42000 [==============================] - 2s 44us/sample - loss: 0.6053 - accuracy: 0.8137 - val_loss: 0.6227 - val_accuracy: 0.8141\n",
      "Epoch 77/100\n",
      "42000/42000 [==============================] - 2s 45us/sample - loss: 0.5677 - accuracy: 0.8293 - val_loss: 0.7095 - val_accuracy: 0.7870\n",
      "Epoch 78/100\n",
      "42000/42000 [==============================] - 2s 44us/sample - loss: 0.5924 - accuracy: 0.8205 - val_loss: 0.6422 - val_accuracy: 0.8064\n",
      "Epoch 79/100\n",
      "42000/42000 [==============================] - 2s 44us/sample - loss: 0.6013 - accuracy: 0.8163 - val_loss: 0.6300 - val_accuracy: 0.8101\n",
      "Epoch 80/100\n",
      "42000/42000 [==============================] - 2s 44us/sample - loss: 0.5865 - accuracy: 0.8230 - val_loss: 0.6375 - val_accuracy: 0.8093\n",
      "Epoch 81/100\n",
      "42000/42000 [==============================] - 2s 45us/sample - loss: 0.5969 - accuracy: 0.8208 - val_loss: 0.5837 - val_accuracy: 0.8275\n",
      "Epoch 82/100\n",
      "42000/42000 [==============================] - 2s 49us/sample - loss: 0.5891 - accuracy: 0.8190 - val_loss: 0.6191 - val_accuracy: 0.8135\n",
      "Epoch 83/100\n",
      "42000/42000 [==============================] - 2s 45us/sample - loss: 0.5909 - accuracy: 0.8214 - val_loss: 0.5819 - val_accuracy: 0.8281\n",
      "Epoch 84/100\n",
      "42000/42000 [==============================] - 2s 45us/sample - loss: 0.5346 - accuracy: 0.8412 - val_loss: 0.5954 - val_accuracy: 0.8246\n",
      "Epoch 85/100\n",
      "42000/42000 [==============================] - 2s 49us/sample - loss: 0.5618 - accuracy: 0.8300 - val_loss: 0.5848 - val_accuracy: 0.8256\n",
      "Epoch 86/100\n",
      "42000/42000 [==============================] - 2s 46us/sample - loss: 0.5689 - accuracy: 0.8272 - val_loss: 0.5870 - val_accuracy: 0.8247\n",
      "Epoch 87/100\n",
      "42000/42000 [==============================] - 2s 51us/sample - loss: 0.5419 - accuracy: 0.8366 - val_loss: 0.5876 - val_accuracy: 0.8259\n",
      "Epoch 88/100\n",
      "42000/42000 [==============================] - 2s 45us/sample - loss: 0.5502 - accuracy: 0.8315 - val_loss: 0.5952 - val_accuracy: 0.8215\n",
      "Epoch 89/100\n",
      "42000/42000 [==============================] - 2s 48us/sample - loss: 0.5889 - accuracy: 0.8220 - val_loss: 0.6146 - val_accuracy: 0.8171\n",
      "Epoch 90/100\n",
      "42000/42000 [==============================] - 2s 50us/sample - loss: 0.5298 - accuracy: 0.8415 - val_loss: 0.5914 - val_accuracy: 0.8215\n",
      "Epoch 91/100\n",
      "42000/42000 [==============================] - 2s 48us/sample - loss: 0.5110 - accuracy: 0.8470 - val_loss: 0.5754 - val_accuracy: 0.8287\n",
      "Epoch 92/100\n",
      "42000/42000 [==============================] - 2s 46us/sample - loss: 0.5605 - accuracy: 0.8303 - val_loss: 0.5561 - val_accuracy: 0.8365\n",
      "Epoch 93/100\n",
      "42000/42000 [==============================] - 2s 48us/sample - loss: 0.5105 - accuracy: 0.8467 - val_loss: 0.5670 - val_accuracy: 0.8327\n",
      "Epoch 94/100\n",
      "42000/42000 [==============================] - 2s 47us/sample - loss: 0.5389 - accuracy: 0.8362 - val_loss: 0.5791 - val_accuracy: 0.8295\n",
      "Epoch 95/100\n",
      "42000/42000 [==============================] - 2s 45us/sample - loss: 0.5196 - accuracy: 0.8438 - val_loss: 0.5480 - val_accuracy: 0.8395\n",
      "Epoch 96/100\n",
      "42000/42000 [==============================] - 2s 45us/sample - loss: 0.5216 - accuracy: 0.8431 - val_loss: 0.5844 - val_accuracy: 0.8253\n",
      "Epoch 97/100\n",
      "42000/42000 [==============================] - 2s 46us/sample - loss: 0.5228 - accuracy: 0.8407 - val_loss: 0.5513 - val_accuracy: 0.8372\n",
      "Epoch 98/100\n",
      "42000/42000 [==============================] - 2s 49us/sample - loss: 0.5198 - accuracy: 0.8426 - val_loss: 0.6537 - val_accuracy: 0.8064\n",
      "Epoch 99/100\n",
      "42000/42000 [==============================] - 2s 48us/sample - loss: 0.5406 - accuracy: 0.8362 - val_loss: 0.5342 - val_accuracy: 0.8429\n",
      "Epoch 100/100\n",
      "42000/42000 [==============================] - 2s 48us/sample - loss: 0.4968 - accuracy: 0.8503 - val_loss: 0.5444 - val_accuracy: 0.8404\n"
     ]
    },
    {
     "data": {
      "text/plain": [
       "<tensorflow.python.keras.callbacks.History at 0x24624e9f8c8>"
      ]
     },
     "execution_count": 46,
     "metadata": {},
     "output_type": "execute_result"
    }
   ],
   "source": [
    "model.fit(X_train,trainY,epochs=100,validation_data=(X_val,valY),batch_size=2000)"
   ]
  },
  {
   "cell_type": "code",
   "execution_count": 47,
   "metadata": {},
   "outputs": [],
   "source": [
    "sgd_optimizer = tf.keras.optimizers.SGD(lr=0.01) # reducing the learning rate thereby reducing the step size\n",
    "model.compile(optimizer=sgd_optimizer,loss='categorical_crossentropy',metrics=['accuracy'])"
   ]
  },
  {
   "cell_type": "code",
   "execution_count": 48,
   "metadata": {},
   "outputs": [
    {
     "name": "stdout",
     "output_type": "stream",
     "text": [
      "Train on 42000 samples, validate on 60000 samples\n",
      "Epoch 1/100\n",
      "42000/42000 [==============================] - 2s 57us/sample - loss: 0.4584 - accuracy: 0.8663 - val_loss: 0.5103 - val_accuracy: 0.8537\n",
      "Epoch 2/100\n",
      "42000/42000 [==============================] - 2s 46us/sample - loss: 0.4528 - accuracy: 0.8694 - val_loss: 0.5084 - val_accuracy: 0.8546\n",
      "Epoch 3/100\n",
      "42000/42000 [==============================] - 2s 46us/sample - loss: 0.4509 - accuracy: 0.8687 - val_loss: 0.5074 - val_accuracy: 0.8553\n",
      "Epoch 4/100\n",
      "42000/42000 [==============================] - 2s 47us/sample - loss: 0.4496 - accuracy: 0.8692 - val_loss: 0.5069 - val_accuracy: 0.8553\n",
      "Epoch 5/100\n",
      "42000/42000 [==============================] - 2s 49us/sample - loss: 0.4486 - accuracy: 0.8689 - val_loss: 0.5054 - val_accuracy: 0.8557\n",
      "Epoch 6/100\n",
      "42000/42000 [==============================] - 2s 49us/sample - loss: 0.4462 - accuracy: 0.8707 - val_loss: 0.5053 - val_accuracy: 0.8562\n",
      "Epoch 7/100\n",
      "42000/42000 [==============================] - 2s 44us/sample - loss: 0.4454 - accuracy: 0.8707 - val_loss: 0.5032 - val_accuracy: 0.8564\n",
      "Epoch 8/100\n",
      "42000/42000 [==============================] - 2s 47us/sample - loss: 0.4440 - accuracy: 0.8709 - val_loss: 0.5024 - val_accuracy: 0.8565\n",
      "Epoch 9/100\n",
      "42000/42000 [==============================] - 2s 48us/sample - loss: 0.4421 - accuracy: 0.8715 - val_loss: 0.5009 - val_accuracy: 0.8575\n",
      "Epoch 10/100\n",
      "42000/42000 [==============================] - 2s 48us/sample - loss: 0.4418 - accuracy: 0.8714 - val_loss: 0.5001 - val_accuracy: 0.8579\n",
      "Epoch 11/100\n",
      "42000/42000 [==============================] - 2s 49us/sample - loss: 0.4399 - accuracy: 0.8715 - val_loss: 0.4990 - val_accuracy: 0.8575\n",
      "Epoch 12/100\n",
      "42000/42000 [==============================] - 2s 47us/sample - loss: 0.4384 - accuracy: 0.8730 - val_loss: 0.4983 - val_accuracy: 0.8579\n",
      "Epoch 13/100\n",
      "42000/42000 [==============================] - 2s 48us/sample - loss: 0.4363 - accuracy: 0.8730 - val_loss: 0.4973 - val_accuracy: 0.8585\n",
      "Epoch 14/100\n",
      "42000/42000 [==============================] - 2s 50us/sample - loss: 0.4345 - accuracy: 0.8740 - val_loss: 0.4957 - val_accuracy: 0.8591\n",
      "Epoch 15/100\n",
      "42000/42000 [==============================] - 2s 47us/sample - loss: 0.4348 - accuracy: 0.8733 - val_loss: 0.4951 - val_accuracy: 0.8584\n",
      "Epoch 16/100\n",
      "42000/42000 [==============================] - 2s 49us/sample - loss: 0.4331 - accuracy: 0.8734 - val_loss: 0.4941 - val_accuracy: 0.8588\n",
      "Epoch 17/100\n",
      "42000/42000 [==============================] - 2s 50us/sample - loss: 0.4323 - accuracy: 0.8733 - val_loss: 0.4939 - val_accuracy: 0.8594\n",
      "Epoch 18/100\n",
      "42000/42000 [==============================] - 2s 48us/sample - loss: 0.4308 - accuracy: 0.8743 - val_loss: 0.4931 - val_accuracy: 0.8595\n",
      "Epoch 19/100\n",
      "42000/42000 [==============================] - 2s 47us/sample - loss: 0.4293 - accuracy: 0.8755 - val_loss: 0.4921 - val_accuracy: 0.8595\n",
      "Epoch 20/100\n",
      "42000/42000 [==============================] - 2s 46us/sample - loss: 0.4288 - accuracy: 0.8765 - val_loss: 0.4902 - val_accuracy: 0.8605\n",
      "Epoch 21/100\n",
      "42000/42000 [==============================] - 2s 48us/sample - loss: 0.4273 - accuracy: 0.8762 - val_loss: 0.4903 - val_accuracy: 0.8598\n",
      "Epoch 22/100\n",
      "42000/42000 [==============================] - 2s 49us/sample - loss: 0.4255 - accuracy: 0.8765 - val_loss: 0.4883 - val_accuracy: 0.8613\n",
      "Epoch 23/100\n",
      "42000/42000 [==============================] - 2s 47us/sample - loss: 0.4244 - accuracy: 0.8774 - val_loss: 0.4875 - val_accuracy: 0.8613\n",
      "Epoch 24/100\n",
      "42000/42000 [==============================] - 2s 47us/sample - loss: 0.4241 - accuracy: 0.8768 - val_loss: 0.4868 - val_accuracy: 0.8619\n",
      "Epoch 25/100\n",
      "42000/42000 [==============================] - 2s 49us/sample - loss: 0.4230 - accuracy: 0.8773 - val_loss: 0.4862 - val_accuracy: 0.8618\n",
      "Epoch 26/100\n",
      "42000/42000 [==============================] - 2s 47us/sample - loss: 0.4213 - accuracy: 0.8782 - val_loss: 0.4853 - val_accuracy: 0.8621\n",
      "Epoch 27/100\n",
      "42000/42000 [==============================] - 2s 47us/sample - loss: 0.4201 - accuracy: 0.8775 - val_loss: 0.4847 - val_accuracy: 0.8619\n",
      "Epoch 28/100\n",
      "42000/42000 [==============================] - 2s 47us/sample - loss: 0.4185 - accuracy: 0.8788 - val_loss: 0.4837 - val_accuracy: 0.8627\n",
      "Epoch 29/100\n",
      "42000/42000 [==============================] - 2s 48us/sample - loss: 0.4184 - accuracy: 0.8779 - val_loss: 0.4825 - val_accuracy: 0.8629\n",
      "Epoch 30/100\n",
      "42000/42000 [==============================] - 2s 50us/sample - loss: 0.4172 - accuracy: 0.8791 - val_loss: 0.4826 - val_accuracy: 0.8632\n",
      "Epoch 31/100\n",
      "42000/42000 [==============================] - 2s 47us/sample - loss: 0.4160 - accuracy: 0.8796 - val_loss: 0.4808 - val_accuracy: 0.8640\n",
      "Epoch 32/100\n",
      "42000/42000 [==============================] - 2s 48us/sample - loss: 0.4150 - accuracy: 0.8795 - val_loss: 0.4807 - val_accuracy: 0.8640\n",
      "Epoch 33/100\n",
      "42000/42000 [==============================] - 2s 47us/sample - loss: 0.4135 - accuracy: 0.8788 - val_loss: 0.4792 - val_accuracy: 0.8638\n",
      "Epoch 34/100\n",
      "42000/42000 [==============================] - 2s 47us/sample - loss: 0.4126 - accuracy: 0.8793 - val_loss: 0.4788 - val_accuracy: 0.8639\n",
      "Epoch 35/100\n",
      "42000/42000 [==============================] - 2s 50us/sample - loss: 0.4119 - accuracy: 0.8801 - val_loss: 0.4776 - val_accuracy: 0.8652\n",
      "Epoch 36/100\n",
      "42000/42000 [==============================] - 2s 48us/sample - loss: 0.4101 - accuracy: 0.8812 - val_loss: 0.4772 - val_accuracy: 0.8643\n",
      "Epoch 37/100\n",
      "42000/42000 [==============================] - 2s 50us/sample - loss: 0.4098 - accuracy: 0.8809 - val_loss: 0.4758 - val_accuracy: 0.8652\n",
      "Epoch 38/100\n",
      "42000/42000 [==============================] - 2s 49us/sample - loss: 0.4081 - accuracy: 0.8809 - val_loss: 0.4750 - val_accuracy: 0.8661\n",
      "Epoch 39/100\n",
      "42000/42000 [==============================] - 2s 48us/sample - loss: 0.4073 - accuracy: 0.8820 - val_loss: 0.4747 - val_accuracy: 0.8656\n",
      "Epoch 40/100\n",
      "42000/42000 [==============================] - 2s 49us/sample - loss: 0.4055 - accuracy: 0.8824 - val_loss: 0.4739 - val_accuracy: 0.8660\n",
      "Epoch 41/100\n",
      "42000/42000 [==============================] - 2s 52us/sample - loss: 0.4061 - accuracy: 0.8817 - val_loss: 0.4733 - val_accuracy: 0.8661\n",
      "Epoch 42/100\n",
      "42000/42000 [==============================] - 2s 51us/sample - loss: 0.4051 - accuracy: 0.8829 - val_loss: 0.4720 - val_accuracy: 0.8666\n",
      "Epoch 43/100\n",
      "42000/42000 [==============================] - 2s 48us/sample - loss: 0.4024 - accuracy: 0.8834 - val_loss: 0.4721 - val_accuracy: 0.8669\n",
      "Epoch 44/100\n",
      "42000/42000 [==============================] - 2s 52us/sample - loss: 0.4012 - accuracy: 0.8840 - val_loss: 0.4704 - val_accuracy: 0.8671\n",
      "Epoch 45/100\n",
      "42000/42000 [==============================] - 2s 57us/sample - loss: 0.4007 - accuracy: 0.8841 - val_loss: 0.4694 - val_accuracy: 0.8669\n",
      "Epoch 46/100\n",
      "42000/42000 [==============================] - 2s 50us/sample - loss: 0.3995 - accuracy: 0.8846 - val_loss: 0.4696 - val_accuracy: 0.8675\n",
      "Epoch 47/100\n",
      "42000/42000 [==============================] - 2s 52us/sample - loss: 0.3987 - accuracy: 0.8842 - val_loss: 0.4688 - val_accuracy: 0.8675\n",
      "Epoch 48/100\n",
      "42000/42000 [==============================] - 2s 48us/sample - loss: 0.3976 - accuracy: 0.8854 - val_loss: 0.4671 - val_accuracy: 0.8677\n",
      "Epoch 49/100\n",
      "42000/42000 [==============================] - 2s 53us/sample - loss: 0.3964 - accuracy: 0.8858 - val_loss: 0.4667 - val_accuracy: 0.8681\n",
      "Epoch 50/100\n",
      "42000/42000 [==============================] - 2s 51us/sample - loss: 0.3959 - accuracy: 0.8856 - val_loss: 0.4666 - val_accuracy: 0.8686\n",
      "Epoch 51/100\n",
      "42000/42000 [==============================] - 2s 48us/sample - loss: 0.3948 - accuracy: 0.8848 - val_loss: 0.4651 - val_accuracy: 0.8691\n",
      "Epoch 52/100\n",
      "42000/42000 [==============================] - 2s 52us/sample - loss: 0.3938 - accuracy: 0.8860 - val_loss: 0.4643 - val_accuracy: 0.8686\n",
      "Epoch 53/100\n",
      "42000/42000 [==============================] - 2s 49us/sample - loss: 0.3923 - accuracy: 0.8866 - val_loss: 0.4638 - val_accuracy: 0.8697\n",
      "Epoch 54/100\n",
      "42000/42000 [==============================] - 2s 48us/sample - loss: 0.3918 - accuracy: 0.8872 - val_loss: 0.4636 - val_accuracy: 0.8698\n",
      "Epoch 55/100\n",
      "42000/42000 [==============================] - 2s 48us/sample - loss: 0.3907 - accuracy: 0.8867 - val_loss: 0.4623 - val_accuracy: 0.8699\n",
      "Epoch 56/100\n",
      "42000/42000 [==============================] - 2s 45us/sample - loss: 0.3900 - accuracy: 0.8876 - val_loss: 0.4617 - val_accuracy: 0.8699\n",
      "Epoch 57/100\n",
      "42000/42000 [==============================] - 2s 46us/sample - loss: 0.3883 - accuracy: 0.8883 - val_loss: 0.4624 - val_accuracy: 0.8698\n",
      "Epoch 58/100\n",
      "42000/42000 [==============================] - 2s 46us/sample - loss: 0.3882 - accuracy: 0.8873 - val_loss: 0.4617 - val_accuracy: 0.8708\n",
      "Epoch 59/100\n",
      "42000/42000 [==============================] - 2s 52us/sample - loss: 0.3870 - accuracy: 0.8877 - val_loss: 0.4593 - val_accuracy: 0.8710\n",
      "Epoch 60/100\n",
      "42000/42000 [==============================] - 2s 47us/sample - loss: 0.3857 - accuracy: 0.8879 - val_loss: 0.4587 - val_accuracy: 0.8716\n",
      "Epoch 61/100\n",
      "42000/42000 [==============================] - 2s 49us/sample - loss: 0.3851 - accuracy: 0.8893 - val_loss: 0.4589 - val_accuracy: 0.8713\n",
      "Epoch 62/100\n",
      "42000/42000 [==============================] - 2s 46us/sample - loss: 0.3824 - accuracy: 0.8900 - val_loss: 0.4580 - val_accuracy: 0.8712\n",
      "Epoch 63/100\n",
      "42000/42000 [==============================] - 2s 46us/sample - loss: 0.3826 - accuracy: 0.8902 - val_loss: 0.4569 - val_accuracy: 0.8721\n",
      "Epoch 64/100\n",
      "42000/42000 [==============================] - 2s 45us/sample - loss: 0.3818 - accuracy: 0.8898 - val_loss: 0.4553 - val_accuracy: 0.8727\n",
      "Epoch 65/100\n",
      "42000/42000 [==============================] - 2s 45us/sample - loss: 0.3805 - accuracy: 0.8902 - val_loss: 0.4554 - val_accuracy: 0.8723\n",
      "Epoch 66/100\n",
      "42000/42000 [==============================] - 2s 46us/sample - loss: 0.3800 - accuracy: 0.8901 - val_loss: 0.4551 - val_accuracy: 0.8727\n",
      "Epoch 67/100\n",
      "42000/42000 [==============================] - 2s 48us/sample - loss: 0.3789 - accuracy: 0.8907 - val_loss: 0.4546 - val_accuracy: 0.8726\n",
      "Epoch 68/100\n",
      "42000/42000 [==============================] - 2s 52us/sample - loss: 0.3778 - accuracy: 0.8917 - val_loss: 0.4537 - val_accuracy: 0.8729\n",
      "Epoch 69/100\n",
      "42000/42000 [==============================] - 2s 54us/sample - loss: 0.3778 - accuracy: 0.8910 - val_loss: 0.4523 - val_accuracy: 0.8734\n",
      "Epoch 70/100\n",
      "42000/42000 [==============================] - 2s 49us/sample - loss: 0.3756 - accuracy: 0.8919 - val_loss: 0.4529 - val_accuracy: 0.8735\n",
      "Epoch 71/100\n",
      "42000/42000 [==============================] - 2s 50us/sample - loss: 0.3757 - accuracy: 0.8914 - val_loss: 0.4509 - val_accuracy: 0.8745\n",
      "Epoch 72/100\n",
      "42000/42000 [==============================] - 2s 51us/sample - loss: 0.3742 - accuracy: 0.8923 - val_loss: 0.4515 - val_accuracy: 0.8738\n",
      "Epoch 73/100\n",
      "42000/42000 [==============================] - 2s 46us/sample - loss: 0.3729 - accuracy: 0.8938 - val_loss: 0.4520 - val_accuracy: 0.8732\n",
      "Epoch 74/100\n",
      "42000/42000 [==============================] - 2s 46us/sample - loss: 0.3722 - accuracy: 0.8930 - val_loss: 0.4489 - val_accuracy: 0.8748\n",
      "Epoch 75/100\n",
      "42000/42000 [==============================] - 2s 46us/sample - loss: 0.3717 - accuracy: 0.8932 - val_loss: 0.4490 - val_accuracy: 0.8746\n",
      "Epoch 76/100\n",
      "42000/42000 [==============================] - 2s 47us/sample - loss: 0.3706 - accuracy: 0.8933 - val_loss: 0.4483 - val_accuracy: 0.8751\n",
      "Epoch 77/100\n",
      "42000/42000 [==============================] - 2s 47us/sample - loss: 0.3695 - accuracy: 0.8940 - val_loss: 0.4484 - val_accuracy: 0.8748\n",
      "Epoch 78/100\n",
      "42000/42000 [==============================] - 2s 47us/sample - loss: 0.3691 - accuracy: 0.8937 - val_loss: 0.4463 - val_accuracy: 0.8753\n",
      "Epoch 79/100\n",
      "42000/42000 [==============================] - 2s 50us/sample - loss: 0.3686 - accuracy: 0.8942 - val_loss: 0.4459 - val_accuracy: 0.8758\n",
      "Epoch 80/100\n",
      "42000/42000 [==============================] - 2s 51us/sample - loss: 0.3676 - accuracy: 0.8943 - val_loss: 0.4458 - val_accuracy: 0.8757\n",
      "Epoch 81/100\n",
      "42000/42000 [==============================] - 2s 48us/sample - loss: 0.3663 - accuracy: 0.8945 - val_loss: 0.4458 - val_accuracy: 0.8754\n",
      "Epoch 82/100\n",
      "42000/42000 [==============================] - 2s 52us/sample - loss: 0.3663 - accuracy: 0.8947 - val_loss: 0.4435 - val_accuracy: 0.8762\n",
      "Epoch 83/100\n",
      "42000/42000 [==============================] - 2s 53us/sample - loss: 0.3653 - accuracy: 0.8943 - val_loss: 0.4429 - val_accuracy: 0.8773\n",
      "Epoch 84/100\n",
      "42000/42000 [==============================] - 2s 53us/sample - loss: 0.3640 - accuracy: 0.8951 - val_loss: 0.4429 - val_accuracy: 0.8760\n",
      "Epoch 85/100\n",
      "42000/42000 [==============================] - 2s 49us/sample - loss: 0.3638 - accuracy: 0.8950 - val_loss: 0.4421 - val_accuracy: 0.8775\n",
      "Epoch 86/100\n",
      "42000/42000 [==============================] - 2s 48us/sample - loss: 0.3627 - accuracy: 0.8951 - val_loss: 0.4428 - val_accuracy: 0.8766\n",
      "Epoch 87/100\n",
      "42000/42000 [==============================] - 2s 48us/sample - loss: 0.3603 - accuracy: 0.8961 - val_loss: 0.4413 - val_accuracy: 0.8774\n",
      "Epoch 88/100\n",
      "42000/42000 [==============================] - 2s 51us/sample - loss: 0.3603 - accuracy: 0.8966 - val_loss: 0.4403 - val_accuracy: 0.8777\n",
      "Epoch 89/100\n",
      "42000/42000 [==============================] - 2s 52us/sample - loss: 0.3593 - accuracy: 0.8966 - val_loss: 0.4398 - val_accuracy: 0.8774\n",
      "Epoch 90/100\n",
      "42000/42000 [==============================] - 2s 53us/sample - loss: 0.3586 - accuracy: 0.8975 - val_loss: 0.4402 - val_accuracy: 0.8774\n",
      "Epoch 91/100\n",
      "42000/42000 [==============================] - 2s 45us/sample - loss: 0.3569 - accuracy: 0.8971 - val_loss: 0.4391 - val_accuracy: 0.8777\n",
      "Epoch 92/100\n",
      "42000/42000 [==============================] - 2s 48us/sample - loss: 0.3575 - accuracy: 0.8968 - val_loss: 0.4386 - val_accuracy: 0.8785\n",
      "Epoch 93/100\n",
      "42000/42000 [==============================] - 2s 45us/sample - loss: 0.3555 - accuracy: 0.8976 - val_loss: 0.4370 - val_accuracy: 0.8792\n",
      "Epoch 94/100\n",
      "42000/42000 [==============================] - 2s 45us/sample - loss: 0.3554 - accuracy: 0.8980 - val_loss: 0.4362 - val_accuracy: 0.8792\n",
      "Epoch 95/100\n",
      "42000/42000 [==============================] - 2s 44us/sample - loss: 0.3533 - accuracy: 0.8984 - val_loss: 0.4384 - val_accuracy: 0.8783\n",
      "Epoch 96/100\n",
      "42000/42000 [==============================] - 2s 44us/sample - loss: 0.3532 - accuracy: 0.8986 - val_loss: 0.4358 - val_accuracy: 0.8791\n",
      "Epoch 97/100\n",
      "42000/42000 [==============================] - 2s 45us/sample - loss: 0.3526 - accuracy: 0.8982 - val_loss: 0.4352 - val_accuracy: 0.8797\n",
      "Epoch 98/100\n",
      "42000/42000 [==============================] - 2s 45us/sample - loss: 0.3516 - accuracy: 0.8992 - val_loss: 0.4360 - val_accuracy: 0.8789\n",
      "Epoch 99/100\n",
      "42000/42000 [==============================] - 2s 48us/sample - loss: 0.3509 - accuracy: 0.8990 - val_loss: 0.4354 - val_accuracy: 0.8792\n",
      "Epoch 100/100\n",
      "42000/42000 [==============================] - 2s 48us/sample - loss: 0.3498 - accuracy: 0.9000 - val_loss: 0.4349 - val_accuracy: 0.8794\n"
     ]
    },
    {
     "data": {
      "text/plain": [
       "<tensorflow.python.keras.callbacks.History at 0x246268f5f48>"
      ]
     },
     "execution_count": 48,
     "metadata": {},
     "output_type": "execute_result"
    }
   ],
   "source": [
    "model.fit(X_train,trainY,epochs=100,validation_data=(X_val,valY),batch_size=2000)"
   ]
  },
  {
   "cell_type": "code",
   "execution_count": 49,
   "metadata": {},
   "outputs": [],
   "source": [
    "sgd_optimizer = tf.keras.optimizers.SGD(lr=0.001) # reducing the learning rate further\n",
    "model.compile(optimizer=sgd_optimizer,loss='categorical_crossentropy',metrics=['accuracy'])"
   ]
  },
  {
   "cell_type": "code",
   "execution_count": 50,
   "metadata": {},
   "outputs": [
    {
     "name": "stdout",
     "output_type": "stream",
     "text": [
      "Train on 42000 samples, validate on 60000 samples\n",
      "Epoch 1/50\n",
      "42000/42000 [==============================] - 2s 50us/sample - loss: 0.3453 - accuracy: 0.9016 - val_loss: 0.4320 - val_accuracy: 0.8808\n",
      "Epoch 2/50\n",
      "42000/42000 [==============================] - 2s 44us/sample - loss: 0.3453 - accuracy: 0.9013 - val_loss: 0.4318 - val_accuracy: 0.8808\n",
      "Epoch 3/50\n",
      "42000/42000 [==============================] - 2s 45us/sample - loss: 0.3445 - accuracy: 0.9018 - val_loss: 0.4317 - val_accuracy: 0.8809\n",
      "Epoch 4/50\n",
      "42000/42000 [==============================] - 2s 45us/sample - loss: 0.3448 - accuracy: 0.9013 - val_loss: 0.4316 - val_accuracy: 0.8810\n",
      "Epoch 5/50\n",
      "42000/42000 [==============================] - 2s 44us/sample - loss: 0.3446 - accuracy: 0.9020 - val_loss: 0.4316 - val_accuracy: 0.8810\n",
      "Epoch 6/50\n",
      "42000/42000 [==============================] - 2s 44us/sample - loss: 0.3448 - accuracy: 0.9014 - val_loss: 0.4315 - val_accuracy: 0.8809\n",
      "Epoch 7/50\n",
      "42000/42000 [==============================] - 2s 44us/sample - loss: 0.3437 - accuracy: 0.9020 - val_loss: 0.4314 - val_accuracy: 0.8809\n",
      "Epoch 8/50\n",
      "42000/42000 [==============================] - 2s 47us/sample - loss: 0.3442 - accuracy: 0.9016 - val_loss: 0.4314 - val_accuracy: 0.8811\n",
      "Epoch 9/50\n",
      "42000/42000 [==============================] - 2s 46us/sample - loss: 0.3438 - accuracy: 0.9016 - val_loss: 0.4313 - val_accuracy: 0.8808\n",
      "Epoch 10/50\n",
      "42000/42000 [==============================] - 2s 45us/sample - loss: 0.3440 - accuracy: 0.9025 - val_loss: 0.4313 - val_accuracy: 0.8810\n",
      "Epoch 11/50\n",
      "42000/42000 [==============================] - 2s 46us/sample - loss: 0.3433 - accuracy: 0.9026 - val_loss: 0.4312 - val_accuracy: 0.8811\n",
      "Epoch 12/50\n",
      "42000/42000 [==============================] - 2s 45us/sample - loss: 0.3442 - accuracy: 0.9010 - val_loss: 0.4312 - val_accuracy: 0.8811\n",
      "Epoch 13/50\n",
      "42000/42000 [==============================] - 2s 44us/sample - loss: 0.3432 - accuracy: 0.9025 - val_loss: 0.4311 - val_accuracy: 0.8810\n",
      "Epoch 14/50\n",
      "42000/42000 [==============================] - 2s 44us/sample - loss: 0.3432 - accuracy: 0.9024 - val_loss: 0.4310 - val_accuracy: 0.8812\n",
      "Epoch 15/50\n",
      "42000/42000 [==============================] - 2s 44us/sample - loss: 0.3434 - accuracy: 0.9029 - val_loss: 0.4309 - val_accuracy: 0.8812\n",
      "Epoch 16/50\n",
      "42000/42000 [==============================] - 2s 46us/sample - loss: 0.3435 - accuracy: 0.9023 - val_loss: 0.4309 - val_accuracy: 0.8812\n",
      "Epoch 17/50\n",
      "42000/42000 [==============================] - 2s 47us/sample - loss: 0.3436 - accuracy: 0.9020 - val_loss: 0.4309 - val_accuracy: 0.8813\n",
      "Epoch 18/50\n",
      "42000/42000 [==============================] - 2s 45us/sample - loss: 0.3429 - accuracy: 0.9027 - val_loss: 0.4308 - val_accuracy: 0.8811\n",
      "Epoch 19/50\n",
      "42000/42000 [==============================] - 2s 45us/sample - loss: 0.3432 - accuracy: 0.9014 - val_loss: 0.4307 - val_accuracy: 0.8812\n",
      "Epoch 20/50\n",
      "42000/42000 [==============================] - 2s 45us/sample - loss: 0.3426 - accuracy: 0.9026 - val_loss: 0.4307 - val_accuracy: 0.8814\n",
      "Epoch 21/50\n",
      "42000/42000 [==============================] - 2s 45us/sample - loss: 0.3430 - accuracy: 0.9019 - val_loss: 0.4306 - val_accuracy: 0.8813\n",
      "Epoch 22/50\n",
      "42000/42000 [==============================] - 2s 44us/sample - loss: 0.3421 - accuracy: 0.9030 - val_loss: 0.4305 - val_accuracy: 0.8813\n",
      "Epoch 23/50\n",
      "42000/42000 [==============================] - 2s 44us/sample - loss: 0.3430 - accuracy: 0.9022 - val_loss: 0.4305 - val_accuracy: 0.8813\n",
      "Epoch 24/50\n",
      "42000/42000 [==============================] - 2s 44us/sample - loss: 0.3426 - accuracy: 0.9019 - val_loss: 0.4305 - val_accuracy: 0.8813\n",
      "Epoch 25/50\n",
      "42000/42000 [==============================] - 2s 48us/sample - loss: 0.3424 - accuracy: 0.9023 - val_loss: 0.4304 - val_accuracy: 0.8813\n",
      "Epoch 26/50\n",
      "42000/42000 [==============================] - 2s 45us/sample - loss: 0.3428 - accuracy: 0.9022 - val_loss: 0.4304 - val_accuracy: 0.8815\n",
      "Epoch 27/50\n",
      "42000/42000 [==============================] - 2s 44us/sample - loss: 0.3425 - accuracy: 0.9025 - val_loss: 0.4303 - val_accuracy: 0.8815\n",
      "Epoch 28/50\n",
      "42000/42000 [==============================] - 2s 44us/sample - loss: 0.3427 - accuracy: 0.9021 - val_loss: 0.4302 - val_accuracy: 0.8816\n",
      "Epoch 29/50\n",
      "42000/42000 [==============================] - 2s 45us/sample - loss: 0.3422 - accuracy: 0.9027 - val_loss: 0.4302 - val_accuracy: 0.8815\n",
      "Epoch 30/50\n",
      "42000/42000 [==============================] - 2s 45us/sample - loss: 0.3419 - accuracy: 0.9025 - val_loss: 0.4301 - val_accuracy: 0.8816\n",
      "Epoch 31/50\n",
      "42000/42000 [==============================] - 2s 44us/sample - loss: 0.3421 - accuracy: 0.9021 - val_loss: 0.4300 - val_accuracy: 0.8816\n",
      "Epoch 32/50\n",
      "42000/42000 [==============================] - 2s 44us/sample - loss: 0.3421 - accuracy: 0.9025 - val_loss: 0.4300 - val_accuracy: 0.8816\n",
      "Epoch 33/50\n",
      "42000/42000 [==============================] - 2s 45us/sample - loss: 0.3425 - accuracy: 0.9025 - val_loss: 0.4299 - val_accuracy: 0.8816\n",
      "Epoch 34/50\n",
      "42000/42000 [==============================] - 2s 47us/sample - loss: 0.3424 - accuracy: 0.9029 - val_loss: 0.4299 - val_accuracy: 0.8816\n",
      "Epoch 35/50\n",
      "42000/42000 [==============================] - 2s 45us/sample - loss: 0.3418 - accuracy: 0.9019 - val_loss: 0.4298 - val_accuracy: 0.8818\n",
      "Epoch 36/50\n",
      "42000/42000 [==============================] - 2s 45us/sample - loss: 0.3422 - accuracy: 0.9022 - val_loss: 0.4298 - val_accuracy: 0.8816\n",
      "Epoch 37/50\n",
      "42000/42000 [==============================] - 2s 45us/sample - loss: 0.3414 - accuracy: 0.9030 - val_loss: 0.4297 - val_accuracy: 0.8819\n",
      "Epoch 38/50\n",
      "42000/42000 [==============================] - 2s 44us/sample - loss: 0.3422 - accuracy: 0.9027 - val_loss: 0.4297 - val_accuracy: 0.8818\n",
      "Epoch 39/50\n",
      "42000/42000 [==============================] - 2s 44us/sample - loss: 0.3414 - accuracy: 0.9025 - val_loss: 0.4296 - val_accuracy: 0.8816\n",
      "Epoch 40/50\n",
      "42000/42000 [==============================] - 2s 45us/sample - loss: 0.3410 - accuracy: 0.9032 - val_loss: 0.4296 - val_accuracy: 0.8818\n",
      "Epoch 41/50\n",
      "42000/42000 [==============================] - 2s 45us/sample - loss: 0.3420 - accuracy: 0.9025 - val_loss: 0.4295 - val_accuracy: 0.8818\n",
      "Epoch 42/50\n",
      "42000/42000 [==============================] - 2s 47us/sample - loss: 0.3411 - accuracy: 0.9025 - val_loss: 0.4294 - val_accuracy: 0.8819\n",
      "Epoch 43/50\n",
      "42000/42000 [==============================] - 2s 46us/sample - loss: 0.3412 - accuracy: 0.9032 - val_loss: 0.4294 - val_accuracy: 0.8818\n",
      "Epoch 44/50\n",
      "42000/42000 [==============================] - 2s 44us/sample - loss: 0.3410 - accuracy: 0.9023 - val_loss: 0.4293 - val_accuracy: 0.8817\n",
      "Epoch 45/50\n",
      "42000/42000 [==============================] - 2s 44us/sample - loss: 0.3418 - accuracy: 0.9023 - val_loss: 0.4293 - val_accuracy: 0.8817\n",
      "Epoch 46/50\n",
      "42000/42000 [==============================] - 2s 45us/sample - loss: 0.3405 - accuracy: 0.9029 - val_loss: 0.4292 - val_accuracy: 0.8820\n",
      "Epoch 47/50\n",
      "42000/42000 [==============================] - 2s 44us/sample - loss: 0.3408 - accuracy: 0.9030 - val_loss: 0.4291 - val_accuracy: 0.8821\n",
      "Epoch 48/50\n",
      "42000/42000 [==============================] - 2s 43us/sample - loss: 0.3409 - accuracy: 0.9027 - val_loss: 0.4290 - val_accuracy: 0.8820\n",
      "Epoch 49/50\n",
      "42000/42000 [==============================] - 2s 44us/sample - loss: 0.3410 - accuracy: 0.9027 - val_loss: 0.4290 - val_accuracy: 0.8820\n",
      "Epoch 50/50\n",
      "42000/42000 [==============================] - 2s 46us/sample - loss: 0.3404 - accuracy: 0.9030 - val_loss: 0.4290 - val_accuracy: 0.8820\n"
     ]
    },
    {
     "data": {
      "text/plain": [
       "<tensorflow.python.keras.callbacks.History at 0x246229bda08>"
      ]
     },
     "execution_count": 50,
     "metadata": {},
     "output_type": "execute_result"
    }
   ],
   "source": [
    "model.fit(X_train,trainY,epochs=50,validation_data=(X_val,valY),batch_size=2000)"
   ]
  },
  {
   "cell_type": "markdown",
   "metadata": {},
   "source": [
    "The model is giving accuracy of 88% on validation data. Lets check on the test data"
   ]
  },
  {
   "cell_type": "code",
   "execution_count": 51,
   "metadata": {},
   "outputs": [],
   "source": [
    "prediction = model.predict(X_test)"
   ]
  },
  {
   "cell_type": "code",
   "execution_count": 52,
   "metadata": {},
   "outputs": [
    {
     "name": "stdout",
     "output_type": "stream",
     "text": [
      "18000/18000 [==============================] - 0s 20us/sample - loss: 0.6437 - accuracy: 0.8291\n"
     ]
    },
    {
     "data": {
      "text/plain": [
       "[0.6436500735282898, 0.8291111]"
      ]
     },
     "execution_count": 52,
     "metadata": {},
     "output_type": "execute_result"
    }
   ],
   "source": [
    "model.evaluate(X_test,testY)"
   ]
  },
  {
   "cell_type": "markdown",
   "metadata": {},
   "source": [
    "The accuracy on test data is 82.9%"
   ]
  },
  {
   "cell_type": "code",
   "execution_count": 53,
   "metadata": {},
   "outputs": [],
   "source": [
    "y_pred = np.argmax(prediction,axis=1)\n",
    "labels = np.argmax(testY, axis=1)"
   ]
  },
  {
   "cell_type": "markdown",
   "metadata": {},
   "source": [
    "## Classification report"
   ]
  },
  {
   "cell_type": "code",
   "execution_count": 54,
   "metadata": {},
   "outputs": [
    {
     "name": "stdout",
     "output_type": "stream",
     "text": [
      "Classification Report\n",
      "              precision    recall  f1-score   support\n",
      "\n",
      "           0       0.84      0.87      0.85      1814\n",
      "           1       0.85      0.85      0.85      1828\n",
      "           2       0.86      0.85      0.85      1803\n",
      "           3       0.77      0.79      0.78      1719\n",
      "           4       0.86      0.86      0.86      1812\n",
      "           5       0.80      0.81      0.81      1768\n",
      "           6       0.82      0.81      0.81      1832\n",
      "           7       0.87      0.87      0.87      1808\n",
      "           8       0.80      0.78      0.79      1812\n",
      "           9       0.81      0.81      0.81      1804\n",
      "\n",
      "    accuracy                           0.83     18000\n",
      "   macro avg       0.83      0.83      0.83     18000\n",
      "weighted avg       0.83      0.83      0.83     18000\n",
      "\n"
     ]
    }
   ],
   "source": [
    "print(\"Classification Report\")\n",
    "print(metrics.classification_report(labels, y_pred))"
   ]
  },
  {
   "cell_type": "markdown",
   "metadata": {},
   "source": [
    "# Lets check the prediction for some random samples"
   ]
  },
  {
   "cell_type": "code",
   "execution_count": 55,
   "metadata": {},
   "outputs": [
    {
     "data": {
      "text/plain": [
       "<matplotlib.image.AxesImage at 0x246272bd1c8>"
      ]
     },
     "execution_count": 55,
     "metadata": {},
     "output_type": "execute_result"
    },
    {
     "data": {
      "image/png": "[encoded data removed]",
      "text/plain": [
       "<Figure size 432x288 with 1 Axes>"
      ]
     },
     "metadata": {
      "needs_background": "light"
     },
     "output_type": "display_data"
    }
   ],
   "source": [
    "plt.imshow(X_train[0].reshape(32,32), cmap='gray')"
   ]
  },
  {
   "cell_type": "code",
   "execution_count": 56,
   "metadata": {},
   "outputs": [],
   "source": [
    "# Predict Scores for each class\n",
    "predict = model.predict(X_train)"
   ]
  },
  {
   "cell_type": "code",
   "execution_count": 57,
   "metadata": {},
   "outputs": [
    {
     "data": {
      "text/plain": [
       "array([1.2702447e-10, 5.0740107e-10, 9.9998927e-01, 7.7194909e-06,\n",
       "       5.3613750e-12, 4.5004195e-14, 7.3270930e-13, 2.4986487e-06,\n",
       "       4.6235959e-07, 9.3425927e-11], dtype=float32)"
      ]
     },
     "execution_count": 57,
     "metadata": {},
     "output_type": "execute_result"
    }
   ],
   "source": [
    "predict[0]"
   ]
  },
  {
   "cell_type": "code",
   "execution_count": 58,
   "metadata": {},
   "outputs": [
    {
     "data": {
      "text/plain": [
       "2"
      ]
     },
     "execution_count": 58,
     "metadata": {},
     "output_type": "execute_result"
    }
   ],
   "source": [
    "np.argmax(predict[0])"
   ]
  },
  {
   "cell_type": "code",
   "execution_count": 59,
   "metadata": {},
   "outputs": [
    {
     "data": {
      "text/plain": [
       "2"
      ]
     },
     "execution_count": 59,
     "metadata": {},
     "output_type": "execute_result"
    }
   ],
   "source": [
    "y_train[0]"
   ]
  },
  {
   "cell_type": "code",
   "execution_count": 60,
   "metadata": {},
   "outputs": [
    {
     "data": {
      "text/plain": [
       "<matplotlib.image.AxesImage at 0x24627338c88>"
      ]
     },
     "execution_count": 60,
     "metadata": {},
     "output_type": "execute_result"
    },
    {
     "data": {
      "image/png": "[encoded data removed]",
      "text/plain": [
       "<Figure size 432x288 with 1 Axes>"
      ]
     },
     "metadata": {
      "needs_background": "light"
     },
     "output_type": "display_data"
    }
   ],
   "source": [
    "plt.imshow(X_train[24].reshape(32,32), cmap='gray')"
   ]
  },
  {
   "cell_type": "code",
   "execution_count": 61,
   "metadata": {},
   "outputs": [
    {
     "data": {
      "text/plain": [
       "1"
      ]
     },
     "execution_count": 61,
     "metadata": {},
     "output_type": "execute_result"
    }
   ],
   "source": [
    "np.argmax(predict[24])"
   ]
  },
  {
   "cell_type": "code",
   "execution_count": 62,
   "metadata": {},
   "outputs": [
    {
     "data": {
      "text/plain": [
       "1"
      ]
     },
     "execution_count": 62,
     "metadata": {},
     "output_type": "execute_result"
    }
   ],
   "source": [
    "y_train[24]"
   ]
  },
  {
   "cell_type": "code",
   "execution_count": 63,
   "metadata": {},
   "outputs": [
    {
     "data": {
      "text/plain": [
       "<matplotlib.image.AxesImage at 0x246275573c8>"
      ]
     },
     "execution_count": 63,
     "metadata": {},
     "output_type": "execute_result"
    },
    {
     "data": {
      "image/png": "[encoded data removed]",
      "text/plain": [
       "<Figure size 432x288 with 1 Axes>"
      ]
     },
     "metadata": {
      "needs_background": "light"
     },
     "output_type": "display_data"
    }
   ],
   "source": [
    "plt.imshow(X_train[500].reshape(32,32), cmap='gray')"
   ]
  },
  {
   "cell_type": "code",
   "execution_count": 64,
   "metadata": {},
   "outputs": [
    {
     "data": {
      "text/plain": [
       "6"
      ]
     },
     "execution_count": 64,
     "metadata": {},
     "output_type": "execute_result"
    }
   ],
   "source": [
    "y_train[500]"
   ]
  },
  {
   "cell_type": "code",
   "execution_count": 65,
   "metadata": {},
   "outputs": [
    {
     "data": {
      "text/plain": [
       "8"
      ]
     },
     "execution_count": 65,
     "metadata": {},
     "output_type": "execute_result"
    }
   ],
   "source": [
    "np.argmax(predict[500])"
   ]
  },
  {
   "cell_type": "code",
   "execution_count": 66,
   "metadata": {},
   "outputs": [
    {
     "data": {
      "text/plain": [
       "<matplotlib.image.AxesImage at 0x246275bd608>"
      ]
     },
     "execution_count": 66,
     "metadata": {},
     "output_type": "execute_result"
    },
    {
     "data": {
      "image/png": "[encoded data removed]",
      "text/plain": [
       "<Figure size 432x288 with 1 Axes>"
      ]
     },
     "metadata": {
      "needs_background": "light"
     },
     "output_type": "display_data"
    }
   ],
   "source": [
    "plt.imshow(X_train[3000].reshape(32,32), cmap='gray')"
   ]
  },
  {
   "cell_type": "code",
   "execution_count": 67,
   "metadata": {},
   "outputs": [
    {
     "data": {
      "text/plain": [
       "7"
      ]
     },
     "execution_count": 67,
     "metadata": {},
     "output_type": "execute_result"
    }
   ],
   "source": [
    "np.argmax(predict[3000])"
   ]
  },
  {
   "cell_type": "code",
   "execution_count": 68,
   "metadata": {},
   "outputs": [
    {
     "data": {
      "text/plain": [
       "7"
      ]
     },
     "execution_count": 68,
     "metadata": {},
     "output_type": "execute_result"
    }
   ],
   "source": [
    "y_train[3000]"
   ]
  },
  {
   "cell_type": "markdown",
   "metadata": {},
   "source": [
    "### The neural network built with 4 hidden layers with relu activation function, output layer with softmax activation using batch normalization and varying learning rates is giving an accuracy of 82.9% on test data. The prediction done by model on some of the images is also given for four of the test images."
   ]
  }
 ],
 "metadata": {
  "kernelspec": {
   "display_name": "Python 3",
   "language": "python",
   "name": "python3"
  },
  "language_info": {
   "codemirror_mode": {
    "name": "ipython",
    "version": 3
   },
   "file_extension": ".py",
   "mimetype": "text/x-python",
   "name": "python",
   "nbconvert_exporter": "python",
   "pygments_lexer": "ipython3",
   "version": "3.7.7"
  }
 },
 "nbformat": 4,
 "nbformat_minor": 4
}
